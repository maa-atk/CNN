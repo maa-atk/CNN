{
  "nbformat": 4,
  "nbformat_minor": 0,
  "metadata": {
    "colab": {
      "name": "CNNintro.ipynb",
      "provenance": [],
      "collapsed_sections": [],
      "authorship_tag": "ABX9TyPEhgibqYrpWQ/AK9EM01zp",
      "include_colab_link": true
    },
    "kernelspec": {
      "name": "python3",
      "display_name": "Python 3"
    }
  },
  "cells": [
    {
      "cell_type": "markdown",
      "metadata": {
        "id": "view-in-github",
        "colab_type": "text"
      },
      "source": [
        "<a href=\"https://colab.research.google.com/github/maa-atk/CNN/blob/master/CNNintro.ipynb\" target=\"_parent\"><img src=\"https://colab.research.google.com/assets/colab-badge.svg\" alt=\"Open In Colab\"/></a>"
      ]
    },
    {
      "cell_type": "markdown",
      "metadata": {
        "id": "1106ADe7hzgx",
        "colab_type": "text"
      },
      "source": [
        "CNN for images classifications \n",
        "\n",
        "\n",
        "Image Kernel\n",
        "\n",
        "->matrix applied to the whole image\n",
        "\n",
        "->Whats APPLY ?\n",
        "\n",
        "     ->multiply by the filter weight matrix\n",
        "\n",
        "     ->stride:- Moving /  picking group of pixels as a batch\n",
        "\n",
        "->Each fliter aka the matrixes multiplied to each group of pixels are Convilution kernels.\n",
        "\n",
        "->This process of multiplication is convolution.\n",
        "\n",
        "-> Stride is the dim of the matrix is how much one unit matrix scans the initial image.\n",
        "\n",
        "\n",
        "\n",
        "    ->To preserve the border information there is a padding added to the ie\n",
        "     neutral values are added to the borders so thats multiplied also preservers image res\n",
        "\n",
        "->ANN -> if used for images the number of features increase drastically\n",
        "resulting in increased training time \n",
        "\n",
        "\n",
        "\n",
        "->CNN reduces these features by using local connectivity\n",
        "\n",
        "->Pooling= reduces the no of pixels it will reduce the stride and keeps some information \n",
        "example  avg pooling max pooling\n"
      ]
    },
    {
      "cell_type": "markdown",
      "metadata": {
        "id": "cAJKsZ1ZlY-S",
        "colab_type": "text"
      },
      "source": [
        ""
      ]
    }
  ]
}