{
  "nbformat": 4,
  "nbformat_minor": 0,
  "metadata": {
    "colab": {
      "name": "Malariadataset.ipynb",
      "provenance": [],
      "collapsed_sections": []
    },
    "kernelspec": {
      "name": "python3",
      "display_name": "Python 3"
    },
    "accelerator": "GPU"
  },
  "cells": [
    {
      "cell_type": "code",
      "metadata": {
        "id": "2D2mQpV76itP",
        "colab_type": "code",
        "colab": {}
      },
      "source": [
        "import zipfile\n",
        "import os\n",
        "\n",
        "#for unzipping files\n",
        "#!unzip -q \"/content/drive/My Drive/cellzip.zip\"\n",
        "\n"
      ],
      "execution_count": 0,
      "outputs": []
    },
    {
      "cell_type": "code",
      "metadata": {
        "id": "m18G0ff7Oifz",
        "colab_type": "code",
        "outputId": "6fcca425-9c7d-4b9f-8447-e8615d508eea",
        "colab": {
          "base_uri": "https://localhost:8080/",
          "height": 34
        }
      },
      "source": [
        "data_dir='/content/cell_images'\n",
        "\n",
        "os.listdir(data_dir)"
      ],
      "execution_count": 0,
      "outputs": [
        {
          "output_type": "execute_result",
          "data": {
            "text/plain": [
              "['train', 'test']"
            ]
          },
          "metadata": {
            "tags": []
          },
          "execution_count": 89
        }
      ]
    },
    {
      "cell_type": "code",
      "metadata": {
        "id": "L4ufpO_9EilH",
        "colab_type": "code",
        "colab": {}
      },
      "source": [
        "import pandas as pd\n",
        "import numpy as np\n",
        "import matplotlib.pyplot as plt\n",
        "import seaborn as sns\n",
        " #for importing real images\n",
        "\n",
        "from matplotlib.image import imread\n",
        "\n"
      ],
      "execution_count": 0,
      "outputs": []
    },
    {
      "cell_type": "code",
      "metadata": {
        "id": "DQXSZvMfFbbs",
        "colab_type": "code",
        "outputId": "11b9a30d-8591-4c6d-b191-8f6745f0cc0a",
        "colab": {
          "base_uri": "https://localhost:8080/",
          "height": 34
        }
      },
      "source": [
        "test_path=data_dir+'/test/'\n",
        "train_path=data_dir+'/train/'\n",
        "\n",
        "test_path"
      ],
      "execution_count": 0,
      "outputs": [
        {
          "output_type": "execute_result",
          "data": {
            "text/plain": [
              "'/content/cell_images/test/'"
            ]
          },
          "metadata": {
            "tags": []
          },
          "execution_count": 91
        }
      ]
    },
    {
      "cell_type": "code",
      "metadata": {
        "id": "wL-m2WU0GAed",
        "colab_type": "code",
        "outputId": "4c76f403-a09b-4d23-ea57-ac2c248c88f6",
        "colab": {
          "base_uri": "https://localhost:8080/",
          "height": 34
        }
      },
      "source": [
        "os.listdir(test_path)"
      ],
      "execution_count": 0,
      "outputs": [
        {
          "output_type": "execute_result",
          "data": {
            "text/plain": [
              "['parasitized', 'uninfected']"
            ]
          },
          "metadata": {
            "tags": []
          },
          "execution_count": 92
        }
      ]
    },
    {
      "cell_type": "code",
      "metadata": {
        "id": "lukDgcoHGGfh",
        "colab_type": "code",
        "outputId": "d4860186-5d2d-46fd-9fff-82ce5664c4f7",
        "colab": {
          "base_uri": "https://localhost:8080/",
          "height": 34
        }
      },
      "source": [
        "os.listdir(train_path)"
      ],
      "execution_count": 0,
      "outputs": [
        {
          "output_type": "execute_result",
          "data": {
            "text/plain": [
              "['parasitized', 'uninfected']"
            ]
          },
          "metadata": {
            "tags": []
          },
          "execution_count": 93
        }
      ]
    },
    {
      "cell_type": "code",
      "metadata": {
        "id": "N_bhlInWGZgI",
        "colab_type": "code",
        "outputId": "f5652618-3a64-47c0-8f02-fbe8f2dd40d9",
        "colab": {
          "base_uri": "https://localhost:8080/",
          "height": 1000
        }
      },
      "source": [
        "os.listdir(train_path+'parasitized')"
      ],
      "execution_count": 0,
      "outputs": [
        {
          "output_type": "execute_result",
          "data": {
            "text/plain": [
              "['C59P20thinF_IMG_20150803_113051_cell_162.png',\n",
              " 'C136P97ThinF_IMG_20151005_141321_cell_98.png',\n",
              " 'C182P143NThinF_IMG_20151201_171836_cell_169.png',\n",
              " 'C100P61ThinF_IMG_20150918_145042_cell_167.png',\n",
              " 'C180P141NThinF_IMG_20151201_163848_cell_141.png',\n",
              " 'C184P145ThinF_IMG_20151203_104334_cell_2.png',\n",
              " 'C59P20thinF_IMG_20150803_113139_cell_27.png',\n",
              " 'C132P93ThinF_IMG_20151004_152353_cell_136.png',\n",
              " 'C141P102ThinF_IMG_20151005_215348_cell_132.png',\n",
              " 'C48P9thinF_IMG_20150721_161055_cell_176.png',\n",
              " 'C172P133ThinF_IMG_20151119_154936_cell_260.png',\n",
              " 'C124P85ThinF_IMG_20151002_154808_cell_140.png',\n",
              " 'C120P81ThinF_IMG_20151002_130918_cell_206.png',\n",
              " 'C118P79ThinF_IMG_20151002_110725_cell_137.png',\n",
              " 'C182P143NThinF_IMG_20151201_172216_cell_163.png',\n",
              " 'C174P135NThinF_IMG_20151127_135342_cell_225.png',\n",
              " 'C137P98ThinF_IMG_20151005_160256_cell_63.png',\n",
              " 'C116P77ThinF_IMG_20150930_171635_cell_96.png',\n",
              " 'C66P27N_ThinF_IMG_20150818_164408_cell_155.png',\n",
              " 'C39P4thinF_original_IMG_20150622_111206_cell_88.png',\n",
              " 'C182P143NThinF_IMG_20151201_171950_cell_154.png',\n",
              " 'C136P97ThinF_IMG_20151005_141321_cell_99.png',\n",
              " 'C67P28N_ThinF_IMG_20150819_121053_cell_236.png',\n",
              " 'C136P97ThinF_IMG_20151005_142437_cell_111.png',\n",
              " 'C48P9thinF_IMG_20150721_160944_cell_235.png',\n",
              " 'C175P136NThinF_IMG_20151127_142009_cell_237.png',\n",
              " 'C129P90ThinF_IMG_20151004_134636_cell_28.png',\n",
              " 'C39P4thinF_original_IMG_20150622_114609_cell_24.png',\n",
              " 'C124P85ThinF_IMG_20151002_155223_cell_167.png',\n",
              " 'C180P141NThinF_IMG_20151201_164714_cell_174.png',\n",
              " 'C128P89ThinF_IMG_20151004_130810_cell_154.png',\n",
              " 'C68P29N_ThinF_IMG_20150819_133350_cell_156.png',\n",
              " 'C182P143NThinF_IMG_20151201_171905_cell_186.png',\n",
              " 'C82P43ThinF_IMG_20150817_125326_cell_28.png',\n",
              " 'C184P145ThinF_IMG_20151203_104153_cell_165.png',\n",
              " 'C184P145ThinF_IMG_20151203_104030_cell_35.png',\n",
              " 'C59P20thinF_IMG_20150803_113051_cell_152.png',\n",
              " 'C101P62ThinF_IMG_20150923_165215_cell_26.png',\n",
              " 'C146P107ThinF_IMG_20151018_140044_cell_217.png',\n",
              " 'C132P93ThinF_IMG_20151004_152808_cell_23.png',\n",
              " 'C177P138NThinF_IMG_20151201_143025_cell_182.png',\n",
              " 'C119P80ThinF_IMG_20151002_123608_cell_150.png',\n",
              " 'C110P71ThinF_IMG_20150930_110052_cell_242.png',\n",
              " 'C172P133ThinF_IMG_20151119_155343_cell_281.png',\n",
              " 'C107P68ThinF_IMG_20150924_222233_cell_150.png',\n",
              " 'C116P77ThinF_IMG_20150930_171954_cell_83.png',\n",
              " 'C45P6ThinF_IMG_20151130_155011_cell_174.png',\n",
              " 'C129P90ThinF_IMG_20151004_133703_cell_102.png',\n",
              " 'C189P150ThinF_IMG_20151203_140809_cell_138.png',\n",
              " 'C38P3thinF_original_IMG_20150621_112043_cell_202.png',\n",
              " 'C99P60ThinF_IMG_20150918_142128_cell_116.png',\n",
              " 'C61P22N_ThinF_IMG_20150818_112811_cell_240.png',\n",
              " 'C184P145ThinF_IMG_20151203_104440_cell_43.png',\n",
              " 'C68P29N_ThinF_IMG_20150819_134504_cell_132.png',\n",
              " 'C136P97ThinF_IMG_20151005_144449_cell_10.png',\n",
              " 'C60P21thinF_IMG_20150804_113602_cell_126.png',\n",
              " 'C116P77ThinF_IMG_20150930_171739_cell_90.png',\n",
              " 'C180P141NThinF_IMG_20151201_163702_cell_180.png',\n",
              " 'C188P149ThinF_IMG_20151203_134319_cell_192.png',\n",
              " 'C59P20thinF_IMG_20150803_113051_cell_160.png',\n",
              " 'C136P97ThinF_IMG_20151005_143743_cell_115.png',\n",
              " 'C80P41ThinF_IMG_20150817_111802_cell_18.png',\n",
              " 'C99P60ThinF_IMG_20150918_141857_cell_7.png',\n",
              " 'C59P20thinF_IMG_20150803_113139_cell_50.png',\n",
              " 'C184P145ThinF_IMG_20151203_104153_cell_179.png',\n",
              " 'C84P45ThinF_IMG_20150818_101257_cell_91.png',\n",
              " 'C177P138NThinF_IMG_20151201_143704_cell_176.png',\n",
              " 'C175P136NThinF_IMG_20151127_142326_cell_232.png',\n",
              " 'C99P60ThinF_IMG_20150918_141351_cell_130.png',\n",
              " 'C80P41ThinF_IMG_20150817_111121_cell_140.png',\n",
              " 'C129P90ThinF_IMG_20151004_133244_cell_119.png',\n",
              " 'C184P145ThinF_IMG_20151203_104030_cell_30.png',\n",
              " 'C157P118ThinF_IMG_20151115_163759_cell_186.png',\n",
              " 'C137P98ThinF_IMG_20151005_162348_cell_7.png',\n",
              " 'C180P141NThinF_IMG_20151201_163702_cell_176.png',\n",
              " 'C132P93ThinF_IMG_20151004_151733_cell_162.png',\n",
              " 'C125P86ThinF_IMG_20151004_101158_cell_154.png',\n",
              " 'C181P142ThinF_IMG_20151127_155722_cell_195.png',\n",
              " 'C186P147NThinF_IMG_20151203_150322_cell_160.png',\n",
              " 'C82P43ThinF_IMG_20150817_123500_cell_242.png',\n",
              " 'C69P30N_ThinF_IMG_20150819_135613_cell_244.png',\n",
              " 'C132P93ThinF_IMG_20151004_151811_cell_139.png',\n",
              " 'C170P131ThinF_IMG_20151119_120233_cell_187.png',\n",
              " 'C152P113ThinF_IMG_20151115_124323_cell_162.png',\n",
              " 'C49P10thinF_IMG_20150724_103233_cell_199.png',\n",
              " 'C89P50ThinF_IMG_20150820_162153_cell_198.png',\n",
              " 'C142P103ThinF_IMG_20151005_223257_cell_188.png',\n",
              " 'C146P107ThinF_IMG_20151018_134554_cell_254.png',\n",
              " 'C99P60ThinF_IMG_20150918_141351_cell_131.png',\n",
              " 'C59P20thinF_IMG_20150803_112858_cell_194.png',\n",
              " 'C51AP12thinF_IMG_20150724_155046_cell_96.png',\n",
              " 'C133P94ThinF_IMG_20151004_155144_cell_140.png',\n",
              " 'C84P45ThinF_IMG_20150818_103817_cell_1.png',\n",
              " 'C68P29N_ThinF_IMG_20150819_133447_cell_164.png',\n",
              " 'C101P62ThinF_IMG_20150923_170246_cell_79.png',\n",
              " 'C144P105ThinF_IMG_20151015_160529_cell_277.png',\n",
              " 'C168P129ThinF_IMG_20151118_161940_cell_160.png',\n",
              " 'C84P45ThinF_IMG_20150818_102654_cell_75.png',\n",
              " 'C68P29N_ThinF_IMG_20150819_133236_cell_148.png',\n",
              " 'C136P97ThinF_IMG_20151005_140646_cell_125.png',\n",
              " 'C46P7ThinF_IMG_20151130_205558_cell_155.png',\n",
              " 'C132P93ThinF_IMG_20151004_153030_cell_33.png',\n",
              " 'C99P60ThinF_IMG_20150918_142334_cell_27.png',\n",
              " 'C51AP12thinF_IMG_20150724_154330_cell_121.png',\n",
              " 'C84P45ThinF_IMG_20150818_102654_cell_87.png',\n",
              " 'C117P78ThinF_IMG_20150930_221812_cell_82.png',\n",
              " 'C132P93ThinF_IMG_20151004_152808_cell_24.png',\n",
              " 'C163P124ThinF_IMG_20151116_110818_cell_279.png',\n",
              " 'C132P93ThinF_IMG_20151004_151941_cell_11.png',\n",
              " 'C100P61ThinF_IMG_20150918_145422_cell_163.png',\n",
              " 'C129P90ThinF_IMG_20151004_134636_cell_15.png',\n",
              " 'C99P60ThinF_IMG_20150918_141620_cell_56.png',\n",
              " 'C134P95ThinF_IMG_20151005_121554_cell_122.png',\n",
              " 'C182P143NThinF_IMG_20151201_172257_cell_154.png',\n",
              " 'C113P74ThinF_IMG_20150930_134751_cell_179.png',\n",
              " 'C39P4thinF_original_IMG_20150622_110435_cell_106.png',\n",
              " 'C48P9thinF_IMG_20150721_164031_cell_17.png',\n",
              " 'C82P43ThinF_IMG_20150817_125114_cell_5.png',\n",
              " 'C76P37ThinF_IMG_20150815_171454_cell_251.png',\n",
              " 'C68P29N_ThinF_IMG_20150819_133236_cell_183.png',\n",
              " 'C68P29N_ThinF_IMG_20150819_134112_cell_144.png',\n",
              " 'C119P80ThinF_IMG_20151002_122720_cell_167.png',\n",
              " 'C39P4thinF_original_IMG_20150622_105554_cell_21.png',\n",
              " 'C80P41ThinF_IMG_20150817_111802_cell_8.png',\n",
              " 'C158P119ThinF_IMG_20151115_181859_cell_204.png',\n",
              " 'C59P20thinF_IMG_20150803_113051_cell_193.png',\n",
              " 'C59P20thinF_IMG_20150803_111244_cell_172.png',\n",
              " 'C184P145ThinF_IMG_20151203_102543_cell_153.png',\n",
              " 'C84P45ThinF_IMG_20150818_102507_cell_100.png',\n",
              " 'C56P17thinF_IMG_20150728_153328_cell_106.png',\n",
              " 'C129P90ThinF_IMG_20151004_134520_cell_111.png',\n",
              " 'C101P62ThinF_IMG_20150918_151006_cell_82.png',\n",
              " 'C91P52ThinF_IMG_20150821_124739_cell_179.png',\n",
              " 'C68P29N_ThinF_IMG_20150819_134504_cell_159.png',\n",
              " 'C132P93ThinF_IMG_20151004_152257_cell_110.png',\n",
              " 'C180P141NThinF_IMG_20151201_165601_cell_160.png',\n",
              " 'C116P77ThinF_IMG_20150930_171635_cell_108.png',\n",
              " 'C91P52ThinF_IMG_20150821_124739_cell_198.png',\n",
              " 'C80P41ThinF_IMG_20150817_111802_cell_15.png',\n",
              " 'C145P106ThinF_IMG_20151016_154921_cell_148.png',\n",
              " 'C59P20thinF_IMG_20150803_111333_cell_162.png',\n",
              " 'C181P142ThinF_IMG_20151127_160539_cell_199.png',\n",
              " 'C93P54ThinF_IMG_20150821_164024_cell_210.png',\n",
              " 'C51AP12thinF_IMG_20150724_162636_cell_89.png',\n",
              " 'C65P26N_ThinF_IMG_20150818_154010_cell_199.png',\n",
              " 'C120P81ThinF_IMG_20151002_130150_cell_196.png',\n",
              " 'C140P101ThinF_IMG_20151005_211530_cell_156.png',\n",
              " 'C78P39ThinF_IMG_20150606_103413_cell_171.png',\n",
              " 'C67P28N_ThinF_IMG_20150819_121456_cell_251.png',\n",
              " 'C156P117ThinF_IMG_20151115_154435_cell_295.png',\n",
              " 'C102P63ThinF_IMG_20150918_162300_cell_181.png',\n",
              " 'C59P20thinF_IMG_20150803_113051_cell_166.png',\n",
              " 'C91P52ThinF_IMG_20150821_125256_cell_15.png',\n",
              " 'C129P90ThinF_IMG_20151004_133421_cell_104.png',\n",
              " 'C101P62ThinF_IMG_20150918_151507_cell_76.png',\n",
              " 'C184P145ThinF_IMG_20151203_102543_cell_151.png',\n",
              " 'C107P68ThinF_IMG_20150924_222233_cell_160.png',\n",
              " 'C78P39ThinF_IMG_20150606_103630_cell_172.png',\n",
              " 'C167P128ReThinF_IMG_20151201_105559_cell_222.png',\n",
              " 'C142P103ThinF_IMG_20151005_221931_cell_192.png',\n",
              " 'C147P108ThinF_IMG_20151115_095606_cell_177.png',\n",
              " 'C68P29N_ThinF_IMG_20150819_134712_cell_63.png',\n",
              " 'C93P54ThinF_IMG_20150821_164024_cell_200.png',\n",
              " 'C59P20thinF_IMG_20150803_111333_cell_136.png',\n",
              " 'C118P79ThinF_IMG_20151002_105018_cell_134.png',\n",
              " 'C68P29N_ThinF_IMG_20150819_133236_cell_188.png',\n",
              " 'C182P143NThinF_IMG_20151201_172607_cell_22.png',\n",
              " 'C181P142ThinF_IMG_20151127_155914_cell_159.png',\n",
              " 'C81P42ThinF_IMG_20150817_120712_cell_164.png',\n",
              " 'C186P147NThinF_IMG_20151203_150222_cell_166.png',\n",
              " 'C60P21thinF_IMG_20150803_144510_cell_147.png',\n",
              " 'C132P93ThinF_IMG_20151004_152642_cell_20.png',\n",
              " 'C76P37ThinF_IMG_20150815_173019_cell_230.png',\n",
              " 'C132P93ThinF_IMG_20151004_152257_cell_153.png',\n",
              " 'C133P94ThinF_IMG_20151004_155331_cell_111.png',\n",
              " 'C85P46ThinF_IMG_20150820_105154_cell_219.png',\n",
              " 'C101P62ThinF_IMG_20150923_170344_cell_77.png',\n",
              " 'C68P29N_ThinF_IMG_20150819_133447_cell_151.png',\n",
              " 'C51AP12thinF_IMG_20150724_154243_cell_119.png',\n",
              " 'C188P149ThinF_IMG_20151203_134209_cell_205.png',\n",
              " 'C180P141NThinF_IMG_20151201_164714_cell_191.png',\n",
              " 'C39P4thinF_original_IMG_20150622_111206_cell_81.png',\n",
              " 'C91P52ThinF_IMG_20150821_125423_cell_18.png',\n",
              " 'C99P60ThinF_IMG_20150918_141351_cell_94.png',\n",
              " 'C180P141NThinF_IMG_20151201_165453_cell_15.png',\n",
              " 'C166P127ThinF_IMG_20151117_194410_cell_197.png',\n",
              " 'C179P140ThinF_IMG_20151127_153819_cell_177.png',\n",
              " 'C189P150ThinF_IMG_20151203_142113_cell_85.png',\n",
              " 'C180P141NThinF_IMG_20151201_163751_cell_162.png',\n",
              " 'C82P43ThinF_IMG_20150817_125326_cell_6.png',\n",
              " 'C120P81ThinF_IMG_20151002_130407_cell_182.png',\n",
              " 'C39P4thinF_original_IMG_20150622_110115_cell_131.png',\n",
              " 'C140P101ThinF_IMG_20151005_211735_cell_151.png',\n",
              " 'C123P84ThinF_IMG_20151002_151851_cell_182.png',\n",
              " 'C132P93ThinF_IMG_20151004_151941_cell_10.png',\n",
              " 'C182P143NThinF_IMG_20151201_171836_cell_173.png',\n",
              " 'C140P101ThinF_IMG_20151005_211735_cell_152.png',\n",
              " 'C180P141NThinF_IMG_20151201_165453_cell_18.png',\n",
              " 'C170P131ThinF_IMG_20151119_120019_cell_243.png',\n",
              " 'C164P125ThinF_IMG_20151116_115112_cell_146.png',\n",
              " 'C126P87ThinF_IMG_20151004_104728_cell_129.png',\n",
              " 'C133P94ThinF_IMG_20151004_155331_cell_112.png',\n",
              " 'C184P145ThinF_IMG_20151203_104153_cell_178.png',\n",
              " 'C129P90ThinF_IMG_20151004_133329_cell_112.png',\n",
              " 'C132P93ThinF_IMG_20151004_151941_cell_2.png',\n",
              " 'C116P77ThinF_IMG_20150930_171558_cell_123.png',\n",
              " 'C188P149ThinF_IMG_20151203_134449_cell_202.png',\n",
              " 'C70P31_ThinF_IMG_20150813_130510_cell_87.png',\n",
              " 'C184P145ThinF_IMG_20151203_104334_cell_22.png',\n",
              " 'C39P4thinF_original_IMG_20150622_112119_cell_2.png',\n",
              " 'C39P4thinF_original_IMG_20150622_110115_cell_119.png',\n",
              " 'C80P41ThinF_IMG_20150817_111943_cell_18.png',\n",
              " 'C120P81ThinF_IMG_20151002_125443_cell_135.png',\n",
              " 'C182P143NThinF_IMG_20151201_172216_cell_180.png',\n",
              " 'C91P52ThinF_IMG_20150821_125256_cell_18.png',\n",
              " 'C74P35_ThinF_IMG_20150815_120957_cell_126.png',\n",
              " 'C132P93ThinF_IMG_20151004_152642_cell_45.png',\n",
              " 'C68P29N_ThinF_IMG_20150819_134712_cell_61.png',\n",
              " 'C82P43ThinF_IMG_20150817_124418_cell_153.png',\n",
              " 'C101P62ThinF_IMG_20150923_170344_cell_88.png',\n",
              " 'C76P37ThinF_IMG_20150815_171454_cell_254.png',\n",
              " 'C68P29N_ThinF_IMG_20150819_134712_cell_73.png',\n",
              " 'C167P128ReThinF_IMG_20151201_105707_cell_240.png',\n",
              " 'C59P20thinF_IMG_20150803_113430_cell_27.png',\n",
              " 'C84P45ThinF_IMG_20150818_101550_cell_93.png',\n",
              " 'C174P135NThinF_IMG_20151127_135311_cell_210.png',\n",
              " 'C100P61ThinF_IMG_20150918_145042_cell_163.png',\n",
              " 'C93P54ThinF_IMG_20150821_163452_cell_208.png',\n",
              " 'C154P115ThinF_IMG_20151115_141543_cell_218.png',\n",
              " 'C80P41ThinF_IMG_20150817_112329_cell_14.png',\n",
              " 'C131P92ThinF_IMG_20151004_151126_cell_127.png',\n",
              " 'C130P91ThinF_IMG_20151004_142709_cell_121.png',\n",
              " 'C129P90ThinF_IMG_20151004_133703_cell_100.png',\n",
              " 'C182P143NThinF_IMG_20151201_172057_cell_160.png',\n",
              " 'C39P4thinF_original_IMG_20150622_113842_cell_27.png',\n",
              " 'C99P60ThinF_IMG_20150918_140900_cell_135.png',\n",
              " 'C70P31_ThinF_IMG_20150813_131330_cell_88.png',\n",
              " 'C180P141NThinF_IMG_20151201_163702_cell_173.png',\n",
              " 'C182P143NThinF_IMG_20151201_172216_cell_181.png',\n",
              " 'C188P149ThinF_IMG_20151203_134209_cell_202.png',\n",
              " 'C180P141NThinF_IMG_20151201_170021_cell_26.png',\n",
              " 'C131P92ThinF_IMG_20151004_145410_cell_135.png',\n",
              " 'C176P137NThinF_IMG_20151201_122444_cell_115.png',\n",
              " 'C48P9thinF_IMG_20150721_160944_cell_218.png',\n",
              " 'C132P93ThinF_IMG_20151004_151733_cell_146.png',\n",
              " 'C62P23N_ThinF_IMG_20150818_132811_cell_197.png',\n",
              " 'C180P141NThinF_IMG_20151201_165659_cell_23.png',\n",
              " 'C48P9thinF_IMG_20150721_162732_cell_20.png',\n",
              " 'C188P149ThinF_IMG_20151203_134319_cell_193.png',\n",
              " 'C80P41ThinF_IMG_20150817_112329_cell_6.png',\n",
              " 'C176P137NThinF_IMG_20151201_121030_cell_18.png',\n",
              " 'C119P80ThinF_IMG_20151002_123043_cell_168.png',\n",
              " 'C51AP12thinF_IMG_20150724_160140_cell_59.png',\n",
              " 'C181P142ThinF_IMG_20151127_160539_cell_187.png',\n",
              " 'C101P62ThinF_IMG_20150918_151942_cell_85.png',\n",
              " 'C129P90ThinF_IMG_20151004_133244_cell_108.png',\n",
              " 'C167P128ReThinF_IMG_20151201_105707_cell_241.png',\n",
              " 'C182P143NThinF_IMG_20151201_172057_cell_142.png',\n",
              " 'C118P79ThinF_IMG_20151002_105827_cell_132.png',\n",
              " 'C68P29N_ThinF_IMG_20150819_133236_cell_162.png',\n",
              " 'C132P93ThinF_IMG_20151004_151811_cell_145.png',\n",
              " 'C129P90ThinF_IMG_20151004_134636_cell_24.png',\n",
              " 'C70P31_ThinF_IMG_20150813_131609_cell_99.png',\n",
              " 'C130P91ThinF_IMG_20151004_135449_cell_135.png',\n",
              " 'C91P52ThinF_IMG_20150821_124311_cell_21.png',\n",
              " 'C68P29N_ThinF_IMG_20150819_133350_cell_145.png',\n",
              " 'C117P78ThinF_IMG_20150930_214629_cell_102.png',\n",
              " 'C144P105ThinF_IMG_20151015_160529_cell_270.png',\n",
              " 'C100P61ThinF_IMG_20150918_145422_cell_164.png',\n",
              " 'C91P52ThinF_IMG_20150821_124937_cell_186.png',\n",
              " 'C146P107ThinF_IMG_20151018_140439_cell_283.png',\n",
              " 'C137P98ThinF_IMG_20151005_163712_cell_86.png',\n",
              " 'C137P98ThinF_IMG_20151005_163712_cell_89.png',\n",
              " 'C60P21thinF_IMG_20150804_105034_cell_113.png',\n",
              " 'C133P94ThinF_IMG_20151004_155721_cell_114.png',\n",
              " 'C81P42ThinF_IMG_20150817_115942_cell_218.png',\n",
              " 'C153P114ThinF_IMG_20151115_140242_cell_277.png',\n",
              " 'C132P93ThinF_IMG_20151004_153030_cell_15.png',\n",
              " 'C101P62ThinF_IMG_20150918_151239_cell_74.png',\n",
              " 'C84P45ThinF_IMG_20150818_102009_cell_5.png',\n",
              " 'C39P4thinF_original_IMG_20150622_112119_cell_9.png',\n",
              " 'C118P79ThinF_IMG_20151002_105125_cell_142.png',\n",
              " 'C145P106ThinF_IMG_20151016_155121_cell_189.png',\n",
              " 'C183P144NThinF_IMG_20151201_223208_cell_123.png',\n",
              " 'C93P54ThinF_IMG_20150821_162901_cell_198.png',\n",
              " 'C172P133ThinF_IMG_20151119_154936_cell_265.png',\n",
              " 'C68P29N_ThinF_IMG_20150819_133236_cell_146.png',\n",
              " 'C132P93ThinF_IMG_20151004_152505_cell_152.png',\n",
              " 'C180P141NThinF_IMG_20151201_165528_cell_191.png',\n",
              " 'C181P142ThinF_IMG_20151127_160616_cell_164.png',\n",
              " 'C80P41ThinF_IMG_20150817_110957_cell_155.png',\n",
              " 'C129P90ThinF_IMG_20151004_134700_cell_32.png',\n",
              " 'C140P101ThinF_IMG_20151005_211530_cell_145.png',\n",
              " 'C116P77ThinF_IMG_20150930_171448_cell_100.png',\n",
              " 'C68P29N_ThinF_IMG_20150819_133236_cell_158.png',\n",
              " 'C62P23N_ThinF_IMG_20150818_133527_cell_201.png',\n",
              " 'C103P64ThinF_IMG_20150918_164553_cell_173.png',\n",
              " 'C136P97ThinF_IMG_20151005_140538_cell_113.png',\n",
              " 'C91P52ThinF_IMG_20150821_123314_cell_190.png',\n",
              " 'C137P98ThinF_IMG_20151005_162010_cell_78.png',\n",
              " 'C108P69ThinF_IMG_20150924_225004_cell_222.png',\n",
              " 'C117P78ThinF_IMG_20150930_221048_cell_102.png',\n",
              " 'C59P20thinF_IMG_20150803_112802_cell_151.png',\n",
              " 'C70P31_ThinF_IMG_20150813_131708_cell_7.png',\n",
              " 'C99P60ThinF_IMG_20150918_141129_cell_142.png',\n",
              " 'C39P4thinF_original_IMG_20150622_105253_cell_110.png',\n",
              " 'C59P20thinF_IMG_20150803_113051_cell_183.png',\n",
              " 'C103P64ThinF_IMG_20150918_164331_cell_185.png',\n",
              " 'C167P128ReThinF_IMG_20151201_105354_cell_244.png',\n",
              " 'C60P21thinF_IMG_20150803_144629_cell_1.png',\n",
              " 'C122P83ThinF_IMG_20151002_150207_cell_159.png',\n",
              " 'C182P143NThinF_IMG_20151201_172607_cell_16.png',\n",
              " 'C129P90ThinF_IMG_20151004_134520_cell_124.png',\n",
              " 'C70P31_ThinF_IMG_20150813_131924_cell_1.png',\n",
              " 'C113P74ThinF_IMG_20150930_134429_cell_176.png',\n",
              " 'C95P56ThinF_IMG_20150821_171701_cell_96.png',\n",
              " 'C140P101ThinF_IMG_20151005_205922_cell_187.png',\n",
              " 'C51AP12thinF_IMG_20150724_155046_cell_102.png',\n",
              " 'C133P94ThinF_IMG_20151004_155144_cell_130.png',\n",
              " 'C174P135NThinF_IMG_20151127_135554_cell_188.png',\n",
              " 'C99P60ThinF_IMG_20150918_141129_cell_118.png',\n",
              " 'C37BP2_thinF_IMG_20150620_131423a_cell_94.png',\n",
              " 'C59P20thinF_IMG_20150803_112733_cell_180.png',\n",
              " 'C74P35_ThinF_IMG_20150815_113951_cell_126.png',\n",
              " 'C59P20thinF_IMG_20150803_113139_cell_18.png',\n",
              " 'C133P94ThinF_IMG_20151004_154717_cell_129.png',\n",
              " 'C80P41ThinF_IMG_20150817_111246_cell_115.png',\n",
              " 'C180P141NThinF_IMG_20151201_165659_cell_15.png',\n",
              " 'C116P77ThinF_IMG_20150930_171809_cell_70.png',\n",
              " 'C118P79ThinF_IMG_20151002_105827_cell_141.png',\n",
              " 'C99P60ThinF_IMG_20150918_140900_cell_98.png',\n",
              " 'C39P4thinF_original_IMG_20150622_110435_cell_110.png',\n",
              " 'C68P29N_ThinF_IMG_20150819_134712_cell_8.png',\n",
              " 'C68P29N_ThinF_IMG_20150819_134504_cell_141.png',\n",
              " 'C184P145ThinF_IMG_20151203_103637_cell_159.png',\n",
              " 'C67P28N_ThinF_IMG_20150819_115955_cell_171.png',\n",
              " 'C59P20thinF_IMG_20150803_111333_cell_158.png',\n",
              " 'C132P93ThinF_IMG_20151004_153030_cell_26.png',\n",
              " 'C132P93ThinF_IMG_20151004_152505_cell_130.png',\n",
              " 'C179P140ThinF_IMG_20151127_153521_cell_165.png',\n",
              " 'C184P145ThinF_IMG_20151203_103637_cell_143.png',\n",
              " 'C116P77ThinF_IMG_20150930_171219_cell_82.png',\n",
              " 'C127P88ThinF_IMG_20151004_112301_cell_123.png',\n",
              " 'C137P98ThinF_IMG_20151005_163901_cell_81.png',\n",
              " 'C46P7ThinF_IMG_20151130_210815_cell_7.png',\n",
              " 'C184P145ThinF_IMG_20151203_104030_cell_2.png',\n",
              " 'C180P141NThinF_IMG_20151201_170110_cell_16.png',\n",
              " 'C133P94ThinF_IMG_20151004_153930_cell_101.png',\n",
              " 'C186P147NThinF_IMG_20151203_150859_cell_162.png',\n",
              " 'C82P43ThinF_IMG_20150817_125114_cell_13.png',\n",
              " 'C48P9thinF_IMG_20150721_164129_cell_5.png',\n",
              " 'C50P11thinF_IMG_20150724_120553_cell_144.png',\n",
              " 'C59P20thinF_IMG_20150803_112802_cell_173.png',\n",
              " 'C176P137NThinF_IMG_20151201_122444_cell_133.png',\n",
              " 'C39P4thinF_original_IMG_20150622_110435_cell_93.png',\n",
              " 'C80P41ThinF_IMG_20150817_112329_cell_1.png',\n",
              " 'C59P20thinF_IMG_20150803_113051_cell_187.png',\n",
              " 'C181P142ThinF_IMG_20151127_160650_cell_185.png',\n",
              " 'C116P77ThinF_IMG_20150930_171558_cell_132.png',\n",
              " 'C51AP12thinF_IMG_20150724_162636_cell_86.png',\n",
              " 'C182P143NThinF_IMG_20151201_171836_cell_160.png',\n",
              " 'C129P90ThinF_IMG_20151004_134636_cell_17.png',\n",
              " 'C129P90ThinF_IMG_20151004_134520_cell_115.png',\n",
              " 'C101P62ThinF_IMG_20150918_151149_cell_68.png',\n",
              " 'C145P106ThinF_IMG_20151016_155121_cell_194.png',\n",
              " 'C97P58ThinF_IMG_20150917_152437_cell_6.png',\n",
              " 'C68P29N_ThinF_IMG_20150819_133350_cell_178.png',\n",
              " 'C167P128ReThinF_IMG_20151201_110011_cell_236.png',\n",
              " 'C82P43ThinF_IMG_20150817_123824_cell_189.png',\n",
              " 'C101P62ThinF_IMG_20150918_155731_cell_65.png',\n",
              " 'C84P45ThinF_IMG_20150818_103817_cell_7.png',\n",
              " 'C59P20thinF_IMG_20150803_111244_cell_199.png',\n",
              " 'C159P120ThinF_IMG_20151115_191301_cell_229.png',\n",
              " 'C142P103ThinF_IMG_20151005_221931_cell_190.png',\n",
              " 'C182P143NThinF_IMG_20151201_172257_cell_160.png',\n",
              " 'C133P94ThinF_IMG_20151004_154512_cell_132.png',\n",
              " 'C100P61ThinF_IMG_20150918_145938_cell_174.png',\n",
              " 'C181P142ThinF_IMG_20151127_160539_cell_180.png',\n",
              " 'C189P150ThinF_IMG_20151203_142113_cell_81.png',\n",
              " 'C68P29N_ThinF_IMG_20150819_133350_cell_167.png',\n",
              " 'C101P62ThinF_IMG_20150918_151149_cell_87.png',\n",
              " 'C39P4thinF_original_IMG_20150622_113842_cell_31.png',\n",
              " 'C80P41ThinF_IMG_20150817_110348_cell_128.png',\n",
              " 'C123P84ThinF_IMG_20151002_150931_cell_202.png',\n",
              " 'C99P60ThinF_IMG_20150918_141314_cell_103.png',\n",
              " 'C59P20thinF_IMG_20150803_113430_cell_23.png',\n",
              " 'C172P133ThinF_IMG_20151119_155343_cell_288.png',\n",
              " 'C174P135NThinF_IMG_20151127_135640_cell_191.png',\n",
              " 'C71P32_ThinF_IMG_20150813_162146_cell_217.png',\n",
              " 'C179P140ThinF_IMG_20151127_153453_cell_189.png',\n",
              " 'C183P144NThinF_IMG_20151201_222917_cell_141.png',\n",
              " 'C184P145ThinF_IMG_20151203_103326_cell_138.png',\n",
              " 'C184P145ThinF_IMG_20151203_103637_cell_160.png',\n",
              " 'C116P77ThinF_IMG_20150930_171635_cell_89.png',\n",
              " 'C116P77ThinF_IMG_20150930_171635_cell_113.png',\n",
              " 'C68P29N_ThinF_IMG_20150819_134712_cell_38.png',\n",
              " 'C137P98ThinF_IMG_20151005_160122_cell_70.png',\n",
              " 'C100P61ThinF_IMG_20150918_144104_cell_169.png',\n",
              " 'C93P54ThinF_IMG_20150821_162641_cell_224.png',\n",
              " 'C80P41ThinF_IMG_20150817_111802_cell_14.png',\n",
              " 'C60P21thinF_IMG_20150804_104919_cell_134.png',\n",
              " 'C99P60ThinF_IMG_20150918_141314_cell_104.png',\n",
              " 'C176P137NThinF_IMG_20151201_121808_cell_124.png',\n",
              " 'C99P60ThinF_IMG_20150918_141351_cell_96.png',\n",
              " 'C93P54ThinF_IMG_20150821_164024_cell_204.png',\n",
              " 'C130P91ThinF_IMG_20151004_142109_cell_141.png',\n",
              " 'C99P60ThinF_IMG_20150918_141857_cell_30.png',\n",
              " 'C124P85ThinF_IMG_20151002_154808_cell_143.png',\n",
              " 'C182P143NThinF_IMG_20151201_172607_cell_26.png',\n",
              " 'C68P29N_ThinF_IMG_20150819_133447_cell_167.png',\n",
              " 'C60P21thinF_IMG_20150804_105639_cell_13.png',\n",
              " 'C59P20thinF_IMG_20150803_113139_cell_6.png',\n",
              " 'C136P97ThinF_IMG_20151005_143743_cell_125.png',\n",
              " 'C68P29N_ThinF_IMG_20150819_133236_cell_171.png',\n",
              " 'C39P4thinF_original_IMG_20150622_110435_cell_101.png',\n",
              " 'C68P29N_ThinF_IMG_20150819_134712_cell_44.png',\n",
              " 'C140P101ThinF_IMG_20151005_210026_cell_179.png',\n",
              " 'C128P89ThinF_IMG_20151004_130810_cell_151.png',\n",
              " 'C144P105ThinF_IMG_20151015_163142_cell_311.png',\n",
              " 'C137P98ThinF_IMG_20151005_160256_cell_65.png',\n",
              " 'C82P43ThinF_IMG_20150817_123500_cell_222.png',\n",
              " 'C136P97ThinF_IMG_20151005_144449_cell_15.png',\n",
              " 'C183P144NThinF_IMG_20151201_223357_cell_148.png',\n",
              " 'C113P74ThinF_IMG_20150930_134614_cell_176.png',\n",
              " 'C60P21thinF_IMG_20150804_105955_cell_127.png',\n",
              " 'C132P93ThinF_IMG_20151004_153030_cell_7.png',\n",
              " 'C77P38ThinF_IMG_20150601_155125_cell_132.png',\n",
              " 'C132P93ThinF_IMG_20151004_152045_cell_116.png',\n",
              " 'C129P90ThinF_IMG_20151004_133921_cell_120.png',\n",
              " 'C80P41ThinF_IMG_20150817_110957_cell_143.png',\n",
              " 'C132P93ThinF_IMG_20151004_152505_cell_160.png',\n",
              " 'C112P73ThinF_IMG_20150930_131401_cell_168.png',\n",
              " 'C129P90ThinF_IMG_20151004_134700_cell_21.png',\n",
              " 'C159P120ThinF_IMG_20151115_185541_cell_179.png',\n",
              " 'C81P42ThinF_IMG_20150817_120524_cell_185.png',\n",
              " 'C145P106ThinF_IMG_20151016_154921_cell_145.png',\n",
              " 'C137P98ThinF_IMG_20151005_162648_cell_10.png',\n",
              " 'C109P70ThinF_IMG_20150930_103645_cell_175.png',\n",
              " 'C55P16thinF_IMG_20150728_123237_cell_205.png',\n",
              " 'C128P89ThinF_IMG_20151004_131231_cell_156.png',\n",
              " 'C184P145ThinF_IMG_20151203_104334_cell_24.png',\n",
              " 'C60P21thinF_IMG_20150804_105639_cell_3.png',\n",
              " 'C183P144NThinF_IMG_20151201_224107_cell_128.png',\n",
              " 'C101P62ThinF_IMG_20150918_151942_cell_75.png',\n",
              " 'C84P45ThinF_IMG_20150818_104849_cell_16.png',\n",
              " 'C182P143NThinF_IMG_20151201_171950_cell_186.png',\n",
              " 'C120P81ThinF_IMG_20151002_125443_cell_140.png',\n",
              " 'C59P20thinF_IMG_20150803_112802_cell_183.png',\n",
              " 'C129P90ThinF_IMG_20151004_133538_cell_83.png',\n",
              " 'C70P31_ThinF_IMG_20150819_142744_cell_98.png',\n",
              " 'C118P79ThinF_IMG_20151002_110212_cell_14.png',\n",
              " 'C112P73ThinF_IMG_20150930_131516_cell_178.png',\n",
              " 'C128P89ThinF_IMG_20151004_131231_cell_145.png',\n",
              " 'C116P77ThinF_IMG_20150930_172112_cell_105.png',\n",
              " 'C176P137NThinF_IMG_20151201_121303_cell_111.png',\n",
              " 'C114P75ThinF_IMG_20150930_150833_cell_164.png',\n",
              " 'C59P20thinF_IMG_20150803_113139_cell_16.png',\n",
              " 'C130P91ThinF_IMG_20151004_141341_cell_153.png',\n",
              " 'C137P98ThinF_IMG_20151005_161859_cell_73.png',\n",
              " 'C97P58ThinF_IMG_20150917_151903_cell_22.png',\n",
              " 'C99P60ThinF_IMG_20150918_141314_cell_106.png',\n",
              " 'C68P29N_ThinF_IMG_20150819_133447_cell_123.png',\n",
              " 'C67P28N_ThinF_IMG_20150819_121053_cell_235.png',\n",
              " 'C91P52ThinF_IMG_20150821_125256_cell_10.png',\n",
              " 'C39P4thinF_original_IMG_20150622_113842_cell_18.png',\n",
              " 'C118P79ThinF_IMG_20151002_110002_cell_25.png',\n",
              " 'C93P54ThinF_IMG_20150821_163815_cell_217.png',\n",
              " 'C147P108ThinF_IMG_20151115_092605_cell_226.png',\n",
              " 'C132P93ThinF_IMG_20151004_152257_cell_119.png',\n",
              " 'C63P24N_ThinF_IMG_20150818_142948_cell_174.png',\n",
              " 'C136P97ThinF_IMG_20151005_144449_cell_25.png',\n",
              " 'C84P45ThinF_IMG_20150818_101903_cell_11.png',\n",
              " 'C91P52ThinF_IMG_20150821_125423_cell_29.png',\n",
              " 'C39P4thinF_original_IMG_20150622_113842_cell_32.png',\n",
              " 'C128P89ThinF_IMG_20151004_131030_cell_161.png',\n",
              " 'C67P28N_ThinF_IMG_20150819_121456_cell_252.png',\n",
              " 'C189P150ThinF_IMG_20151203_141308_cell_67.png',\n",
              " 'C132P93ThinF_IMG_20151004_152808_cell_30.png',\n",
              " 'C46P7ThinF_IMG_20151130_205828_cell_146.png',\n",
              " 'C132P93ThinF_IMG_20151004_152045_cell_161.png',\n",
              " 'C67P28N_ThinF_IMG_20150819_132441_cell_175.png',\n",
              " 'C97P58ThinF_IMG_20150917_152225_cell_18.png',\n",
              " 'C184P145ThinF_IMG_20151203_104153_cell_169.png',\n",
              " 'C99P60ThinF_IMG_20150918_141857_cell_31.png',\n",
              " 'C179P140ThinF_IMG_20151127_153852_cell_154.png',\n",
              " 'C119P80ThinF_IMG_20151002_124304_cell_171.png',\n",
              " 'C52P13thinF_IMG_20150725_123938_cell_192.png',\n",
              " 'C137P98ThinF_IMG_20151005_162437_cell_79.png',\n",
              " 'C136P97ThinF_IMG_20151005_141321_cell_105.png',\n",
              " 'C129P90ThinF_IMG_20151004_134520_cell_116.png',\n",
              " 'C48P9thinF_IMG_20150721_161412_cell_182.png',\n",
              " 'C117P78ThinF_IMG_20150930_214138_cell_98.png',\n",
              " 'C113P74ThinF_IMG_20150930_134429_cell_183.png',\n",
              " 'C181P142ThinF_IMG_20151127_160650_cell_192.png',\n",
              " 'C60P21thinF_IMG_20150804_105034_cell_119.png',\n",
              " 'C116P77ThinF_IMG_20150930_171635_cell_91.png',\n",
              " 'C84P45ThinF_IMG_20150818_101550_cell_91.png',\n",
              " 'C70P31_ThinF_IMG_20150813_131330_cell_100.png',\n",
              " 'C184P145ThinF_IMG_20151203_103114_cell_181.png',\n",
              " 'C182P143NThinF_IMG_20151201_171905_cell_153.png',\n",
              " 'C132P93ThinF_IMG_20151004_152505_cell_142.png',\n",
              " 'C181P142ThinF_IMG_20151127_155914_cell_166.png',\n",
              " 'C184P145ThinF_IMG_20151203_103824_cell_150.png',\n",
              " 'C182P143NThinF_IMG_20151201_171836_cell_184.png',\n",
              " 'C98P59ThinF_IMG_20150917_154235_cell_210.png',\n",
              " 'C137P98ThinF_IMG_20151005_162010_cell_89.png',\n",
              " 'C107P68ThinF_IMG_20150924_222415_cell_175.png',\n",
              " 'C52P13thinF_IMG_20150725_124606_cell_163.png',\n",
              " 'C68P29N_ThinF_IMG_20150819_133447_cell_136.png',\n",
              " 'C119P80ThinF_IMG_20151002_123911_cell_131.png',\n",
              " 'C184P145ThinF_IMG_20151203_102721_cell_23.png',\n",
              " 'C128P89ThinF_IMG_20151004_130408_cell_152.png',\n",
              " 'C96P57ThinF_IMG_20150824_105531_cell_218.png',\n",
              " 'C185P146ThinF_IMG_20151203_110933_cell_230.png',\n",
              " 'C186P147NThinF_IMG_20151203_150408_cell_186.png',\n",
              " 'C67P28N_ThinF_IMG_20150819_132441_cell_168.png',\n",
              " 'C101P62ThinF_IMG_20150918_151006_cell_72.png',\n",
              " 'C51AP12thinF_IMG_20150724_162636_cell_82.png',\n",
              " 'C129P90ThinF_IMG_20151004_134944_cell_8.png',\n",
              " 'C180P141NThinF_IMG_20151201_165423_cell_160.png',\n",
              " 'C67P28N_ThinF_IMG_20150819_121240_cell_256.png',\n",
              " 'C186P147NThinF_IMG_20151203_150408_cell_182.png',\n",
              " 'C59P20thinF_IMG_20150803_111244_cell_169.png',\n",
              " 'C63P24N_ThinF_IMG_20150818_143757_cell_181.png',\n",
              " 'C180P141NThinF_IMG_20151201_170110_cell_7.png',\n",
              " 'C182P143NThinF_IMG_20151201_171836_cell_171.png',\n",
              " 'C99P60ThinF_IMG_20150918_142128_cell_119.png',\n",
              " 'C101P62ThinF_IMG_20150923_165215_cell_41.png',\n",
              " 'C124P85ThinF_IMG_20151002_154846_cell_157.png',\n",
              " 'C189P150ThinF_IMG_20151203_142224_cell_82.png',\n",
              " 'C180P141NThinF_IMG_20151201_165453_cell_2.png',\n",
              " 'C137P98ThinF_IMG_20151005_160918_cell_67.png',\n",
              " 'C136P97ThinF_IMG_20151005_140538_cell_94.png',\n",
              " 'C184P145ThinF_IMG_20151203_103326_cell_145.png',\n",
              " 'C124P85ThinF_IMG_20151002_155101_cell_168.png',\n",
              " 'C186P147NThinF_IMG_20151203_150132_cell_194.png',\n",
              " 'C184P145ThinF_IMG_20151203_104334_cell_8.png',\n",
              " 'C180P141NThinF_IMG_20151201_165423_cell_166.png',\n",
              " 'C129P90ThinF_IMG_20151004_134306_cell_123.png',\n",
              " 'C180P141NThinF_IMG_20151201_163751_cell_149.png',\n",
              " 'C126P87ThinF_IMG_20151004_105100_cell_136.png',\n",
              " 'C132P93ThinF_IMG_20151004_151701_cell_173.png',\n",
              " 'C172P133ThinF_IMG_20151119_155343_cell_268.png',\n",
              " 'C176P137NThinF_IMG_20151201_122444_cell_134.png',\n",
              " 'C60P21thinF_IMG_20150804_113011_cell_11.png',\n",
              " 'C136P97ThinF_IMG_20151005_142627_cell_11.png',\n",
              " 'C99P60ThinF_IMG_20150918_141857_cell_3.png',\n",
              " 'C184P145ThinF_IMG_20151203_102405_cell_173.png',\n",
              " 'C133P94ThinF_IMG_20151004_155518_cell_116.png',\n",
              " 'C51AP12thinF_IMG_20150724_155046_cell_94.png',\n",
              " 'C124P85ThinF_IMG_20151002_153825_cell_193.png',\n",
              " 'C136P97ThinF_IMG_20151005_140646_cell_111.png',\n",
              " 'C66P27N_ThinF_IMG_20150818_163419_cell_196.png',\n",
              " 'C178P139NThinF_IMG_20151201_155012_cell_152.png',\n",
              " 'C59P20thinF_IMG_20150803_112733_cell_179.png',\n",
              " 'C132P93ThinF_IMG_20151004_152353_cell_158.png',\n",
              " 'C100P61ThinF_IMG_20150918_144823_cell_160.png',\n",
              " 'C99P60ThinF_IMG_20150918_141129_cell_125.png',\n",
              " 'C101P62ThinF_IMG_20150918_151239_cell_87.png',\n",
              " 'C133P94ThinF_IMG_20151004_154717_cell_136.png',\n",
              " 'C133P94ThinF_IMG_20151004_154919_cell_131.png',\n",
              " 'C172P133ThinF_IMG_20151119_155343_cell_275.png',\n",
              " 'C39P4thinF_original_IMG_20150622_111326_cell_4.png',\n",
              " 'C67P28N_ThinF_IMG_20150819_133000_cell_168.png',\n",
              " 'C120P81ThinF_IMG_20151002_130407_cell_184.png',\n",
              " 'C180P141NThinF_IMG_20151201_170021_cell_10.png',\n",
              " 'C39P4thinF_original_IMG_20150622_113446_cell_3.png',\n",
              " 'C176P137NThinF_IMG_20151201_114035_cell_135.png',\n",
              " 'C118P79ThinF_IMG_20151002_110609_cell_14.png',\n",
              " 'C133P94ThinF_IMG_20151004_155144_cell_136.png',\n",
              " 'C186P147NThinF_IMG_20151203_150132_cell_198.png',\n",
              " 'C132P93ThinF_IMG_20151004_152808_cell_26.png',\n",
              " 'C126P87ThinF_IMG_20151004_104623_cell_124.png',\n",
              " 'C116P77ThinF_IMG_20150930_171954_cell_102.png',\n",
              " 'C74P35_ThinF_IMG_20150815_113951_cell_125.png',\n",
              " 'C46P7ThinF_IMG_20151130_205828_cell_154.png',\n",
              " 'C68P29N_ThinF_IMG_20150819_133236_cell_195.png',\n",
              " 'C62P23N_ThinF_IMG_20150818_132918_cell_191.png',\n",
              " 'C51AP12thinF_IMG_20150724_155046_cell_99.png',\n",
              " 'C116P77ThinF_IMG_20150930_171844_cell_95.png',\n",
              " 'C110P71ThinF_IMG_20150930_105559_cell_201.png',\n",
              " 'C145P106ThinF_IMG_20151016_154719_cell_155.png',\n",
              " 'C132P93ThinF_IMG_20151004_152642_cell_15.png',\n",
              " 'C67P28N_ThinF_IMG_20150819_115955_cell_173.png',\n",
              " 'C39P4thinF_original_IMG_20150622_110352_cell_78.png',\n",
              " 'C184P145ThinF_IMG_20151203_103114_cell_169.png',\n",
              " 'C91P52ThinF_IMG_20150821_123116_cell_195.png',\n",
              " 'C139P100ThinF_IMG_20151005_182822_cell_163.png',\n",
              " 'C184P145ThinF_IMG_20151203_103824_cell_147.png',\n",
              " 'C99P60ThinF_IMG_20150918_141129_cell_100.png',\n",
              " 'C182P143NThinF_IMG_20151201_172607_cell_7.png',\n",
              " 'C59P20thinF_IMG_20150803_112802_cell_165.png',\n",
              " 'C84P45ThinF_IMG_20150818_101412_cell_111.png',\n",
              " 'C97P58ThinF_IMG_20150917_151320_cell_146.png',\n",
              " 'C118P79ThinF_IMG_20151002_110725_cell_147.png',\n",
              " 'C177P138NThinF_IMG_20151201_143704_cell_180.png',\n",
              " 'C93P54ThinF_IMG_20150821_163452_cell_209.png',\n",
              " 'C132P93ThinF_IMG_20151004_151733_cell_169.png',\n",
              " 'C68P29N_ThinF_IMG_20150819_134504_cell_161.png',\n",
              " 'C77P38ThinF_IMG_20150602_112011_cell_125.png',\n",
              " 'C176P137NThinF_IMG_20151201_121808_cell_125.png',\n",
              " 'C186P147NThinF_IMG_20151203_150557_cell_185.png',\n",
              " 'C118P79ThinF_IMG_20151002_110942_cell_19.png',\n",
              " 'C59P20thinF_IMG_20150803_113809_cell_9.png',\n",
              " 'C59P20thinF_IMG_20150803_111244_cell_188.png',\n",
              " 'C99P60ThinF_IMG_20150918_141351_cell_140.png',\n",
              " 'C132P93ThinF_IMG_20151004_152353_cell_162.png',\n",
              " 'C132P93ThinF_IMG_20151004_152257_cell_111.png',\n",
              " 'C91P52ThinF_IMG_20150821_124739_cell_197.png',\n",
              " 'C132P93ThinF_IMG_20151004_151733_cell_149.png',\n",
              " 'C158P119ThinF_IMG_20151115_181859_cell_196.png',\n",
              " 'C97P58ThinF_IMG_20150917_145555_cell_169.png',\n",
              " 'C91P52ThinF_IMG_20150821_124311_cell_11.png',\n",
              " 'C137P98ThinF_IMG_20151005_161659_cell_17.png',\n",
              " 'C84P45ThinF_IMG_20150818_101903_cell_10.png',\n",
              " 'C118P79ThinF_IMG_20151002_105018_cell_146.png',\n",
              " 'C91P52ThinF_IMG_20150821_124739_cell_182.png',\n",
              " 'C116P77ThinF_IMG_20150930_171739_cell_92.png',\n",
              " 'C39P4thinF_original_IMG_20150622_110352_cell_81.png',\n",
              " 'C132P93ThinF_IMG_20151004_152642_cell_43.png',\n",
              " 'C133P94ThinF_IMG_20151004_153930_cell_105.png',\n",
              " 'C118P79ThinF_IMG_20151002_105827_cell_144.png',\n",
              " 'C136P97ThinF_IMG_20151005_141321_cell_95.png',\n",
              " 'C129P90ThinF_IMG_20151004_134636_cell_20.png',\n",
              " 'C81P42ThinF_IMG_20150817_115942_cell_213.png',\n",
              " 'C136P97ThinF_IMG_20151005_143743_cell_117.png',\n",
              " 'C184P145ThinF_IMG_20151203_102405_cell_156.png',\n",
              " 'C130P91ThinF_IMG_20151004_141428_cell_131.png',\n",
              " 'C68P29N_ThinF_IMG_20150819_133236_cell_137.png',\n",
              " 'C81P42ThinF_IMG_20150817_120351_cell_188.png',\n",
              " 'C97P58ThinF_IMG_20150917_145555_cell_182.png',\n",
              " 'C47P8thin_Original_Motic_IMG_20150714_093806_cell_183.png',\n",
              " 'C91P52ThinF_IMG_20150821_124739_cell_174.png',\n",
              " 'C132P93ThinF_IMG_20151004_152642_cell_3.png',\n",
              " 'C119P80ThinF_IMG_20151002_123043_cell_165.png',\n",
              " 'C99P60ThinF_IMG_20150918_141351_cell_115.png',\n",
              " 'C119P80ThinF_IMG_20151002_124425_cell_145.png',\n",
              " 'C189P150ThinF_IMG_20151203_141406_cell_90.png',\n",
              " 'C99P60ThinF_IMG_20150918_141857_cell_4.png',\n",
              " 'C80P41ThinF_IMG_20150817_110348_cell_114.png',\n",
              " 'C82P43ThinF_IMG_20150817_124010_cell_206.png',\n",
              " 'C168P129ThinF_IMG_20151118_160516_cell_178.png',\n",
              " 'C176P137NThinF_IMG_20151201_122811_cell_150.png',\n",
              " 'C146P107ThinF_IMG_20151018_140342_cell_253.png',\n",
              " 'C99P60ThinF_IMG_20150918_141314_cell_113.png',\n",
              " 'C37BP2_thinF_IMG_20150620_133111a_cell_88.png',\n",
              " 'C39P4thinF_original_IMG_20150622_114122_cell_12.png',\n",
              " 'C128P89ThinF_IMG_20151004_130408_cell_156.png',\n",
              " 'C131P92ThinF_IMG_20151004_145224_cell_136.png',\n",
              " 'C182P143NThinF_IMG_20151201_172607_cell_46.png',\n",
              " 'C99P60ThinF_IMG_20150918_141857_cell_43.png',\n",
              " 'C166P127ThinF_IMG_20151117_194410_cell_198.png',\n",
              " 'C189P150ThinF_IMG_20151203_141004_cell_81.png',\n",
              " 'C182P143NThinF_IMG_20151201_172257_cell_178.png',\n",
              " 'C183P144NThinF_IMG_20151201_223431_cell_105.png',\n",
              " 'C63P24N_ThinF_IMG_20150818_143319_cell_166.png',\n",
              " 'C162P123ThinF_IMG_20151116_102655_cell_162.png',\n",
              " 'C164P125ThinF_IMG_20151116_115149_cell_176.png',\n",
              " 'C97P58ThinF_IMG_20150917_145555_cell_171.png',\n",
              " 'C132P93ThinF_IMG_20151004_152808_cell_54.png',\n",
              " 'C99P60ThinF_IMG_20150918_141620_cell_13.png',\n",
              " 'C136P97ThinF_IMG_20151005_140646_cell_96.png',\n",
              " 'C39P4thinF_original_IMG_20150622_111326_cell_14.png',\n",
              " 'C68P29N_ThinF_IMG_20150819_133447_cell_117.png',\n",
              " 'C180P141NThinF_IMG_20151201_170110_cell_13.png',\n",
              " 'C39P4thinF_original_IMG_20150622_113842_cell_6.png',\n",
              " 'C184P145ThinF_IMG_20151203_104334_cell_54.png',\n",
              " 'C116P77ThinF_IMG_20150930_171954_cell_91.png',\n",
              " 'C101P62ThinF_IMG_20150923_170246_cell_78.png',\n",
              " 'C177P138NThinF_IMG_20151201_142514_cell_163.png',\n",
              " 'C129P90ThinF_IMG_20151004_133421_cell_107.png',\n",
              " 'C63P24N_ThinF_IMG_20150818_143757_cell_179.png',\n",
              " 'C176P137NThinF_IMG_20151201_114235_cell_17.png',\n",
              " 'C132P93ThinF_IMG_20151004_152257_cell_121.png',\n",
              " 'C182P143NThinF_IMG_20151201_172524_cell_194.png',\n",
              " 'C136P97ThinF_IMG_20151005_144727_cell_110.png',\n",
              " 'C82P43ThinF_IMG_20150817_124010_cell_198.png',\n",
              " 'C116P77ThinF_IMG_20150930_171844_cell_88.png',\n",
              " 'C133P94ThinF_IMG_20151004_154512_cell_123.png',\n",
              " 'C184P145ThinF_IMG_20151203_102721_cell_11.png',\n",
              " 'C101P62ThinF_IMG_20150923_170246_cell_71.png',\n",
              " 'C107P68ThinF_IMG_20150924_222233_cell_159.png',\n",
              " 'C100P61ThinF_IMG_20150918_145938_cell_172.png',\n",
              " 'C60P21thinF_IMG_20150803_144510_cell_142.png',\n",
              " 'C68P29N_ThinF_IMG_20150819_133236_cell_159.png',\n",
              " 'C132P93ThinF_IMG_20151004_152257_cell_132.png',\n",
              " 'C129P90ThinF_IMG_20151004_134636_cell_11.png',\n",
              " 'C120P81ThinF_IMG_20151002_130918_cell_195.png',\n",
              " 'C129P90ThinF_IMG_20151004_134944_cell_1.png',\n",
              " 'C181P142ThinF_IMG_20151127_160539_cell_194.png',\n",
              " 'C128P89ThinF_IMG_20151004_130408_cell_151.png',\n",
              " 'C182P143NThinF_IMG_20151201_171905_cell_179.png',\n",
              " 'C128P89ThinF_IMG_20151004_130810_cell_149.png',\n",
              " 'C39P4thinF_original_IMG_20150622_113126_cell_8.png',\n",
              " 'C133P94ThinF_IMG_20151004_154919_cell_136.png',\n",
              " 'C100P61ThinF_IMG_20150918_145938_cell_170.png',\n",
              " 'C107P68ThinF_IMG_20150924_222415_cell_176.png',\n",
              " 'C39P4thinF_original_IMG_20150622_112119_cell_6.png',\n",
              " 'C91P52ThinF_IMG_20150821_124739_cell_196.png',\n",
              " 'C66P27N_ThinF_IMG_20150818_164702_cell_153.png',\n",
              " 'C110P71ThinF_IMG_20150930_105559_cell_200.png',\n",
              " 'C51AP12thinF_IMG_20150724_155947_cell_92.png',\n",
              " 'C139P100ThinF_IMG_20151005_182257_cell_178.png',\n",
              " 'C97P58ThinF_IMG_20150917_151551_cell_175.png',\n",
              " 'C42P5thin_original_IMG_20150623_134751_cell_206.png',\n",
              " 'C182P143NThinF_IMG_20151201_172057_cell_155.png',\n",
              " 'C118P79ThinF_IMG_20151002_110725_cell_136.png',\n",
              " 'C68P29N_ThinF_IMG_20150819_133350_cell_165.png',\n",
              " 'C99P60ThinF_IMG_20150918_141001_cell_168.png',\n",
              " 'C130P91ThinF_IMG_20151004_135449_cell_122.png',\n",
              " 'C60P21thinF_IMG_20150803_144003_cell_124.png',\n",
              " 'C39P4thinF_original_IMG_20150622_110115_cell_105.png',\n",
              " 'C136P97ThinF_IMG_20151005_141803_cell_129.png',\n",
              " 'C80P41ThinF_IMG_20150817_112557_cell_18.png',\n",
              " 'C108P69ThinF_IMG_20150924_225004_cell_221.png',\n",
              " 'C132P93ThinF_IMG_20151004_151941_cell_29.png',\n",
              " 'C184P145ThinF_IMG_20151203_104153_cell_153.png',\n",
              " 'C136P97ThinF_IMG_20151005_143329_cell_102.png',\n",
              " 'C51AP12thinF_IMG_20150724_154330_cell_114.png',\n",
              " 'C184P145ThinF_IMG_20151203_103824_cell_146.png',\n",
              " 'C39P4thinF_original_IMG_20150622_110900_cell_12.png',\n",
              " 'C184P145ThinF_IMG_20151203_103114_cell_157.png',\n",
              " 'C144P105ThinF_IMG_20151015_163432_cell_310.png',\n",
              " 'C82P43ThinF_IMG_20150817_124418_cell_156.png',\n",
              " 'C118P79ThinF_IMG_20151002_110212_cell_11.png',\n",
              " 'C82P43ThinF_IMG_20150817_123824_cell_205.png',\n",
              " 'C39P4thinF_original_IMG_20150622_114804_cell_19.png',\n",
              " 'C68P29N_ThinF_IMG_20150819_134830_cell_12.png',\n",
              " 'C174P135NThinF_IMG_20151127_135640_cell_196.png',\n",
              " 'C76P37ThinF_IMG_20150815_171214_cell_197.png',\n",
              " 'C91P52ThinF_IMG_20150821_124504_cell_211.png',\n",
              " 'C39P4thinF_original_IMG_20150622_113632_cell_4.png',\n",
              " 'C186P147NThinF_IMG_20151203_150322_cell_171.png',\n",
              " 'C72P33_ThinF_IMG_20150815_104045_cell_209.png',\n",
              " 'C132P93ThinF_IMG_20151004_151811_cell_135.png',\n",
              " 'C68P29N_ThinF_IMG_20150819_134112_cell_157.png',\n",
              " 'C84P45ThinF_IMG_20150818_101257_cell_88.png',\n",
              " 'C184P145ThinF_IMG_20151203_103114_cell_176.png',\n",
              " 'C179P140ThinF_IMG_20151127_153350_cell_183.png',\n",
              " 'C117P78ThinF_IMG_20150930_214629_cell_103.png',\n",
              " 'C176P137NThinF_IMG_20151201_114035_cell_124.png',\n",
              " 'C39P4thinF_original_IMG_20150622_105253_cell_103.png',\n",
              " 'C176P137NThinF_IMG_20151201_114235_cell_2.png',\n",
              " 'C182P143NThinF_IMG_20151201_172216_cell_133.png',\n",
              " 'C118P79ThinF_IMG_20151002_110609_cell_3.png',\n",
              " 'C131P92ThinF_IMG_20151004_145224_cell_139.png',\n",
              " 'C180P141NThinF_IMG_20151201_165528_cell_165.png',\n",
              " 'C120P81ThinF_IMG_20151002_130918_cell_201.png',\n",
              " 'C189P150ThinF_IMG_20151203_142224_cell_85.png',\n",
              " 'C91P52ThinF_IMG_20150821_124311_cell_33.png',\n",
              " 'C188P149ThinF_IMG_20151203_134319_cell_184.png',\n",
              " 'C51AP12thinF_IMG_20150724_154243_cell_118.png',\n",
              " 'C59P20thinF_IMG_20150803_113139_cell_3.png',\n",
              " 'C70P31_ThinF_IMG_20150813_131457_cell_2.png',\n",
              " 'C84P45ThinF_IMG_20150818_101412_cell_101.png',\n",
              " 'C111P72ThinF_IMG_20150930_113003_cell_182.png',\n",
              " 'C45P6ThinF_IMG_20151130_160135_cell_204.png',\n",
              " 'C132P93ThinF_IMG_20151004_151811_cell_150.png',\n",
              " 'C179P140ThinF_IMG_20151127_153852_cell_164.png',\n",
              " 'C103P64ThinF_IMG_20150918_164331_cell_186.png',\n",
              " 'C132P93ThinF_IMG_20151004_153030_cell_31.png',\n",
              " 'C136P97ThinF_IMG_20151005_144449_cell_24.png',\n",
              " 'C82P43ThinF_IMG_20150817_125114_cell_12.png',\n",
              " 'C176P137NThinF_IMG_20151201_114235_cell_8.png',\n",
              " 'C76P37ThinF_IMG_20150815_165356_cell_181.png',\n",
              " 'C184P145ThinF_IMG_20151203_103114_cell_147.png',\n",
              " 'C180P141NThinF_IMG_20151201_165601_cell_200.png',\n",
              " 'C184P145ThinF_IMG_20151203_104440_cell_25.png',\n",
              " 'C80P41ThinF_IMG_20150817_112557_cell_4.png',\n",
              " 'C62P23N_ThinF_IMG_20150818_132918_cell_195.png',\n",
              " 'C181P142ThinF_IMG_20151127_155914_cell_168.png',\n",
              " 'C179P140ThinF_IMG_20151127_153350_cell_182.png',\n",
              " 'C170P131ThinF_IMG_20151119_120233_cell_188.png',\n",
              " 'C102P63ThinF_IMG_20150918_162927_cell_2.png',\n",
              " 'C52P13thinF_IMG_20150725_125213_cell_169.png',\n",
              " 'C132P93ThinF_IMG_20151004_152808_cell_1.png',\n",
              " 'C186P147NThinF_IMG_20151203_150322_cell_172.png',\n",
              " 'C129P90ThinF_IMG_20151004_133421_cell_100.png',\n",
              " 'C136P97ThinF_IMG_20151005_140646_cell_113.png',\n",
              " 'C59P20thinF_IMG_20150803_111244_cell_191.png',\n",
              " 'C60P21thinF_IMG_20150804_105034_cell_122.png',\n",
              " 'C48P9thinF_IMG_20150721_161055_cell_195.png',\n",
              " 'C68P29N_ThinF_IMG_20150819_134712_cell_12.png',\n",
              " 'C132P93ThinF_IMG_20151004_152642_cell_40.png',\n",
              " 'C184P145ThinF_IMG_20151203_103824_cell_122.png',\n",
              " 'C48P9thinF_IMG_20150721_164129_cell_4.png',\n",
              " 'C116P77ThinF_IMG_20150930_171448_cell_107.png',\n",
              " 'C182P143NThinF_IMG_20151201_171836_cell_161.png',\n",
              " 'C189P150ThinF_IMG_20151203_142113_cell_91.png',\n",
              " 'C159P120ThinF_IMG_20151115_190642_cell_196.png',\n",
              " 'C62P23N_ThinF_IMG_20150818_132811_cell_196.png',\n",
              " 'C68P29N_ThinF_IMG_20150819_133447_cell_178.png',\n",
              " 'C158P119ThinF_IMG_20151115_181859_cell_200.png',\n",
              " 'C184P145ThinF_IMG_20151203_104440_cell_45.png',\n",
              " 'C60P21thinF_IMG_20150804_105639_cell_1.png',\n",
              " 'C91P52ThinF_IMG_20150821_125154_cell_211.png',\n",
              " 'C80P41ThinF_IMG_20150817_110348_cell_118.png',\n",
              " 'C45P6ThinF_IMG_20151130_160135_cell_214.png',\n",
              " 'C175P136NThinF_IMG_20151127_141253_cell_239.png',\n",
              " 'C182P143NThinF_IMG_20151201_172524_cell_167.png',\n",
              " 'C74P35_ThinF_IMG_20150815_120957_cell_128.png',\n",
              " 'C116P77ThinF_IMG_20150930_171954_cell_78.png',\n",
              " 'C45P6ThinF_IMG_20151130_155011_cell_171.png',\n",
              " 'C167P128ReThinF_IMG_20151201_105102_cell_253.png',\n",
              " 'C180P141NThinF_IMG_20151201_163848_cell_172.png',\n",
              " 'C82P43ThinF_IMG_20150817_123652_cell_228.png',\n",
              " 'C101P62ThinF_IMG_20150918_151239_cell_100.png',\n",
              " 'C129P90ThinF_IMG_20151004_134636_cell_14.png',\n",
              " 'C101P62ThinF_IMG_20150918_151006_cell_74.png',\n",
              " 'C84P45ThinF_IMG_20150818_102507_cell_93.png',\n",
              " 'C65P26N_ThinF_IMG_20150818_154714_cell_185.png',\n",
              " 'C68P29N_ThinF_IMG_20150819_134830_cell_38.png',\n",
              " 'C129P90ThinF_IMG_20151004_133538_cell_92.png',\n",
              " 'C82P43ThinF_IMG_20150817_124728_cell_27.png',\n",
              " 'C159P120ThinF_IMG_20151115_190421_cell_207.png',\n",
              " 'C59P20thinF_IMG_20150803_113430_cell_28.png',\n",
              " 'C82P43ThinF_IMG_20150817_125326_cell_9.png',\n",
              " 'C132P93ThinF_IMG_20151004_151733_cell_156.png',\n",
              " 'C137P98ThinF_IMG_20151005_161859_cell_80.png',\n",
              " 'C119P80ThinF_IMG_20151002_124345_cell_163.png',\n",
              " 'C128P89ThinF_IMG_20151004_131753_cell_124.png',\n",
              " 'C157P118ThinF_IMG_20151115_164755_cell_191.png',\n",
              " 'C132P93ThinF_IMG_20151004_151811_cell_146.png',\n",
              " 'C70P31_ThinF_IMG_20150813_131609_cell_97.png',\n",
              " 'C116P77ThinF_IMG_20150930_171809_cell_65.png',\n",
              " 'C180P141NThinF_IMG_20151201_170110_cell_23.png',\n",
              " 'C182P143NThinF_IMG_20151201_172842_cell_23.png',\n",
              " 'C137P98ThinF_IMG_20151005_161449_cell_3.png',\n",
              " 'C148P109ThinF_IMG_20151115_112333_cell_245.png',\n",
              " 'C80P41ThinF_IMG_20150817_110834_cell_122.png',\n",
              " 'C101P62ThinF_IMG_20150923_170246_cell_88.png',\n",
              " 'C137P98ThinF_IMG_20151005_160918_cell_79.png',\n",
              " 'C68P29N_ThinF_IMG_20150819_133447_cell_169.png',\n",
              " 'C177P138NThinF_IMG_20151201_143025_cell_183.png',\n",
              " 'C181P142ThinF_IMG_20151127_160539_cell_201.png',\n",
              " 'C116P77ThinF_IMG_20150930_171809_cell_84.png',\n",
              " 'C51AP12thinF_IMG_20150724_153313_cell_93.png',\n",
              " 'C108P69ThinF_IMG_20150924_223834_cell_218.png',\n",
              " 'C132P93ThinF_IMG_20151004_152353_cell_151.png',\n",
              " 'C163P124ThinF_IMG_20151116_111350_cell_2.png',\n",
              " 'C128P89ThinF_IMG_20151004_131129_cell_152.png',\n",
              " 'C182P143NThinF_IMG_20151201_172607_cell_18.png',\n",
              " 'C189P150ThinF_IMG_20151203_142224_cell_97.png',\n",
              " 'C119P80ThinF_IMG_20151002_123911_cell_136.png',\n",
              " 'C93P54ThinF_IMG_20150821_163815_cell_214.png',\n",
              " 'C103P64ThinF_IMG_20150918_165016_cell_162.png',\n",
              " 'C156P117ThinF_IMG_20151115_155104_cell_257.png',\n",
              " 'C91P52ThinF_IMG_20150821_125154_cell_209.png',\n",
              " 'C116P77ThinF_IMG_20150930_171954_cell_107.png',\n",
              " 'C68P29N_ThinF_IMG_20150819_134326_cell_172.png',\n",
              " 'C132P93ThinF_IMG_20151004_152505_cell_134.png',\n",
              " 'C132P93ThinF_IMG_20151004_152505_cell_151.png',\n",
              " 'C184P145ThinF_IMG_20151203_104440_cell_32.png',\n",
              " 'C176P137NThinF_IMG_20151201_122708_cell_125.png',\n",
              " 'C82P43ThinF_IMG_20150817_123500_cell_246.png',\n",
              " 'C183P144NThinF_IMG_20151201_224107_cell_133.png',\n",
              " 'C182P143NThinF_IMG_20151201_172216_cell_165.png',\n",
              " 'C99P60ThinF_IMG_20150918_141129_cell_140.png',\n",
              " 'C131P92ThinF_IMG_20151004_150208_cell_140.png',\n",
              " 'C126P87ThinF_IMG_20151004_105100_cell_127.png',\n",
              " 'C99P60ThinF_IMG_20150918_142128_cell_92.png',\n",
              " 'C184P145ThinF_IMG_20151203_102405_cell_142.png',\n",
              " 'C172P133ThinF_IMG_20151119_155307_cell_257.png',\n",
              " 'C180P141NThinF_IMG_20151201_165423_cell_177.png',\n",
              " 'C137P98ThinF_IMG_20151005_163251_cell_74.png',\n",
              " 'C132P93ThinF_IMG_20151004_152045_cell_158.png',\n",
              " 'C117P78ThinF_IMG_20150930_221812_cell_84.png',\n",
              " 'C183P144NThinF_IMG_20151201_224107_cell_131.png',\n",
              " 'C118P79ThinF_IMG_20151002_110002_cell_15.png',\n",
              " 'C157P118ThinF_IMG_20151115_162818_cell_188.png',\n",
              " 'C49P10thinF_IMG_20150724_103233_cell_196.png',\n",
              " 'C179P140ThinF_IMG_20151127_153453_cell_175.png',\n",
              " 'C99P60ThinF_IMG_20150918_141520_cell_96.png',\n",
              " 'C60P21thinF_IMG_20150804_113011_cell_16.png',\n",
              " 'C101P62ThinF_IMG_20150918_151006_cell_71.png',\n",
              " 'C39P4thinF_original_IMG_20150622_114609_cell_14.png',\n",
              " 'C119P80ThinF_IMG_20151002_123608_cell_151.png',\n",
              " 'C184P145ThinF_IMG_20151203_103637_cell_148.png',\n",
              " 'C66P27N_ThinF_IMG_20150818_163419_cell_194.png',\n",
              " 'C59P20thinF_IMG_20150803_113809_cell_7.png',\n",
              " 'C137P98ThinF_IMG_20151005_155444_cell_98.png',\n",
              " 'C70P31_ThinF_IMG_20150813_130510_cell_85.png',\n",
              " 'C68P29N_ThinF_IMG_20150819_133447_cell_177.png',\n",
              " 'C39P4thinF_original_IMG_20150622_114122_cell_2.png',\n",
              " 'C136P97ThinF_IMG_20151005_141946_cell_116.png',\n",
              " 'C117P78ThinF_IMG_20150930_214941_cell_81.png',\n",
              " 'C182P143NThinF_IMG_20151201_172216_cell_187.png',\n",
              " 'C184P145ThinF_IMG_20151203_102405_cell_162.png',\n",
              " 'C82P43ThinF_IMG_20150817_123500_cell_225.png',\n",
              " 'C179P140ThinF_IMG_20151127_153453_cell_174.png',\n",
              " 'C39P4thinF_original_IMG_20150622_113842_cell_3.png',\n",
              " 'C33P1thinF_IMG_20150619_120645a_cell_215.png',\n",
              " 'C174P135NThinF_IMG_20151127_135512_cell_187.png',\n",
              " 'C133P94ThinF_IMG_20151004_154717_cell_119.png',\n",
              " 'C116P77ThinF_IMG_20150930_172112_cell_80.png',\n",
              " 'C172P133ThinF_IMG_20151119_154936_cell_263.png',\n",
              " 'C182P143NThinF_IMG_20151201_172057_cell_181.png',\n",
              " 'C128P89ThinF_IMG_20151004_130549_cell_137.png',\n",
              " 'C167P128ReThinF_IMG_20151201_110011_cell_238.png',\n",
              " 'C178P139NThinF_IMG_20151201_154735_cell_164.png',\n",
              " 'C180P141NThinF_IMG_20151201_165423_cell_182.png',\n",
              " 'C70P31_ThinF_IMG_20150813_131457_cell_15.png',\n",
              " 'C182P143NThinF_IMG_20151201_171950_cell_162.png',\n",
              " 'C59P20thinF_IMG_20150803_111333_cell_180.png',\n",
              " 'C130P91ThinF_IMG_20151004_141504_cell_144.png',\n",
              " 'C175P136NThinF_IMG_20151127_142326_cell_220.png',\n",
              " 'C189P150ThinF_IMG_20151203_141809_cell_91.png',\n",
              " 'C99P60ThinF_IMG_20150918_141520_cell_118.png',\n",
              " 'C46P7ThinF_IMG_20151130_210938_cell_165.png',\n",
              " 'C174P135NThinF_IMG_20151127_135311_cell_198.png',\n",
              " 'C182P143NThinF_IMG_20151201_171905_cell_137.png',\n",
              " 'C116P77ThinF_IMG_20150930_171635_cell_85.png',\n",
              " 'C79P40ThinF_IMG_20150817_104919_cell_132.png',\n",
              " 'C184P145ThinF_IMG_20151203_102543_cell_174.png',\n",
              " 'C184P145ThinF_IMG_20151203_104334_cell_15.png',\n",
              " 'C76P37ThinF_IMG_20150815_171454_cell_252.png',\n",
              " 'C97P58ThinF_IMG_20150917_152225_cell_1.png',\n",
              " 'C60P21thinF_IMG_20150804_104919_cell_133.png',\n",
              " 'C180P141NThinF_IMG_20151201_165453_cell_13.png',\n",
              " 'C80P41ThinF_IMG_20150817_111544_cell_138.png',\n",
              " 'C113P74ThinF_IMG_20150930_134751_cell_173.png',\n",
              " 'C117P78ThinF_IMG_20150930_215322_cell_83.png',\n",
              " 'C124P85ThinF_IMG_20151002_155223_cell_170.png',\n",
              " 'C71P32_ThinF_IMG_20150813_162016_cell_242.png',\n",
              " 'C133P94ThinF_IMG_20151004_154919_cell_144.png',\n",
              " 'C178P139NThinF_IMG_20151201_153246_cell_154.png',\n",
              " 'C101P62ThinF_IMG_20150918_155731_cell_71.png',\n",
              " 'C101P62ThinF_IMG_20150923_165215_cell_33.png',\n",
              " 'C68P29N_ThinF_IMG_20150819_133447_cell_127.png',\n",
              " 'C99P60ThinF_IMG_20150918_140900_cell_107.png',\n",
              " 'C39P4thinF_original_IMG_20150622_110435_cell_92.png',\n",
              " 'C120P81ThinF_IMG_20151002_130150_cell_198.png',\n",
              " 'C179P140ThinF_IMG_20151127_153521_cell_162.png',\n",
              " 'C100P61ThinF_IMG_20150918_144104_cell_168.png',\n",
              " 'C84P45ThinF_IMG_20150818_101550_cell_106.png',\n",
              " 'C68P29N_ThinF_IMG_20150819_134504_cell_169.png',\n",
              " 'C173P134NThinF_IMG_20151130_115339_cell_258.png',\n",
              " 'C68P29N_ThinF_IMG_20150819_133447_cell_156.png',\n",
              " 'C132P93ThinF_IMG_20151004_153030_cell_17.png',\n",
              " 'C39P4thinF_original_IMG_20150622_110435_cell_116.png',\n",
              " 'C148P109ThinF_IMG_20151115_112855_cell_260.png',\n",
              " 'C45P6ThinF_IMG_20151130_160135_cell_222.png',\n",
              " 'C116P77ThinF_IMG_20150930_171809_cell_72.png',\n",
              " 'C91P52ThinF_IMG_20150821_124937_cell_224.png',\n",
              " 'C91P52ThinF_IMG_20150821_123314_cell_199.png',\n",
              " 'C45P6ThinF_IMG_20151130_155110_cell_208.png',\n",
              " 'C130P91ThinF_IMG_20151004_141428_cell_132.png',\n",
              " 'C39P4thinF_original_IMG_20150622_105102_cell_92.png',\n",
              " 'C135P96ThinF_IMG_20151005_124359_cell_150.png',\n",
              " 'C180P141NThinF_IMG_20151201_165659_cell_14.png',\n",
              " 'C182P143NThinF_IMG_20151201_171836_cell_178.png',\n",
              " 'C76P37ThinF_IMG_20150815_173019_cell_235.png',\n",
              " 'C66P27N_ThinF_IMG_20150818_164754_cell_199.png',\n",
              " 'C136P97ThinF_IMG_20151005_141803_cell_130.png',\n",
              " 'C91P52ThinF_IMG_20150821_124739_cell_184.png',\n",
              " 'C118P79ThinF_IMG_20151002_110834_cell_136.png',\n",
              " 'C118P79ThinF_IMG_20151002_110834_cell_144.png',\n",
              " 'C129P90ThinF_IMG_20151004_134520_cell_119.png',\n",
              " 'C133P94ThinF_IMG_20151004_154919_cell_117.png',\n",
              " 'C101P62ThinF_IMG_20150918_151942_cell_88.png',\n",
              " 'C101P62ThinF_IMG_20150918_151507_cell_50.png',\n",
              " 'C176P137NThinF_IMG_20151201_121303_cell_120.png',\n",
              " 'C130P91ThinF_IMG_20151004_141428_cell_137.png',\n",
              " 'C99P60ThinF_IMG_20150918_142334_cell_5.png',\n",
              " 'C68P29N_ThinF_IMG_20150819_134712_cell_6.png',\n",
              " 'C59P20thinF_IMG_20150803_115303_cell_46.png',\n",
              " 'C132P93ThinF_IMG_20151004_152505_cell_128.png',\n",
              " 'C180P141NThinF_IMG_20151201_165601_cell_193.png',\n",
              " 'C82P43ThinF_IMG_20150817_124728_cell_11.png',\n",
              " 'C176P137NThinF_IMG_20151201_120612_cell_25.png',\n",
              " 'C111P72ThinF_IMG_20150930_113210_cell_171.png',\n",
              " 'C92P53ThinF_IMG_20150821_151646_cell_204.png',\n",
              " 'C157P118ThinF_IMG_20151115_164141_cell_205.png',\n",
              " 'C132P93ThinF_IMG_20151004_152505_cell_126.png',\n",
              " 'C70P31_ThinF_IMG_20150819_141327_cell_77.png',\n",
              " 'C99P60ThinF_IMG_20150918_141351_cell_117.png',\n",
              " 'C157P118ThinF_IMG_20151115_163611_cell_212.png',\n",
              " 'C82P43ThinF_IMG_20150817_123824_cell_203.png',\n",
              " 'C39P4thinF_original_IMG_20150622_110435_cell_105.png',\n",
              " 'C48P9thinF_IMG_20150721_160944_cell_209.png',\n",
              " 'C75P36_ThinF_IMG_20150815_163225_cell_171.png',\n",
              " 'C174P135NThinF_IMG_20151127_135342_cell_217.png',\n",
              " 'C39P4thinF_original_IMG_20150622_110115_cell_104.png',\n",
              " 'C183P144NThinF_IMG_20151201_223758_cell_135.png',\n",
              " 'C126P87ThinF_IMG_20151004_105844_cell_148.png',\n",
              " 'C176P137NThinF_IMG_20151201_122444_cell_116.png',\n",
              " 'C129P90ThinF_IMG_20151004_134520_cell_103.png',\n",
              " 'C116P77ThinF_IMG_20150930_171635_cell_75.png',\n",
              " 'C174P135NThinF_IMG_20151127_135554_cell_205.png',\n",
              " 'C82P43ThinF_IMG_20150817_123824_cell_187.png',\n",
              " 'C141P102ThinF_IMG_20151005_213930_cell_118.png',\n",
              " 'C91P52ThinF_IMG_20150821_124311_cell_19.png',\n",
              " 'C184P145ThinF_IMG_20151203_102405_cell_169.png',\n",
              " 'C46P7ThinF_IMG_20151130_210843_cell_141.png',\n",
              " 'C184P145ThinF_IMG_20151203_102405_cell_145.png',\n",
              " 'C185P146ThinF_IMG_20151203_110344_cell_264.png',\n",
              " 'C182P143NThinF_IMG_20151201_171836_cell_154.png',\n",
              " 'C161P122ThinF_IMG_20151116_101210_cell_126.png',\n",
              " 'C99P60ThinF_IMG_20150918_141520_cell_124.png',\n",
              " 'C181P142ThinF_IMG_20151127_160616_cell_165.png',\n",
              " ...]"
            ]
          },
          "metadata": {
            "tags": []
          },
          "execution_count": 94
        }
      ]
    },
    {
      "cell_type": "code",
      "metadata": {
        "id": "nQ3UIBKlGs0V",
        "colab_type": "code",
        "colab": {}
      },
      "source": [
        "para_cell=train_path+'parasitized/'+'C167P128ReThinF_IMG_20151201_105707_cell_226.png'"
      ],
      "execution_count": 0,
      "outputs": []
    },
    {
      "cell_type": "code",
      "metadata": {
        "id": "VWQTMqIcHG7z",
        "colab_type": "code",
        "outputId": "721c435a-385a-4230-f3b7-167f0a7a4866",
        "colab": {
          "base_uri": "https://localhost:8080/",
          "height": 286
        }
      },
      "source": [
        "plt.imshow(imread(para_cell))"
      ],
      "execution_count": 0,
      "outputs": [
        {
          "output_type": "execute_result",
          "data": {
            "text/plain": [
              "<matplotlib.image.AxesImage at 0x7f0cce621a58>"
            ]
          },
          "metadata": {
            "tags": []
          },
          "execution_count": 96
        },
        {
          "output_type": "display_data",
          "data": {
            "image/png": "[encoded data removed]",
            "text/plain": [
              "<Figure size 432x288 with 1 Axes>"
            ]
          },
          "metadata": {
            "tags": [],
            "needs_background": "light"
          }
        }
      ]
    },
    {
      "cell_type": "code",
      "metadata": {
        "id": "nPFyZKnGH5BD",
        "colab_type": "code",
        "outputId": "8d435e80-342d-4af3-eb93-63ec6e0c94c2",
        "colab": {
          "base_uri": "https://localhost:8080/",
          "height": 1000
        }
      },
      "source": [
        "os.listdir(train_path+'uninfected')"
      ],
      "execution_count": 0,
      "outputs": [
        {
          "output_type": "execute_result",
          "data": {
            "text/plain": [
              "['C117P78ThinF_IMG_20150930_221048_cell_47.png',\n",
              " 'C154P115ThinF_IMG_20151115_141837_cell_142.png',\n",
              " 'C74P35_ThinF_IMG_20150815_114555_cell_53.png',\n",
              " 'C129P90ThinF_IMG_20151004_134306_cell_3.png',\n",
              " 'C188P149ThinF_IMG_20151203_135433_cell_20.png',\n",
              " 'C181P142ThinF_IMG_20151127_160539_cell_50.png',\n",
              " 'C61P22N_ThinF_IMG_20150818_112626_cell_59.png',\n",
              " 'C37BP2_thinF_IMG_20150620_133111a_cell_16.png',\n",
              " 'C212ThinF_IMG_20151106_105941_cell_110.png',\n",
              " 'C49P10thinF_IMG_20150724_103233_cell_18.png',\n",
              " 'C208ThinF_IMG_20151029_155436_cell_187.png',\n",
              " 'C95P56ThinF_IMG_20150821_171603_cell_35.png',\n",
              " 'C112P73ThinF_IMG_20150930_131659_cell_143.png',\n",
              " 'C158P119ThinF_IMG_20151115_181859_cell_45.png',\n",
              " 'C49P10thinF_IMG_20150724_102951_cell_134.png',\n",
              " 'C124P85ThinF_IMG_20151002_154846_cell_30.png',\n",
              " 'C111P72ThinF_IMG_20150930_113210_cell_4.png',\n",
              " 'C175P136NThinF_IMG_20151127_142009_cell_17.png',\n",
              " 'C89P50ThinF_IMG_20150820_162504_cell_28.png',\n",
              " 'C174P135NThinF_IMG_20151127_135512_cell_34.png',\n",
              " 'C101P62ThinF_IMG_20150923_170246_cell_19.png',\n",
              " 'C57P18thinF_IMG_20150729_111518_cell_54.png',\n",
              " 'C113P74ThinF_IMG_20150930_140646_cell_161.png',\n",
              " 'C235ThinF_IMG_20151112_164625_cell_124.png',\n",
              " 'C91P52ThinF_IMG_20150821_124739_cell_39.png',\n",
              " 'C217ThinF_IMG_20151106_141135_cell_218.png',\n",
              " 'C105P66ThinF_IMG_20150924_094800_cell_132.png',\n",
              " 'C188P149ThinF_IMG_20151203_134449_cell_85.png',\n",
              " 'C102P63ThinF_IMG_20150918_162155_cell_51.png',\n",
              " 'C117P78ThinF_IMG_20150930_214317_cell_77.png',\n",
              " 'C105P66ThinF_IMG_20150924_100655_cell_96.png',\n",
              " 'C182P143NThinF_IMG_20151201_172257_cell_87.png',\n",
              " 'C184P145ThinF_IMG_20151203_103326_cell_2.png',\n",
              " 'C86P47ThinF_IMG_20150820_123717_cell_63.png',\n",
              " 'C49P10thinF_IMG_20150724_103054_cell_137.png',\n",
              " 'C68P29N_ThinF_IMG_20150819_134112_cell_79.png',\n",
              " 'C106P67ThinF_IMG_20150924_104044_cell_49.png',\n",
              " 'C91P52ThinF_IMG_20150821_123314_cell_105.png',\n",
              " 'C119P80ThinF_IMG_20151002_122720_cell_122.png',\n",
              " 'C86P47ThinF_IMG_20150820_125057_cell_149.png',\n",
              " 'C182P143NThinF_IMG_20151201_172257_cell_100.png',\n",
              " 'C60P21thinF_IMG_20150804_105955_cell_111.png',\n",
              " 'C47P8thinOriginalOlympusCX21_IMG_20150717_174844_cell_2.png',\n",
              " 'C125P86ThinF_IMG_20151004_102053_cell_135.png',\n",
              " 'C58P19thinF_IMG_20150802_122520_cell_58.png',\n",
              " 'C177P138NThinF_IMG_20151201_142514_cell_46.png',\n",
              " 'C87P48ThinF_IMG_20150820_144855_cell_143.png',\n",
              " 'C2NThinF_IMG_20150604_115238_cell_115.png',\n",
              " 'C79P40ThinF_IMG_20150817_102702_cell_5.png',\n",
              " 'C237ThinF_IMG_20151127_104844_cell_17.png',\n",
              " 'C42P5thin_original_IMG_20150623_135251_cell_121.png',\n",
              " 'C65P26N_ThinF_IMG_20150818_154050_cell_168.png',\n",
              " 'C147P108ThinF_IMG_20151115_101317_cell_106.png',\n",
              " 'C146P107ThinF_IMG_20151018_140439_cell_80.png',\n",
              " 'C72P33_ThinF_IMG_20150815_105823_cell_5.png',\n",
              " 'C149P110ThinF_IMG_20151115_115154_cell_135.png',\n",
              " 'C117P78ThinF_IMG_20150930_214941_cell_61.png',\n",
              " 'C139P100ThinF_IMG_20151005_183521_cell_142.png',\n",
              " 'C174P135NThinF_IMG_20151127_135311_cell_122.png',\n",
              " 'C66P27N_ThinF_IMG_20150818_164702_cell_117.png',\n",
              " 'C99P60ThinF_IMG_20150918_141129_cell_38.png',\n",
              " 'C12NThinF_IMG_20150614_125703_cell_120.png',\n",
              " 'C142P103ThinF_IMG_20151005_221931_cell_57.png',\n",
              " 'C239ThinF_IMG_20151127_113223_cell_173.png',\n",
              " 'C105P66ThinF_IMG_20150924_100655_cell_80.png',\n",
              " 'C99P60ThinF_IMG_20150918_141129_cell_77.png',\n",
              " 'C103P64ThinF_IMG_20150918_165016_cell_92.png',\n",
              " 'C58P19thinF_IMG_20150802_122338_cell_54.png',\n",
              " 'C219ThinF_IMG_20151106_150135_cell_109.png',\n",
              " 'C37BP2_thinF_IMG_20150620_132847a_cell_7.png',\n",
              " 'C126P87ThinF_IMG_20151004_104408_cell_10.png',\n",
              " 'C85P46ThinF_IMG_20150820_110143_cell_110.png',\n",
              " 'C224ThinF_IMG_20151112_112334_cell_93.png',\n",
              " 'C140P101ThinF_IMG_20151005_211735_cell_32.png',\n",
              " 'C209ThinF_IMG_20151029_160721_cell_58.png',\n",
              " 'C158P119ThinF_IMG_20151115_181436_cell_118.png',\n",
              " 'C201ThinF_IMG_20150930_143411_cell_45.png',\n",
              " 'C145P106ThinF_IMG_20151016_154719_cell_81.png',\n",
              " 'C88P49ThinF_IMG_20150820_150141_cell_143.png',\n",
              " 'C159P120ThinF_IMG_20151115_190642_cell_165.png',\n",
              " 'C58P19thinF_IMG_20150802_122846_cell_136.png',\n",
              " 'C139P100ThinF_IMG_20151005_183338_cell_111.png',\n",
              " 'C159P120ThinF_IMG_20151115_190421_cell_23.png',\n",
              " 'C82P43ThinF_IMG_20150817_124418_cell_82.png',\n",
              " 'C63P24N_ThinF_IMG_20150818_144456_cell_88.png',\n",
              " 'C237ThinF_IMG_20151127_105320_cell_38.png',\n",
              " 'C143P104ThinF_IMG_20151005_225413_cell_163.png',\n",
              " 'C171P132ThinF_IMG_20151119_153150_cell_142.png',\n",
              " 'C121P82ThinF_IMG_20151002_134659_cell_65.png',\n",
              " 'C33P1thinF_IMG_20150619_120742a_cell_191.png',\n",
              " 'C146P107ThinF_IMG_20151018_135846_cell_173.png',\n",
              " 'C112P73ThinF_IMG_20150930_131401_cell_49.png',\n",
              " 'C67P28N_ThinF_IMG_20150819_133000_cell_79.png',\n",
              " 'C236ThinF_IMG_20151127_102516_cell_33.png',\n",
              " 'C79P40ThinF_IMG_20150817_104745_cell_142.png',\n",
              " 'C208ThinF_IMG_20151029_155436_cell_35.png',\n",
              " 'C1_thinF_IMG_20150604_104919_cell_183.png',\n",
              " 'C202ThinF_IMG_20151015_151736_cell_145.png',\n",
              " 'C94P55ThinF_IMG_20150821_170249_cell_211.png',\n",
              " 'C74P35_ThinF_IMG_20150815_120957_cell_32.png',\n",
              " 'C231ThinF_IMG_20151112_153246_cell_19.png',\n",
              " 'C33P1thinF_IMG_20150619_121229a_cell_97.png',\n",
              " 'C137P98ThinF_IMG_20151005_160918_cell_22.png',\n",
              " 'C56P17thinF_IMG_20150728_155921_cell_73.png',\n",
              " 'C59P20thinF_IMG_20150803_111244_cell_148.png',\n",
              " 'C181P142ThinF_IMG_20151127_155914_cell_147.png',\n",
              " 'C123P84ThinF_IMG_20151002_151432_cell_146.png',\n",
              " 'C168P129ThinF_IMG_20151118_155802_cell_97.png',\n",
              " 'C96P57ThinF_IMG_20150824_111748_cell_169.png',\n",
              " 'C100P61ThinF_IMG_20150918_145938_cell_83.png',\n",
              " 'C33P1thinF_IMG_20150619_120838a_cell_105.png',\n",
              " 'C157P118ThinF_IMG_20151115_164141_cell_147.png',\n",
              " 'C210ThinF_IMG_20151029_162605_cell_1.png',\n",
              " 'C96P57ThinF_IMG_20150824_112442_cell_170.png',\n",
              " 'C49P10thinF_IMG_20150724_103233_cell_63.png',\n",
              " 'C78P39ThinF_IMG_20150606_104936_cell_117.png',\n",
              " 'C226ThinF_IMG_20151112_131408_cell_164.png',\n",
              " 'C153P114ThinF_IMG_20151115_135746_cell_45.png',\n",
              " 'C65P26N_ThinF_IMG_20150818_154326_cell_74.png',\n",
              " 'C71P32_ThinF_IMG_20150813_163655_cell_140.png',\n",
              " 'C127P88ThinF_IMG_20151004_111755_cell_51.png',\n",
              " 'C217ThinF_IMG_20151106_141326_cell_183.png',\n",
              " 'C183P144NThinF_IMG_20151201_222917_cell_84.png',\n",
              " 'C184P145ThinF_IMG_20151203_102405_cell_98.png',\n",
              " 'C47P8thinOriginalOlympusCX21_IMG_20150717_173515_cell_93.png',\n",
              " 'C130P91ThinF_IMG_20151004_141504_cell_62.png',\n",
              " 'C91P52ThinF_IMG_20150821_125154_cell_61.png',\n",
              " 'C2NThinF_IMG_20150604_114730_cell_183.png',\n",
              " 'C63P24N_ThinF_IMG_20150818_144456_cell_117.png',\n",
              " 'C214ThinF_IMG_20151106_114611_cell_223.png',\n",
              " 'C212ThinF_IMG_20151106_105437_cell_273.png',\n",
              " 'C98P59ThinF_IMG_20150917_153311_cell_61.png',\n",
              " 'C179P140ThinF_IMG_20151127_153436_cell_140.png',\n",
              " 'C147P108ThinF_IMG_20151115_095606_cell_78.png',\n",
              " 'C156P117ThinF_IMG_20151115_155104_cell_6.png',\n",
              " 'C75P36_ThinF_IMG_20150815_163707_cell_51.png',\n",
              " 'C78P39ThinF_IMG_20150606_103459_cell_11.png',\n",
              " 'C76P37ThinF_IMG_20150815_171454_cell_112.png',\n",
              " 'C222ThinF_IMG_20151115_150057_cell_141.png',\n",
              " 'C130P91ThinF_IMG_20151004_141428_cell_121.png',\n",
              " 'C66P27N_ThinF_IMG_20150818_164702_cell_32.png',\n",
              " 'C67P28N_ThinF_IMG_20150819_115955_cell_19.png',\n",
              " 'C184P145ThinF_IMG_20151203_103637_cell_136.png',\n",
              " 'C55P16thinF_IMG_20150728_124508_cell_101.png',\n",
              " 'C236ThinF_IMG_20151127_102635_cell_26.png',\n",
              " 'C73P34_ThinF_IMG_20150815_112246_cell_12.png',\n",
              " 'C118P79ThinF_IMG_20151002_110834_cell_56.png',\n",
              " 'C149P110ThinF_IMG_20151115_115154_cell_30.png',\n",
              " 'C118P79ThinF_IMG_20151002_110725_cell_69.png',\n",
              " 'C177P138NThinF_IMG_20151201_142942_cell_24.png',\n",
              " 'C162P123ThinF_IMG_20151116_102655_cell_138.png',\n",
              " 'C37BP2_thinF_IMG_20150620_133238a_cell_64.png',\n",
              " 'C119P80ThinF_IMG_20151002_124425_cell_101.png',\n",
              " 'C47P8thinOriginalOlympusCX21_IMG_20150717_174844_cell_34.png',\n",
              " 'C62P23N_ThinF_IMG_20150818_133527_cell_46.png',\n",
              " 'C99P60ThinF_IMG_20150918_140900_cell_34.png',\n",
              " 'C189P150ThinF_IMG_20151203_141110_cell_58.png',\n",
              " 'C212ThinF_IMG_20151106_105941_cell_158.png',\n",
              " 'C236ThinF_IMG_20151127_102546_cell_171.png',\n",
              " 'C189P150ThinF_IMG_20151203_141719_cell_11.png',\n",
              " 'C189P150ThinF_IMG_20151203_141615_cell_37.png',\n",
              " 'C211ThinF_IMG_20151029_164218_cell_112.png',\n",
              " 'C235ThinF_IMG_20151112_164834_cell_59.png',\n",
              " 'C120P81ThinF_IMG_20151002_130715_cell_81.png',\n",
              " 'C91P52ThinF_IMG_20150821_123314_cell_54.png',\n",
              " 'C141P102ThinF_IMG_20151005_215711_cell_102.png',\n",
              " 'C133P94ThinF_IMG_20151004_155518_cell_83.png',\n",
              " 'C151P112ThinF_IMG_20151115_122342_cell_39.png',\n",
              " 'C131P92ThinF_IMG_20151004_145410_cell_94.png',\n",
              " 'C53P14thinF_IMG_20150726_114439_cell_69.png',\n",
              " 'C187P148NThinF_IMG_20151203_154503_cell_88.png',\n",
              " 'C89P50ThinF_IMG_20150820_162504_cell_178.png',\n",
              " 'C64P25N_ThinF_IMG_20150818_152337_cell_132.png',\n",
              " 'C177P138NThinF_IMG_20151201_142514_cell_85.png',\n",
              " 'C186P147NThinF_IMG_20151203_150859_cell_134.png',\n",
              " 'C48P9thinF_IMG_20150721_161243_cell_139.png',\n",
              " 'C47P8thin_Original_Motic_IMG_20150714_093512_cell_65.png',\n",
              " 'C130P91ThinF_IMG_20151004_142951_cell_8.png',\n",
              " 'C130P91ThinF_IMG_20151004_135449_cell_62.png',\n",
              " 'C159P120ThinF_IMG_20151115_191301_cell_56.png',\n",
              " 'C149P110ThinF_IMG_20151115_114629_cell_111.png',\n",
              " 'C56P17thinF_IMG_20150728_160537_cell_114.png',\n",
              " 'C114P75ThinF_IMG_20150930_150833_cell_34.png',\n",
              " 'C105P66ThinF_IMG_20150924_095633_cell_5.png',\n",
              " 'C107P68ThinF_IMG_20150924_221632_cell_40.png',\n",
              " 'C100P61ThinF_IMG_20150918_144348_cell_2.png',\n",
              " 'C189P150ThinF_IMG_20151203_142224_cell_3.png',\n",
              " 'C224ThinF_IMG_20151112_112334_cell_113.png',\n",
              " 'C104P65ThinF_IMG_20150918_172537_cell_111.png',\n",
              " 'C188P149ThinF_IMG_20151203_134419_cell_40.png',\n",
              " 'C103P64ThinF_IMG_20150918_165125_cell_132.png',\n",
              " 'C143P104ThinF_IMG_20151005_225528_cell_103.png',\n",
              " 'C149P110ThinF_IMG_20151115_114555_cell_22.png',\n",
              " 'C148P109ThinF_IMG_20151115_112445_cell_29.png',\n",
              " 'C223ThinF_IMG_20151112_104410_cell_162.png',\n",
              " 'C121P82ThinF_IMG_20151002_133158_cell_35.png',\n",
              " 'C165P126ThinF_IMG_20151117_172356_cell_14.png',\n",
              " 'C205ThinF_IMG_20151106_152003_cell_222.png',\n",
              " 'C110P71ThinF_IMG_20150930_105729_cell_206.png',\n",
              " 'C235ThinF_IMG_20151112_164723_cell_154.png',\n",
              " 'C126P87ThinF_IMG_20151004_105844_cell_81.png',\n",
              " 'C62P23N_ThinF_IMG_20150818_132918_cell_161.png',\n",
              " 'C13NThinF_IMG_20150614_131553_cell_94.png',\n",
              " 'C110P71ThinF_IMG_20150930_105729_cell_117.png',\n",
              " 'C144P105ThinF_IMG_20151015_155149_cell_79.png',\n",
              " 'C157P118ThinF_IMG_20151115_163611_cell_35.png',\n",
              " 'C61P22N_ThinF_IMG_20150818_112811_cell_230.png',\n",
              " 'C46P7ThinF_IMG_20151130_210743_cell_143.png',\n",
              " 'C39P4thinF_original_IMG_20150622_111723_cell_33.png',\n",
              " 'C143P104ThinF_IMG_20151005_225454_cell_58.png',\n",
              " 'C174P135NThinF_IMG_20151127_135435_cell_143.png',\n",
              " 'C223ThinF_IMG_20151112_104240_cell_60.png',\n",
              " 'C230ThinF_IMG_20151112_150621_cell_227.png',\n",
              " 'C75P36_ThinF_IMG_20150815_162935_cell_51.png',\n",
              " 'C177P138NThinF_IMG_20151201_144820_cell_8.png',\n",
              " 'C42P5thin_original_IMG_20150623_134547_cell_235.png',\n",
              " 'C106P67ThinF_IMG_20150924_103636_cell_162.png',\n",
              " 'C33P1thinF_IMG_20150619_115740a_cell_6.png',\n",
              " 'C214ThinF_IMG_20151106_114526_cell_23.png',\n",
              " 'C39P4thinF_original_IMG_20150622_111206_cell_46.png',\n",
              " 'C88P49ThinF_IMG_20150820_150724_cell_97.png',\n",
              " 'C171P132ThinF_IMG_20151119_153150_cell_73.png',\n",
              " 'C6NThinF_IMG_20150609_122547_cell_101.png',\n",
              " 'C234ThinF_IMG_20151112_162940_cell_32.png',\n",
              " 'C144P105ThinF_IMG_20151015_160908_cell_48.png',\n",
              " 'C239ThinF_IMG_20151127_113202_cell_199.png',\n",
              " 'C46P7ThinF_IMG_20151130_205828_cell_132.png',\n",
              " 'C173P134NThinF_IMG_20151130_125408_cell_255.png',\n",
              " 'C230ThinF_IMG_20151112_150621_cell_71.png',\n",
              " 'C1_thinF_IMG_20150604_104942_cell_218.png',\n",
              " 'C37BP2_thinF_IMG_20150620_132847a_cell_75.png',\n",
              " 'C136P97ThinF_IMG_20151005_143743_cell_78.png',\n",
              " 'C124P85ThinF_IMG_20151002_153825_cell_42.png',\n",
              " 'C143P104ThinF_IMG_20151005_225528_cell_143.png',\n",
              " 'C61P22N_ThinF_IMG_20150818_112704_cell_155.png',\n",
              " 'C58P19thinF_IMG_20150802_121847_cell_103.png',\n",
              " 'C54P15thinF_IMG_20150728_112832_cell_63.png',\n",
              " 'C235ThinF_IMG_20151112_165055_cell_116.png',\n",
              " 'C238NThinF_IMG_20151207_114444_cell_159.png',\n",
              " 'C188P149ThinF_IMG_20151203_134209_cell_166.png',\n",
              " 'C206ThinF_IMG_20151029_140917_cell_131.png',\n",
              " 'C229ThinF_IMG_20151112_144652_cell_47.png',\n",
              " 'C102P63ThinF_IMG_20150918_162051_cell_32.png',\n",
              " 'C235ThinF_IMG_20151112_164834_cell_112.png',\n",
              " 'C66P27N_ThinF_IMG_20150818_163551_cell_26.png',\n",
              " 'C150P111ThinF_IMG_20151115_115950_cell_33.png',\n",
              " 'C70P31_ThinF_IMG_20150819_142744_cell_22.png',\n",
              " 'C134P95ThinF_IMG_20151005_121425_cell_53.png',\n",
              " 'C217ThinF_IMG_20151106_141649_cell_147.png',\n",
              " 'C52P13thinF_IMG_20150725_130013_cell_121.png',\n",
              " 'C141P102ThinF_IMG_20151005_214208_cell_57.png',\n",
              " 'C75P36_ThinF_IMG_20150815_163707_cell_86.png',\n",
              " 'C59P20thinF_IMG_20150803_112733_cell_45.png',\n",
              " 'C39P4thinF_original_IMG_20150622_111723_cell_17.png',\n",
              " 'C108P69ThinF_IMG_20150924_224616_cell_90.png',\n",
              " 'C225ThinF_IMG_20151112_113915_cell_271.png',\n",
              " 'C176P137NThinF_IMG_20151201_120845_cell_78.png',\n",
              " 'C112P73ThinF_IMG_20150930_131605_cell_121.png',\n",
              " 'C5NThinF_IMG_20150609_122227_cell_72.png',\n",
              " 'C216ThinF_IMG_20151106_134733_cell_123.png',\n",
              " 'C235ThinF_IMG_20151112_164625_cell_92.png',\n",
              " 'C233ThinF_IMG_20151112_160129_cell_233.png',\n",
              " 'C57P18thinF_IMG_20150729_110457_cell_153.png',\n",
              " 'C166P127ThinF_IMG_20151117_194147_cell_40.png',\n",
              " 'C1_thinF_IMG_20150604_104942_cell_4.png',\n",
              " 'C119P80ThinF_IMG_20151002_123608_cell_85.png',\n",
              " 'C2NThinF_IMG_20150604_114730_cell_72.png',\n",
              " 'C51AP12thinF_IMG_20150724_154330_cell_70.png',\n",
              " 'C230ThinF_IMG_20151112_150730_cell_142.png',\n",
              " 'C150P111ThinF_IMG_20151115_120029_cell_137.png',\n",
              " 'C53P14thinF_IMG_20150726_115457_cell_11.png',\n",
              " 'C205ThinF_IMG_20151106_151514_cell_135.png',\n",
              " 'C105P66ThinF_IMG_20150924_094800_cell_63.png',\n",
              " 'C227ThinF_IMG_20151112_135158_cell_122.png',\n",
              " 'C149P110ThinF_IMG_20151115_114910_cell_37.png',\n",
              " 'C75P36_ThinF_IMG_20150815_163707_cell_131.png',\n",
              " 'C158P119ThinF_IMG_20151115_181558_cell_1.png',\n",
              " 'C57P18thinF_IMG_20150729_110305_cell_210.png',\n",
              " 'C144P105ThinF_IMG_20151015_155004_cell_166.png',\n",
              " 'C83P44ThinF_IMG_20150817_133609_cell_59.png',\n",
              " 'C4thin_original_IMG_20150608_165540_cell_245.png',\n",
              " 'C234ThinF_IMG_20151112_163036_cell_260.png',\n",
              " 'C175P136NThinF_IMG_20151127_142326_cell_136.png',\n",
              " 'C233ThinF_IMG_20151112_161024_cell_211.png',\n",
              " 'C47P8thinOriginalOlympusCX21_IMG_20150717_174222_cell_27.png',\n",
              " 'C208ThinF_IMG_20151029_155554_cell_65.png',\n",
              " 'C223ThinF_IMG_20151112_104410_cell_175.png',\n",
              " 'C214ThinF_IMG_20151106_114526_cell_208.png',\n",
              " 'C60P21thinF_IMG_20150803_144510_cell_8.png',\n",
              " 'C216ThinF_IMG_20151106_135337_cell_54.png',\n",
              " 'C38P3thinF_original_IMG_20150621_112023_cell_69.png',\n",
              " 'C33P1thinF_IMG_20150619_121435a_cell_35.png',\n",
              " 'C210ThinF_IMG_20151029_162605_cell_12.png',\n",
              " 'C100P61ThinF_IMG_20150918_144348_cell_125.png',\n",
              " 'C48P9thinF_IMG_20150721_161055_cell_144.png',\n",
              " 'C130P91ThinF_IMG_20151004_141341_cell_90.png',\n",
              " 'C123P84ThinF_IMG_20151002_151851_cell_106.png',\n",
              " 'C74P35_ThinF_IMG_20150815_121324_cell_49.png',\n",
              " 'C117P78ThinF_IMG_20150930_214629_cell_94.png',\n",
              " 'C232ThinF_IMG_20151112_154424_cell_122.png',\n",
              " 'C59P20thinF_IMG_20150803_112733_cell_83.png',\n",
              " 'C112P73ThinF_IMG_20150930_131753_cell_60.png',\n",
              " 'C121P82ThinF_IMG_20151002_134953_cell_65.png',\n",
              " 'C33P1thinF_IMG_20150619_120645a_cell_212.png',\n",
              " 'C85P46ThinF_IMG_20150820_110040_cell_185.png',\n",
              " 'C187P148NThinF_IMG_20151203_152841_cell_64.png',\n",
              " 'C5NThinF_IMG_20150609_122006_cell_154.png',\n",
              " 'C117P78ThinF_IMG_20150930_220616_cell_35.png',\n",
              " 'C116P77ThinF_IMG_20150930_171844_cell_80.png',\n",
              " 'C108P69ThinF_IMG_20150924_224616_cell_163.png',\n",
              " 'C114P75ThinF_IMG_20150930_150057_cell_160.png',\n",
              " 'C91P52ThinF_IMG_20150821_125154_cell_111.png',\n",
              " 'C234ThinF_IMG_20151112_162843_cell_201.png',\n",
              " 'C38P3thinF_original_IMG_20150621_112246_cell_72.png',\n",
              " 'C176P137NThinF_IMG_20151201_122444_cell_90.png',\n",
              " 'C90P51ThinF_IMG_20150821_115700_cell_15.png',\n",
              " 'C213ThinF_IMG_20151106_112759_cell_68.png',\n",
              " 'C37BP2_thinF_IMG_20150620_131423a_cell_47.png',\n",
              " 'C114P75ThinF_IMG_20150930_150013_cell_130.png',\n",
              " 'C167P128ReThinF_IMG_20151201_110011_cell_116.png',\n",
              " 'C159P120ThinF_IMG_20151115_185541_cell_20.png',\n",
              " 'C212ThinF_IMG_20151106_105437_cell_219.png',\n",
              " 'C84P45ThinF_IMG_20150818_102654_cell_50.png',\n",
              " 'C124P85ThinF_IMG_20151002_154808_cell_92.png',\n",
              " 'C55P16thinF_IMG_20150728_121350_cell_83.png',\n",
              " 'C96P57ThinF_IMG_20150824_111748_cell_47.png',\n",
              " 'C228ThinF_IMG_20151112_142900_cell_74.png',\n",
              " 'C166P127ThinF_IMG_20151117_194932_cell_64.png',\n",
              " 'C89P50ThinF_IMG_20150820_163347_cell_191.png',\n",
              " 'C94P55ThinF_IMG_20150821_170021_cell_194.png',\n",
              " 'C79P40ThinF_IMG_20150817_102702_cell_39.png',\n",
              " 'C147P108ThinF_IMG_20151115_103432_cell_13.png',\n",
              " 'C101P62ThinF_IMG_20150923_170246_cell_27.png',\n",
              " 'C111P72ThinF_IMG_20150930_113003_cell_135.png',\n",
              " 'C178P139NThinF_IMG_20151201_155012_cell_117.png',\n",
              " 'C108P69ThinF_IMG_20150924_225511_cell_1.png',\n",
              " 'C64P25N_ThinF_IMG_20150818_153517_cell_90.png',\n",
              " 'C137P98ThinF_IMG_20151005_163901_cell_17.png',\n",
              " 'C4thin_original_IMG_20150608_165540_cell_92.png',\n",
              " 'C55P16thinF_IMG_20150728_124508_cell_183.png',\n",
              " 'C61P22N_ThinF_IMG_20150818_112433_cell_24.png',\n",
              " 'C119P80ThinF_IMG_20151002_123043_cell_47.png',\n",
              " 'C204ThinF_IMG_20151029_110627_cell_4.png',\n",
              " 'C58P19thinF_IMG_20150802_122215_cell_27.png',\n",
              " 'C235ThinF_IMG_20151112_164723_cell_2.png',\n",
              " 'C2NThinF_IMG_20150604_114751_cell_106.png',\n",
              " 'C176P137NThinF_IMG_20151201_122444_cell_36.png',\n",
              " 'C67P28N_ThinF_IMG_20150819_133000_cell_119.png',\n",
              " 'C161P122ThinF_IMG_20151116_101315_cell_16.png',\n",
              " 'C208ThinF_IMG_20151029_155827_cell_5.png',\n",
              " 'C222ThinF_IMG_20151115_150057_cell_92.png',\n",
              " 'C128P89ThinF_IMG_20151004_130810_cell_74.png',\n",
              " 'C187P148NThinF_IMG_20151203_154249_cell_1.png',\n",
              " 'C180P141NThinF_IMG_20151201_165423_cell_79.png',\n",
              " 'C227ThinF_IMG_20151112_135509_cell_143.png',\n",
              " 'C127P88ThinF_IMG_20151004_111526_cell_6.png',\n",
              " 'C49P10thinF_IMG_20150724_103054_cell_132.png',\n",
              " 'C107P68ThinF_IMG_20150924_222233_cell_36.png',\n",
              " 'C123P84ThinF_IMG_20151002_151143_cell_38.png',\n",
              " 'C231ThinF_IMG_20151112_153106_cell_32.png',\n",
              " 'C138P99ThinF_IMG_20151005_173453_cell_92.png',\n",
              " 'C237ThinF_IMG_20151127_104844_cell_222.png',\n",
              " 'C82P43ThinF_IMG_20150817_124418_cell_107.png',\n",
              " 'C153P114ThinF_IMG_20151115_140242_cell_35.png',\n",
              " 'C167P128ReThinF_IMG_20151201_105559_cell_204.png',\n",
              " 'C68P29N_ThinF_IMG_20150819_134326_cell_10.png',\n",
              " 'C238NThinF_IMG_20151207_114345_cell_30.png',\n",
              " 'C100P61ThinF_IMG_20150918_144348_cell_40.png',\n",
              " 'C47P8thin_Original_Motic_IMG_20150714_093512_cell_149.png',\n",
              " 'C231ThinF_IMG_20151112_153041_cell_122.png',\n",
              " 'C45P6ThinF_IMG_20151130_160241_cell_33.png',\n",
              " 'C53P14thinF_IMG_20150726_115046_cell_73.png',\n",
              " 'C95P56ThinF_IMG_20150821_171242_cell_84.png',\n",
              " 'C175P136NThinF_IMG_20151127_142326_cell_83.png',\n",
              " 'C45P6ThinF_IMG_20151130_160409_cell_17.png',\n",
              " 'C159P120ThinF_IMG_20151115_191301_cell_146.png',\n",
              " 'C159P120ThinF_IMG_20151115_185541_cell_48.png',\n",
              " 'C55P16thinF_IMG_20150728_121151_cell_91.png',\n",
              " 'C78P39ThinF_IMG_20150606_103459_cell_108.png',\n",
              " 'C168P129ThinF_IMG_20151118_161940_cell_110.png',\n",
              " 'C203ThinF_IMG_20151029_104112_cell_50.png',\n",
              " 'C47P8thin_Original_Motic_IMG_20150714_093806_cell_149.png',\n",
              " 'C87P48ThinF_IMG_20150820_144855_cell_181.png',\n",
              " 'C172P133ThinF_IMG_20151119_154936_cell_124.png',\n",
              " 'C67P28N_ThinF_IMG_20150819_133000_cell_142.png',\n",
              " 'C119P80ThinF_IMG_20151002_124345_cell_84.png',\n",
              " 'C182P143NThinF_IMG_20151201_171836_cell_79.png',\n",
              " 'C163P124ThinF_IMG_20151116_111147_cell_208.png',\n",
              " 'C89P50ThinF_IMG_20150820_162504_cell_127.png',\n",
              " 'C210ThinF_IMG_20151029_162934_cell_136.png',\n",
              " 'C104P65ThinF_IMG_20150918_172214_cell_99.png',\n",
              " 'C69P30N_ThinF_IMG_20150819_135613_cell_21.png',\n",
              " 'C139P100ThinF_IMG_20151005_183601_cell_105.png',\n",
              " 'C183P144NThinF_IMG_20151201_222119_cell_82.png',\n",
              " 'C189P150ThinF_IMG_20151203_141110_cell_66.png',\n",
              " 'C39P4thinF_original_IMG_20150622_110435_cell_1.png',\n",
              " 'C162P123ThinF_IMG_20151116_105019_cell_28.png',\n",
              " 'C47P8thin_Original_Motic_IMG_20150714_093806_cell_44.png',\n",
              " 'C105P66ThinF_IMG_20150924_094800_cell_70.png',\n",
              " 'C54P15thinF_IMG_20150728_113006_cell_12.png',\n",
              " 'C117P78ThinF_IMG_20150930_214629_cell_77.png',\n",
              " 'C227ThinF_IMG_20151112_135509_cell_156.png',\n",
              " 'C126P87ThinF_IMG_20151004_104813_cell_123.png',\n",
              " 'C73P34_ThinF_IMG_20150815_111422_cell_134.png',\n",
              " 'C93P54ThinF_IMG_20150821_162641_cell_112.png',\n",
              " 'C65P26N_ThinF_IMG_20150818_154436_cell_134.png',\n",
              " 'C90P51ThinF_IMG_20150821_115310_cell_101.png',\n",
              " 'C154P115ThinF_IMG_20151115_141837_cell_132.png',\n",
              " 'C177P138NThinF_IMG_20151201_142942_cell_29.png',\n",
              " 'C38P3thinF_original_IMG_20150621_112246_cell_35.png',\n",
              " 'C99P60ThinF_IMG_20150918_141520_cell_1.png',\n",
              " 'C89P50ThinF_IMG_20150820_162504_cell_67.png',\n",
              " 'C133P94ThinF_IMG_20151004_155331_cell_50.png',\n",
              " 'C183P144NThinF_IMG_20151201_224107_cell_23.png',\n",
              " 'C114P75ThinF_IMG_20150930_150833_cell_36.png',\n",
              " 'C48P9thinF_IMG_20150721_161243_cell_9.png',\n",
              " 'C70P31_ThinF_IMG_20150813_131022_cell_84.png',\n",
              " 'C93P54ThinF_IMG_20150821_163452_cell_168.png',\n",
              " 'C96P57ThinF_IMG_20150824_111748_cell_5.png',\n",
              " 'C213ThinF_IMG_20151106_112422_cell_134.png',\n",
              " 'C131P92ThinF_IMG_20151004_151001_cell_28.png',\n",
              " 'C152P113ThinF_IMG_20151115_125038_cell_182.png',\n",
              " 'C122P83ThinF_IMG_20151002_145330_cell_157.png',\n",
              " 'C170P131ThinF_IMG_20151119_120111_cell_173.png',\n",
              " 'C169P130ThinF_IMG_20151118_172913_cell_102.png',\n",
              " 'C146P107ThinF_IMG_20151018_140342_cell_233.png',\n",
              " 'C13NThinF_IMG_20150614_131318_cell_134.png',\n",
              " 'C134P95ThinF_IMG_20151005_121952_cell_104.png',\n",
              " 'C61P22N_ThinF_IMG_20150818_112252_cell_178.png',\n",
              " 'C69P30N_ThinF_IMG_20150819_140143_cell_53.png',\n",
              " 'C185P146ThinF_IMG_20151203_110448_cell_100.png',\n",
              " 'C118P79ThinF_IMG_20151002_105735_cell_81.png',\n",
              " 'C69P30N_ThinF_IMG_20150819_135421_cell_127.png',\n",
              " 'C179P140ThinF_IMG_20151127_153420_cell_80.png',\n",
              " 'C77P38ThinF_IMG_20150601_155125_cell_1.png',\n",
              " 'C1_thinF_IMG_20150604_105100_cell_53.png',\n",
              " 'C135P96ThinF_IMG_20151005_123441_cell_131.png',\n",
              " 'C213ThinF_IMG_20151106_112252_cell_42.png',\n",
              " 'C114P75ThinF_IMG_20150930_150013_cell_192.png',\n",
              " 'C134P95ThinF_IMG_20151005_121048_cell_28.png',\n",
              " 'C67P28N_ThinF_IMG_20150819_121456_cell_95.png',\n",
              " 'C94P55ThinF_IMG_20150821_170021_cell_132.png',\n",
              " 'C82P43ThinF_IMG_20150817_124010_cell_35.png',\n",
              " 'C84P45ThinF_IMG_20150818_102325_cell_49.png',\n",
              " 'C61P22N_ThinF_IMG_20150818_112811_cell_38.png',\n",
              " 'C229ThinF_IMG_20151112_144147_cell_54.png',\n",
              " 'C119P80ThinF_IMG_20151002_122720_cell_43.png',\n",
              " 'C49P10thinF_IMG_20150724_102330_cell_24.png',\n",
              " 'C52P13thinF_IMG_20150725_125847_cell_44.png',\n",
              " 'C170P131ThinF_IMG_20151119_120019_cell_11.png',\n",
              " 'C221ThinF_IMG_20151106_160304_cell_25.png',\n",
              " 'C99P60ThinF_IMG_20150918_142128_cell_45.png',\n",
              " 'C86P47ThinF_IMG_20150820_124025_cell_43.png',\n",
              " 'C103P64ThinF_IMG_20150918_164553_cell_133.png',\n",
              " 'C203ThinF_IMG_20151029_102123_cell_178.png',\n",
              " 'C69P30N_ThinF_IMG_20150819_140652_cell_115.png',\n",
              " 'C5NThinF_IMG_20150609_122034_cell_150.png',\n",
              " 'C202ThinF_IMG_20151015_152701_cell_246.png',\n",
              " 'C104P65ThinF_IMG_20150918_172214_cell_134.png',\n",
              " 'C134P95ThinF_IMG_20151005_122552_cell_22.png',\n",
              " 'C220ThinF_IMG_20151106_153947_cell_254.png',\n",
              " 'C60P21thinF_IMG_20150804_104919_cell_3.png',\n",
              " 'C46P7ThinF_IMG_20151130_205756_cell_115.png',\n",
              " 'C75P36_ThinF_IMG_20150815_163225_cell_126.png',\n",
              " 'C92P53ThinF_IMG_20150821_150718_cell_96.png',\n",
              " 'C150P111ThinF_IMG_20151115_120029_cell_125.png',\n",
              " 'C139P100ThinF_IMG_20151005_182410_cell_117.png',\n",
              " 'C63P24N_ThinF_IMG_20150818_143319_cell_32.png',\n",
              " 'C217ThinF_IMG_20151106_141649_cell_209.png',\n",
              " 'C216ThinF_IMG_20151106_134733_cell_56.png',\n",
              " 'C132P93ThinF_IMG_20151004_151733_cell_40.png',\n",
              " 'C228ThinF_IMG_20151112_142900_cell_123.png',\n",
              " 'C240ThinF_IMG_20151127_115223_cell_120.png',\n",
              " 'C94P55ThinF_IMG_20150821_170403_cell_104.png',\n",
              " 'C141P102ThinF_IMG_20151005_214208_cell_84.png',\n",
              " 'C128P89ThinF_IMG_20151004_131129_cell_132.png',\n",
              " 'C149P110ThinF_IMG_20151115_114910_cell_188.png',\n",
              " 'C222ThinF_IMG_20151115_150925_cell_21.png',\n",
              " 'C232ThinF_IMG_20151112_154424_cell_197.png',\n",
              " 'C219ThinF_IMG_20151106_150135_cell_113.png',\n",
              " 'C102P63ThinF_IMG_20150918_162511_cell_133.png',\n",
              " 'C80P41ThinF_IMG_20150817_111544_cell_116.png',\n",
              " 'C185P146ThinF_IMG_20151203_110933_cell_81.png',\n",
              " 'C115P76ThinF_IMG_20150930_163156_cell_80.png',\n",
              " 'C137P98ThinF_IMG_20151005_164119_cell_50.png',\n",
              " 'C111P72ThinF_IMG_20150930_112827_cell_1.png',\n",
              " 'C114P75ThinF_IMG_20150930_150145_cell_48.png',\n",
              " 'C67P28N_ThinF_IMG_20150819_121240_cell_228.png',\n",
              " 'C66P27N_ThinF_IMG_20150818_163551_cell_38.png',\n",
              " 'C89P50ThinF_IMG_20150820_163347_cell_146.png',\n",
              " 'C209ThinF_IMG_20151029_160857_cell_276.png',\n",
              " 'C74P35_ThinF_IMG_20150815_120712_cell_15.png',\n",
              " 'C168P129ThinF_IMG_20151118_154651_cell_1.png',\n",
              " 'C48P9thinF_IMG_20150721_161243_cell_65.png',\n",
              " 'C183P144NThinF_IMG_20151201_223208_cell_18.png',\n",
              " 'C114P75ThinF_IMG_20150930_150057_cell_125.png',\n",
              " 'C92P53ThinF_IMG_20150821_151722_cell_116.png',\n",
              " 'C224ThinF_IMG_20151112_112334_cell_108.png',\n",
              " 'C47P8thinOriginalOlympusCX21_IMG_20150717_173554_cell_116.png',\n",
              " 'C109P70ThinF_IMG_20150930_102944_cell_46.png',\n",
              " 'C235ThinF_IMG_20151112_165055_cell_244.png',\n",
              " 'C156P117ThinF_IMG_20151115_154313_cell_53.png',\n",
              " 'C157P118ThinF_IMG_20151115_163611_cell_170.png',\n",
              " 'C99P60ThinF_IMG_20150918_142128_cell_47.png',\n",
              " 'C62P23N_ThinF_IMG_20150818_133211_cell_87.png',\n",
              " 'C165P126ThinF_IMG_20151117_172356_cell_85.png',\n",
              " 'C237ThinF_IMG_20151127_105345_cell_35.png',\n",
              " 'C168P129ThinF_IMG_20151118_160516_cell_27.png',\n",
              " 'C168P129ThinF_IMG_20151118_154126_cell_62.png',\n",
              " 'C57P18thinF_IMG_20150729_110457_cell_106.png',\n",
              " 'C52P13thinF_IMG_20150725_124830_cell_67.png',\n",
              " 'C126P87ThinF_IMG_20151004_104813_cell_78.png',\n",
              " 'C123P84ThinF_IMG_20151002_151432_cell_21.png',\n",
              " 'C154P115ThinF_IMG_20151115_141507_cell_110.png',\n",
              " 'C174P135NThinF_IMG_20151127_135311_cell_143.png',\n",
              " 'C1_thinF_IMG_20150604_105100_cell_151.png',\n",
              " 'C70P31_ThinF_IMG_20150813_130510_cell_67.png',\n",
              " 'C162P123ThinF_IMG_20151116_104736_cell_119.png',\n",
              " 'C118P79ThinF_IMG_20151002_104831_cell_83.png',\n",
              " 'C231ThinF_IMG_20151112_153359_cell_96.png',\n",
              " 'C86P47ThinF_IMG_20150820_124025_cell_44.png',\n",
              " 'C47P8thin_Original_Motic_IMG_20150714_093636_cell_44.png',\n",
              " 'C72P33_ThinF_IMG_20150815_104843_cell_189.png',\n",
              " 'C47P8thin_Original_Motic_IMG_20150714_093715_cell_103.png',\n",
              " 'C185P146ThinF_IMG_20151203_111121_cell_169.png',\n",
              " 'C92P53ThinF_IMG_20150821_150457_cell_142.png',\n",
              " 'C38P3thinF_original_IMG_20150621_112227_cell_92.png',\n",
              " 'C60P21thinF_IMG_20150803_144003_cell_85.png',\n",
              " 'C146P107ThinF_IMG_20151018_140044_cell_24.png',\n",
              " 'C50P11thinF_IMG_20150724_115603_cell_117.png',\n",
              " 'C130P91ThinF_IMG_20151004_141825_cell_23.png',\n",
              " 'C136P97ThinF_IMG_20151005_140538_cell_59.png',\n",
              " 'C231ThinF_IMG_20151112_153359_cell_123.png',\n",
              " 'C214ThinF_IMG_20151106_131748_cell_22.png',\n",
              " 'C54P15thinF_IMG_20150728_112938_cell_213.png',\n",
              " 'C146P107ThinF_IMG_20151018_135846_cell_207.png',\n",
              " 'C213ThinF_IMG_20151106_112603_cell_214.png',\n",
              " 'C137P98ThinF_IMG_20151005_163218_cell_63.png',\n",
              " 'C101P62ThinF_IMG_20150918_151942_cell_53.png',\n",
              " 'C141P102ThinF_IMG_20151005_215711_cell_49.png',\n",
              " 'C231ThinF_IMG_20151112_152234_cell_139.png',\n",
              " 'C7NthinF_IMG_20150611_104753_cell_110.png',\n",
              " 'C60P21thinF_IMG_20150804_113602_cell_110.png',\n",
              " 'C223ThinF_IMG_20151112_104708_cell_196.png',\n",
              " 'C152P113ThinF_IMG_20151115_124853_cell_46.png',\n",
              " 'C145P106ThinF_IMG_20151016_154756_cell_77.png',\n",
              " 'C133P94ThinF_IMG_20151004_154512_cell_16.png',\n",
              " 'C231ThinF_IMG_20151112_152234_cell_219.png',\n",
              " 'C74P35_ThinF_IMG_20150815_114819_cell_24.png',\n",
              " 'C39P4thinF_original_IMG_20150622_110352_cell_28.png',\n",
              " 'C91P52ThinF_IMG_20150821_124739_cell_167.png',\n",
              " 'C78P39ThinF_IMG_20150606_103630_cell_6.png',\n",
              " 'C148P109ThinF_IMG_20151115_112538_cell_102.png',\n",
              " 'C48P9thinF_IMG_20150721_161412_cell_141.png',\n",
              " 'C47P8thinOriginalOlympusCX21_IMG_20150717_174222_cell_21.png',\n",
              " 'C186P147NThinF_IMG_20151203_150408_cell_3.png',\n",
              " 'C203ThinF_IMG_20151029_105443_cell_117.png',\n",
              " 'C63P24N_ThinF_IMG_20150818_143423_cell_40.png',\n",
              " 'C185P146ThinF_IMG_20151203_111121_cell_96.png',\n",
              " 'C60P21thinF_IMG_20150803_144003_cell_29.png',\n",
              " 'C163P124ThinF_IMG_20151116_110921_cell_147.png',\n",
              " 'C52P13thinF_IMG_20150725_123938_cell_22.png',\n",
              " 'C159P120ThinF_IMG_20151115_190642_cell_97.png',\n",
              " 'C87P48ThinF_IMG_20150820_144855_cell_83.png',\n",
              " 'C110P71ThinF_IMG_20150930_105319_cell_97.png',\n",
              " 'C156P117ThinF_IMG_20151115_154022_cell_160.png',\n",
              " 'C58P19thinF_IMG_20150802_123134_cell_107.png',\n",
              " 'C169P130ThinF_IMG_20151119_143212_cell_109.png',\n",
              " 'C240ThinF_IMG_20151127_115328_cell_157.png',\n",
              " 'C238NThinF_IMG_20151207_114444_cell_32.png',\n",
              " 'C163P124ThinF_IMG_20151116_111147_cell_102.png',\n",
              " 'C85P46ThinF_IMG_20150820_105154_cell_129.png',\n",
              " 'C138P99ThinF_IMG_20151005_173241_cell_54.png',\n",
              " 'C137P98ThinF_IMG_20151005_163901_cell_43.png',\n",
              " 'C177P138NThinF_IMG_20151201_144820_cell_42.png',\n",
              " 'C46P7ThinF_IMG_20151130_205558_cell_20.png',\n",
              " 'C109P70ThinF_IMG_20150930_102716_cell_90.png',\n",
              " 'C50P11thinF_IMG_20150724_120553_cell_60.png',\n",
              " 'C37BP2_thinF_IMG_20150620_133001a_cell_68.png',\n",
              " 'C49P10thinF_IMG_20150724_103233_cell_100.png',\n",
              " 'C109P70ThinF_IMG_20150930_103811_cell_126.png',\n",
              " 'C145P106ThinF_IMG_20151016_155121_cell_159.png',\n",
              " 'C147P108ThinF_IMG_20151115_092900_cell_36.png',\n",
              " 'C215ThinF_IMG_20151106_133116_cell_196.png',\n",
              " 'C237ThinF_IMG_20151127_105345_cell_96.png',\n",
              " 'C240ThinF_IMG_20151127_115223_cell_185.png',\n",
              " 'C228ThinF_IMG_20151112_142452_cell_57.png',\n",
              " 'C230ThinF_IMG_20151112_150621_cell_226.png',\n",
              " 'C33P1thinF_IMG_20150619_120645a_cell_26.png',\n",
              " 'C7NthinF_IMG_20150611_104510_cell_63.png',\n",
              " 'C207ThinF_IMG_20151029_144152_cell_101.png',\n",
              " 'C79P40ThinF_IMG_20150817_104745_cell_37.png',\n",
              " 'C38P3thinF_original_IMG_20150621_112116_cell_48.png',\n",
              " 'C112P73ThinF_IMG_20150930_131516_cell_157.png',\n",
              " 'C55P16thinF_IMG_20150728_121151_cell_74.png',\n",
              " 'C57P18thinF_IMG_20150729_110457_cell_231.png',\n",
              " 'C173P134NThinF_IMG_20151130_125501_cell_100.png',\n",
              " 'C131P92ThinF_IMG_20151004_145302_cell_44.png',\n",
              " 'C217ThinF_IMG_20151106_141135_cell_122.png',\n",
              " 'C220ThinF_IMG_20151106_153947_cell_81.png',\n",
              " 'C205ThinF_IMG_20151106_151800_cell_152.png',\n",
              " 'C234ThinF_IMG_20151112_162940_cell_193.png',\n",
              " 'C220ThinF_IMG_20151106_154510_cell_54.png',\n",
              " 'C110P71ThinF_IMG_20150930_110404_cell_8.png',\n",
              " 'C116P77ThinF_IMG_20150930_171809_cell_11.png',\n",
              " 'C54P15thinF_IMG_20150728_105949_cell_166.png',\n",
              " 'C169P130ThinF_IMG_20151118_163539_cell_95.png',\n",
              " 'C151P112ThinF_IMG_20151115_121725_cell_3.png',\n",
              " 'C97P58ThinF_IMG_20150917_151551_cell_99.png',\n",
              " 'C12NThinF_IMG_20150614_125741_cell_123.png',\n",
              " 'C170P131ThinF_IMG_20151119_120111_cell_56.png',\n",
              " 'C181P142ThinF_IMG_20151127_160514_cell_73.png',\n",
              " 'C115P76ThinF_IMG_20150930_161825_cell_167.png',\n",
              " 'C2NThinF_IMG_20150604_114631_cell_38.png',\n",
              " 'C186P147NThinF_IMG_20151203_150859_cell_61.png',\n",
              " 'C119P80ThinF_IMG_20151002_124345_cell_37.png',\n",
              " 'C209ThinF_IMG_20151029_160927_cell_122.png',\n",
              " 'C186P147NThinF_IMG_20151203_150222_cell_57.png',\n",
              " 'C79P40ThinF_IMG_20150817_103139_cell_25.png',\n",
              " 'C93P54ThinF_IMG_20150821_163452_cell_165.png',\n",
              " 'C84P45ThinF_IMG_20150818_101056_cell_9.png',\n",
              " 'C61P22N_ThinF_IMG_20150818_112626_cell_124.png',\n",
              " 'C157P118ThinF_IMG_20151115_164026_cell_54.png',\n",
              " 'C154P115ThinF_IMG_20151115_141407_cell_20.png',\n",
              " 'C161P122ThinF_IMG_20151116_101626_cell_57.png',\n",
              " 'C141P102ThinF_IMG_20151005_214615_cell_132.png',\n",
              " 'C163P124ThinF_IMG_20151116_110921_cell_13.png',\n",
              " 'C175P136NThinF_IMG_20151127_141253_cell_136.png',\n",
              " 'C129P90ThinF_IMG_20151004_133329_cell_49.png',\n",
              " 'C157P118ThinF_IMG_20151115_164755_cell_80.png',\n",
              " 'C141P102ThinF_IMG_20151005_214836_cell_132.png',\n",
              " 'C143P104ThinF_IMG_20151005_225413_cell_35.png',\n",
              " 'C239ThinF_IMG_20151127_113202_cell_265.png',\n",
              " 'C79P40ThinF_IMG_20150817_104316_cell_112.png',\n",
              " 'C49P10thinF_IMG_20150724_103233_cell_147.png',\n",
              " 'C37BP2_thinF_IMG_20150620_132847a_cell_60.png',\n",
              " 'C58P19thinF_IMG_20150802_122520_cell_149.png',\n",
              " 'C187P148NThinF_IMG_20151203_154503_cell_42.png',\n",
              " 'C84P45ThinF_IMG_20150818_101412_cell_85.png',\n",
              " 'C73P34_ThinF_IMG_20150815_112246_cell_74.png',\n",
              " 'C238NThinF_IMG_20151207_114914_cell_36.png',\n",
              " 'C111P72ThinF_IMG_20150930_112827_cell_164.png',\n",
              " 'C208ThinF_IMG_20151029_155827_cell_90.png',\n",
              " 'C82P43ThinF_IMG_20150817_123652_cell_99.png',\n",
              " 'C100P61ThinF_IMG_20150918_144348_cell_25.png',\n",
              " 'C229ThinF_IMG_20151112_144652_cell_83.png',\n",
              " 'C125P86ThinF_IMG_20151004_102619_cell_71.png',\n",
              " 'C115P76ThinF_IMG_20150930_162315_cell_99.png',\n",
              " 'C66P27N_ThinF_IMG_20150818_164408_cell_17.png',\n",
              " 'C137P98ThinF_IMG_20151005_163712_cell_1.png',\n",
              " 'C1_thinF_IMG_20150604_105100_cell_243.png',\n",
              " 'C126P87ThinF_IMG_20151004_104441_cell_43.png',\n",
              " 'C168P129ThinF_IMG_20151118_155802_cell_50.png',\n",
              " 'C163P124ThinF_IMG_20151116_110921_cell_158.png',\n",
              " 'C137P98ThinF_IMG_20151005_155444_cell_75.png',\n",
              " 'C158P119ThinF_IMG_20151115_181035_cell_161.png',\n",
              " 'C166P127ThinF_IMG_20151117_193235_cell_3.png',\n",
              " 'C6NThinF_IMG_20150609_122832_cell_184.png',\n",
              " 'C162P123ThinF_IMG_20151116_104114_cell_126.png',\n",
              " 'C122P83ThinF_IMG_20151002_144855_cell_47.png',\n",
              " 'C112P73ThinF_IMG_20150930_131605_cell_142.png',\n",
              " 'C76P37ThinF_IMG_20150815_171214_cell_40.png',\n",
              " 'C234ThinF_IMG_20151112_162909_cell_80.png',\n",
              " 'C61P22N_ThinF_IMG_20150818_112518_cell_133.png',\n",
              " 'C188P149ThinF_IMG_20151203_134419_cell_64.png',\n",
              " 'C63P24N_ThinF_IMG_20150818_142948_cell_106.png',\n",
              " 'C216ThinF_IMG_20151106_134931_cell_42.png',\n",
              " 'C12NThinF_IMG_20150614_125703_cell_32.png',\n",
              " 'C91P52ThinF_IMG_20150821_123314_cell_112.png',\n",
              " 'C96P57ThinF_IMG_20150824_105213_cell_69.png',\n",
              " 'C13NThinF_IMG_20150614_131553_cell_149.png',\n",
              " 'C6NThinF_IMG_20150609_122327_cell_96.png',\n",
              " 'C83P44ThinF_IMG_20150817_140045_cell_139.png',\n",
              " 'C228ThinF_IMG_20151112_142730_cell_104.png',\n",
              " 'C86P47ThinF_IMG_20150820_124025_cell_128.png',\n",
              " 'C68P29N_ThinF_IMG_20150819_134326_cell_53.png',\n",
              " 'C224ThinF_IMG_20151112_112334_cell_173.png',\n",
              " 'C42P5thin_original_IMG_20150623_134919_cell_183.png',\n",
              " 'C94P55ThinF_IMG_20150821_170403_cell_1.png',\n",
              " 'C117P78ThinF_IMG_20150930_214138_cell_35.png',\n",
              " 'C221ThinF_IMG_20151106_155857_cell_82.png',\n",
              " 'C121P82ThinF_IMG_20151002_134953_cell_28.png',\n",
              " 'C94P55ThinF_IMG_20150821_170403_cell_145.png',\n",
              " 'C236ThinF_IMG_20151127_102428_cell_221.png',\n",
              " 'C134P95ThinF_IMG_20151005_121656_cell_18.png',\n",
              " 'C189P150ThinF_IMG_20151203_142224_cell_13.png',\n",
              " 'C110P71ThinF_IMG_20150930_105925_cell_28.png',\n",
              " 'C54P15thinF_IMG_20150728_113006_cell_197.png',\n",
              " 'C101P62ThinF_IMG_20150923_170246_cell_42.png',\n",
              " 'C225ThinF_IMG_20151112_113836_cell_18.png',\n",
              " 'C128P89ThinF_IMG_20151004_131753_cell_99.png',\n",
              " 'C163P124ThinF_IMG_20151116_110818_cell_20.png',\n",
              " 'C122P83ThinF_IMG_20151002_144610_cell_131.png',\n",
              " 'C62P23N_ThinF_IMG_20150818_132811_cell_166.png',\n",
              " 'C13NThinF_IMG_20150614_131553_cell_102.png',\n",
              " 'C129P90ThinF_IMG_20151004_133244_cell_21.png',\n",
              " 'C217ThinF_IMG_20151106_142147_cell_83.png',\n",
              " 'C184P145ThinF_IMG_20151203_102543_cell_4.png',\n",
              " 'C186P147NThinF_IMG_20151203_150222_cell_47.png',\n",
              " 'C113P74ThinF_IMG_20150930_134614_cell_8.png',\n",
              " 'C39P4thinF_original_IMG_20150622_110115_cell_60.png',\n",
              " 'C227ThinF_IMG_20151112_135422_cell_22.png',\n",
              " 'C89P50ThinF_IMG_20150820_163728_cell_20.png',\n",
              " 'C212ThinF_IMG_20151106_105834_cell_159.png',\n",
              " 'C151P112ThinF_IMG_20151115_121644_cell_110.png',\n",
              " 'C66P27N_ThinF_IMG_20150818_164754_cell_45.png',\n",
              " 'C236ThinF_IMG_20151127_102635_cell_8.png',\n",
              " 'C164P125ThinF_IMG_20151116_113550_cell_85.png',\n",
              " 'C113P74ThinF_IMG_20150930_135904_cell_25.png',\n",
              " 'C214ThinF_IMG_20151106_114910_cell_147.png',\n",
              " 'C162P123ThinF_IMG_20151116_104451_cell_137.png',\n",
              " 'C157P118ThinF_IMG_20151115_163611_cell_132.png',\n",
              " 'C188P149ThinF_IMG_20151203_135433_cell_88.png',\n",
              " 'C68P29N_ThinF_IMG_20150819_134504_cell_14.png',\n",
              " 'C231ThinF_IMG_20151112_153246_cell_163.png',\n",
              " 'C174P135NThinF_IMG_20151127_135311_cell_88.png',\n",
              " 'C48P9thinF_IMG_20150721_161243_cell_39.png',\n",
              " 'C73P34_ThinF_IMG_20150815_111114_cell_196.png',\n",
              " 'C46P7ThinF_IMG_20151130_205828_cell_99.png',\n",
              " 'C171P132ThinF_IMG_20151119_152913_cell_95.png',\n",
              " 'C79P40ThinF_IMG_20150817_103901_cell_94.png',\n",
              " 'C141P102ThinF_IMG_20151005_215348_cell_64.png',\n",
              " 'C57P18thinF_IMG_20150729_111518_cell_53.png',\n",
              " 'C153P114ThinF_IMG_20151115_140242_cell_152.png',\n",
              " 'C168P129ThinF_IMG_20151118_161940_cell_10.png',\n",
              " 'C187P148NThinF_IMG_20151203_153036_cell_98.png',\n",
              " 'C116P77ThinF_IMG_20150930_171809_cell_1.png',\n",
              " 'C218ThinF_IMG_20151106_144001_cell_214.png',\n",
              " 'C240ThinF_IMG_20151127_115306_cell_110.png',\n",
              " 'C230ThinF_IMG_20151112_150753_cell_227.png',\n",
              " 'C130P91ThinF_IMG_20151004_142109_cell_3.png',\n",
              " 'C106P67ThinF_IMG_20150924_103811_cell_132.png',\n",
              " 'C164P125ThinF_IMG_20151116_114404_cell_166.png',\n",
              " 'C106P67ThinF_IMG_20150924_103245_cell_142.png',\n",
              " 'C118P79ThinF_IMG_20151002_105827_cell_92.png',\n",
              " 'C134P95ThinF_IMG_20151005_122331_cell_26.png',\n",
              " 'C170P131ThinF_IMG_20151119_115918_cell_11.png',\n",
              " 'C110P71ThinF_IMG_20150930_110404_cell_76.png',\n",
              " 'C6NThinF_IMG_20150609_122725_cell_185.png',\n",
              " 'C151P112ThinF_IMG_20151115_121725_cell_59.png',\n",
              " 'C168P129ThinF_IMG_20151118_153739_cell_118.png',\n",
              " 'C214ThinF_IMG_20151106_114526_cell_147.png',\n",
              " 'C12NThinF_IMG_20150614_124301_cell_76.png',\n",
              " 'C183P144NThinF_IMG_20151201_224458_cell_44.png',\n",
              " 'C103P64ThinF_IMG_20150918_164553_cell_42.png',\n",
              " 'C88P49ThinF_IMG_20150820_152521_cell_88.png',\n",
              " 'C164P125ThinF_IMG_20151116_113550_cell_28.png',\n",
              " 'C61P22N_ThinF_IMG_20150818_112252_cell_26.png',\n",
              " 'C138P99ThinF_IMG_20151005_171332_cell_137.png',\n",
              " 'C3thin_original_IMG_20150608_163047_cell_145.png',\n",
              " 'C118P79ThinF_IMG_20151002_105125_cell_93.png',\n",
              " 'C219ThinF_IMG_20151106_150314_cell_225.png',\n",
              " 'C188P149ThinF_IMG_20151203_135433_cell_53.png',\n",
              " 'C77P38ThinF_IMG_20150602_143524_cell_42.png',\n",
              " 'C177P138NThinF_IMG_20151201_143546_cell_94.png',\n",
              " 'C38P3thinF_original_IMG_20150621_112138_cell_135.png',\n",
              " 'C66P27N_ThinF_IMG_20150818_163551_cell_41.png',\n",
              " 'C146P107ThinF_IMG_20151018_135703_cell_169.png',\n",
              " 'C107P68ThinF_IMG_20150924_221909_cell_61.png',\n",
              " 'C137P98ThinF_IMG_20151005_160918_cell_7.png',\n",
              " 'C5NThinF_IMG_20150609_122006_cell_82.png',\n",
              " 'C173P134NThinF_IMG_20151130_125501_cell_174.png',\n",
              " 'C123P84ThinF_IMG_20151002_151432_cell_3.png',\n",
              " 'C221ThinF_IMG_20151106_160653_cell_156.png',\n",
              " 'C58P19thinF_IMG_20150802_122215_cell_33.png',\n",
              " 'C102P63ThinF_IMG_20150918_162300_cell_29.png',\n",
              " 'C108P69ThinF_IMG_20150924_224616_cell_54.png',\n",
              " 'C141P102ThinF_IMG_20151005_214615_cell_55.png',\n",
              " 'C42P5thin_original_IMG_20150623_135251_cell_24.png',\n",
              " 'C13NThinF_IMG_20150614_131318_cell_126.png',\n",
              " 'C182P143NThinF_IMG_20151201_171836_cell_40.png',\n",
              " 'C12NThinF_IMG_20150614_124244_cell_253.png',\n",
              " 'C150P111ThinF_IMG_20151115_115922_cell_89.png',\n",
              " 'C12NThinF_IMG_20150614_125703_cell_52.png',\n",
              " 'C37BP2_thinF_IMG_20150620_133205a_cell_9.png',\n",
              " 'C231ThinF_IMG_20151112_153106_cell_14.png',\n",
              " 'C184P145ThinF_IMG_20151203_103637_cell_94.png',\n",
              " 'C77P38ThinF_IMG_20150601_155125_cell_75.png',\n",
              " 'C117P78ThinF_IMG_20150930_214138_cell_28.png',\n",
              " 'C231ThinF_IMG_20151112_153041_cell_6.png',\n",
              " 'C213ThinF_IMG_20151106_112252_cell_161.png',\n",
              " 'C12NThinF_IMG_20150614_124212_cell_165.png',\n",
              " 'C42P5thin_original_IMG_20150623_134751_cell_165.png',\n",
              " 'C131P92ThinF_IMG_20151004_150208_cell_112.png',\n",
              " 'C227ThinF_IMG_20151112_135308_cell_80.png',\n",
              " 'C131P92ThinF_IMG_20151004_150208_cell_80.png',\n",
              " 'C179P140ThinF_IMG_20151127_153420_cell_156.png',\n",
              " 'C114P75ThinF_IMG_20150930_150733_cell_7.png',\n",
              " 'C132P93ThinF_IMG_20151004_151701_cell_80.png',\n",
              " 'C68P29N_ThinF_IMG_20150819_134504_cell_95.png',\n",
              " 'C162P123ThinF_IMG_20151116_104342_cell_7.png',\n",
              " 'C120P81ThinF_IMG_20151002_131120_cell_125.png',\n",
              " 'C183P144NThinF_IMG_20151201_223208_cell_89.png',\n",
              " 'C161P122ThinF_IMG_20151116_100959_cell_114.png',\n",
              " 'C120P81ThinF_IMG_20151002_130407_cell_77.png',\n",
              " 'C83P44ThinF_IMG_20150817_133454_cell_4.png',\n",
              " 'C139P100ThinF_IMG_20151005_182822_cell_142.png',\n",
              " 'C212ThinF_IMG_20151106_110230_cell_157.png',\n",
              " 'C219ThinF_IMG_20151106_150027_cell_164.png',\n",
              " 'C238NThinF_IMG_20151207_115017_cell_25.png',\n",
              " 'C57P18thinF_IMG_20150729_110305_cell_151.png',\n",
              " 'C93P54ThinF_IMG_20150821_163640_cell_182.png',\n",
              " 'C182P143NThinF_IMG_20151201_172257_cell_3.png',\n",
              " 'C160P121ThinF_IMG_20151116_093748_cell_128.png',\n",
              " 'C234ThinF_IMG_20151112_162909_cell_206.png',\n",
              " 'C106P67ThinF_IMG_20150924_103245_cell_109.png',\n",
              " 'C229ThinF_IMG_20151112_144613_cell_237.png',\n",
              " 'C161P122ThinF_IMG_20151116_100959_cell_76.png',\n",
              " 'C67P28N_ThinF_IMG_20150819_133000_cell_52.png',\n",
              " 'C159P120ThinF_IMG_20151115_190642_cell_186.png',\n",
              " 'C169P130ThinF_IMG_20151118_173039_cell_208.png',\n",
              " 'C84P45ThinF_IMG_20150818_104156_cell_57.png',\n",
              " 'C164P125ThinF_IMG_20151116_120135_cell_99.png',\n",
              " 'C158P119ThinF_IMG_20151115_181558_cell_45.png',\n",
              " 'C94P55ThinF_IMG_20150821_170249_cell_209.png',\n",
              " 'C79P40ThinF_IMG_20150817_104919_cell_50.png',\n",
              " 'C73P34_ThinF_IMG_20150815_111422_cell_22.png',\n",
              " 'C12NThinF_IMG_20150614_125741_cell_205.png',\n",
              " 'C113P74ThinF_IMG_20150930_134949_cell_38.png',\n",
              " 'C211ThinF_IMG_20151029_163959_cell_256.png',\n",
              " 'C229ThinF_IMG_20151112_144613_cell_9.png',\n",
              " 'C170P131ThinF_IMG_20151119_120019_cell_154.png',\n",
              " 'C95P56ThinF_IMG_20150821_171603_cell_13.png',\n",
              " 'C181P142ThinF_IMG_20151127_160539_cell_17.png',\n",
              " 'C201ThinF_IMG_20150930_143411_cell_134.png',\n",
              " 'C139P100ThinF_IMG_20151005_183521_cell_140.png',\n",
              " 'C90P51ThinF_IMG_20150821_120044_cell_69.png',\n",
              " 'C4thin_original_IMG_20150608_165908_cell_164.png',\n",
              " 'C173P134NThinF_IMG_20151130_115339_cell_19.png',\n",
              " 'C58P19thinF_IMG_20150802_122648_cell_123.png',\n",
              " 'C118P79ThinF_IMG_20151002_104831_cell_64.png',\n",
              " 'C135P96ThinF_IMG_20151005_124204_cell_118.png',\n",
              " 'C120P81ThinF_IMG_20151002_130918_cell_70.png',\n",
              " 'C96P57ThinF_IMG_20150824_110812_cell_97.png',\n",
              " 'C46P7ThinF_IMG_20151130_210309_cell_116.png',\n",
              " 'C109P70ThinF_IMG_20150930_102812_cell_154.png',\n",
              " 'C145P106ThinF_IMG_20151016_154921_cell_10.png',\n",
              " 'C220ThinF_IMG_20151106_153947_cell_150.png',\n",
              " 'C98P59ThinF_IMG_20150917_153030_cell_144.png',\n",
              " 'C64P25N_ThinF_IMG_20150818_152921_cell_119.png',\n",
              " 'C61P22N_ThinF_IMG_20150818_112626_cell_49.png',\n",
              " 'C128P89ThinF_IMG_20151004_130549_cell_30.png',\n",
              " 'C153P114ThinF_IMG_20151115_135639_cell_260.png',\n",
              " 'C67P28N_ThinF_IMG_20150819_125901_cell_50.png',\n",
              " 'C155P116ThinF_IMG_20151115_143125_cell_42.png',\n",
              " 'C99P60ThinF_IMG_20150918_141520_cell_31.png',\n",
              " 'C169P130ThinF_IMG_20151118_172913_cell_96.png',\n",
              " 'C226ThinF_IMG_20151112_131546_cell_9.png',\n",
              " 'C234ThinF_IMG_20151112_162909_cell_135.png',\n",
              " 'C225ThinF_IMG_20151112_113836_cell_6.png',\n",
              " 'C146P107ThinF_IMG_20151018_140342_cell_210.png',\n",
              " 'C241NThinF_IMG_20151207_124115_cell_29.png',\n",
              " 'C70P31_ThinF_IMG_20150813_130332_cell_85.png',\n",
              " 'C211ThinF_IMG_20151029_163959_cell_42.png',\n",
              " 'C144P105ThinF_IMG_20151015_155149_cell_154.png',\n",
              " 'C142P103ThinF_IMG_20151005_222440_cell_61.png',\n",
              " 'C146P107ThinF_IMG_20151018_140342_cell_40.png',\n",
              " 'C135P96ThinF_IMG_20151005_124444_cell_40.png',\n",
              " 'C58P19thinF_IMG_20150802_122215_cell_16.png',\n",
              " 'C217ThinF_IMG_20151106_141135_cell_171.png',\n",
              " 'C230ThinF_IMG_20151112_150730_cell_111.png',\n",
              " 'C33P1thinF_IMG_20150619_114756a_cell_2.png',\n",
              " 'C238NThinF_IMG_20151207_114038_cell_97.png',\n",
              " 'C113P74ThinF_IMG_20150930_135904_cell_60.png',\n",
              " 'C47P8thin_Original_Motic_IMG_20150714_093947_cell_58.png',\n",
              " 'C56P17thinF_IMG_20150728_160623_cell_20.png',\n",
              " 'C203ThinF_IMG_20151029_102123_cell_111.png',\n",
              " 'C56P17thinF_IMG_20150728_151330_cell_98.png',\n",
              " 'C164P125ThinF_IMG_20151116_113550_cell_141.png',\n",
              " 'C39P4thinF_original_IMG_20150622_110352_cell_42.png',\n",
              " 'C154P115ThinF_IMG_20151115_141407_cell_144.png',\n",
              " 'C89P50ThinF_IMG_20150820_162813_cell_118.png',\n",
              " 'C91P52ThinF_IMG_20150821_123314_cell_42.png',\n",
              " 'C122P83ThinF_IMG_20151002_144855_cell_61.png',\n",
              " 'C202ThinF_IMG_20151015_152200_cell_226.png',\n",
              " 'C231ThinF_IMG_20151112_153359_cell_91.png',\n",
              " 'C168P129ThinF_IMG_20151118_160516_cell_1.png',\n",
              " 'C203ThinF_IMG_20151029_110105_cell_206.png',\n",
              " 'C220ThinF_IMG_20151106_154016_cell_1.png',\n",
              " 'C59P20thinF_IMG_20150803_113051_cell_144.png',\n",
              " 'C186P147NThinF_IMG_20151203_150808_cell_62.png',\n",
              " 'C133P94ThinF_IMG_20151004_154158_cell_6.png',\n",
              " 'C165P126ThinF_IMG_20151117_173346_cell_143.png',\n",
              " 'C175P136NThinF_IMG_20151127_142326_cell_90.png',\n",
              " 'C166P127ThinF_IMG_20151117_194147_cell_164.png',\n",
              " 'C147P108ThinF_IMG_20151115_092900_cell_64.png',\n",
              " 'C186P147NThinF_IMG_20151203_150859_cell_82.png',\n",
              " 'C108P69ThinF_IMG_20150924_223834_cell_71.png',\n",
              " 'C206ThinF_IMG_20151029_140538_cell_176.png',\n",
              " 'C66P27N_ThinF_IMG_20150818_163419_cell_36.png',\n",
              " 'C111P72ThinF_IMG_20150930_112430_cell_45.png',\n",
              " 'C149P110ThinF_IMG_20151115_114729_cell_76.png',\n",
              " 'C223ThinF_IMG_20151112_104240_cell_48.png',\n",
              " 'C83P44ThinF_IMG_20150817_133609_cell_68.png',\n",
              " 'C236ThinF_IMG_20151127_102428_cell_118.png',\n",
              " 'C237ThinF_IMG_20151127_104844_cell_72.png',\n",
              " 'C152P113ThinF_IMG_20151115_124217_cell_106.png',\n",
              " 'C97P58ThinF_IMG_20150917_145555_cell_157.png',\n",
              " 'C228ThinF_IMG_20151112_142452_cell_245.png',\n",
              " 'C99P60ThinF_IMG_20150918_141129_cell_20.png',\n",
              " 'C107P68ThinF_IMG_20150924_221632_cell_31.png',\n",
              " 'C108P69ThinF_IMG_20150924_224038_cell_85.png',\n",
              " 'C149P110ThinF_IMG_20151115_114910_cell_40.png',\n",
              " 'C138P99ThinF_IMG_20151005_171940_cell_71.png',\n",
              " 'C48P9thinF_IMG_20150721_161243_cell_74.png',\n",
              " 'C228ThinF_IMG_20151112_142452_cell_261.png',\n",
              " 'C235ThinF_IMG_20151112_164723_cell_140.png',\n",
              " 'C86P47ThinF_IMG_20150820_123717_cell_103.png',\n",
              " 'C180P141NThinF_IMG_20151201_164714_cell_139.png',\n",
              " 'C171P132ThinF_IMG_20151119_153851_cell_122.png',\n",
              " 'C148P109ThinF_IMG_20151115_112445_cell_66.png',\n",
              " 'C178P139NThinF_IMG_20151201_153846_cell_26.png',\n",
              " 'C188P149ThinF_IMG_20151203_134319_cell_119.png',\n",
              " 'C71P32_ThinF_IMG_20150813_162146_cell_121.png',\n",
              " 'C81P42ThinF_IMG_20150817_121113_cell_55.png',\n",
              " 'C189P150ThinF_IMG_20151203_141615_cell_84.png',\n",
              " 'C68P29N_ThinF_IMG_20150819_134112_cell_51.png',\n",
              " 'C137P98ThinF_IMG_20151005_161859_cell_48.png',\n",
              " 'C7NthinF_IMG_20150611_104404_cell_112.png',\n",
              " 'C124P85ThinF_IMG_20151002_155101_cell_164.png',\n",
              " 'C143P104ThinF_IMG_20151005_225454_cell_154.png',\n",
              " 'C50P11thinF_IMG_20150724_120716_cell_111.png',\n",
              " 'C227ThinF_IMG_20151112_135308_cell_12.png',\n",
              " 'C215ThinF_IMG_20151106_133012_cell_127.png',\n",
              " 'C76P37ThinF_IMG_20150815_172902_cell_22.png',\n",
              " 'C109P70ThinF_IMG_20150930_103214_cell_54.png',\n",
              " 'C144P105ThinF_IMG_20151015_163142_cell_298.png',\n",
              " 'C152P113ThinF_IMG_20151115_124557_cell_116.png',\n",
              " 'C203ThinF_IMG_20151029_105443_cell_249.png',\n",
              " 'C231ThinF_IMG_20151112_152234_cell_126.png',\n",
              " 'C220ThinF_IMG_20151106_154533_cell_41.png',\n",
              " 'C171P132ThinF_IMG_20151119_153425_cell_170.png',\n",
              " 'C165P126ThinF_IMG_20151117_164432_cell_173.png',\n",
              " 'C231ThinF_IMG_20151112_153041_cell_49.png',\n",
              " 'C80P41ThinF_IMG_20150817_111246_cell_41.png',\n",
              " 'C101P62ThinF_IMG_20150923_170246_cell_7.png',\n",
              " 'C171P132ThinF_IMG_20151119_153425_cell_198.png',\n",
              " 'C241NThinF_IMG_20151207_124208_cell_7.png',\n",
              " 'C77P38ThinF_IMG_20150602_112011_cell_68.png',\n",
              " 'C87P48ThinF_IMG_20150820_132327_cell_31.png',\n",
              " 'C62P23N_ThinF_IMG_20150818_133527_cell_36.png',\n",
              " 'C140P101ThinF_IMG_20151005_210309_cell_103.png',\n",
              " 'C152P113ThinF_IMG_20151115_124557_cell_94.png',\n",
              " 'C218ThinF_IMG_20151106_144143_cell_190.png',\n",
              " 'C201ThinF_IMG_20150930_142848_cell_129.png',\n",
              " 'C49P10thinF_IMG_20150724_103054_cell_33.png',\n",
              " 'C121P82ThinF_IMG_20151002_135054_cell_75.png',\n",
              " 'C203ThinF_IMG_20151029_104112_cell_238.png',\n",
              " 'C220ThinF_IMG_20151106_154510_cell_28.png',\n",
              " 'C143P104ThinF_IMG_20151005_225413_cell_89.png',\n",
              " 'C236ThinF_IMG_20151127_102546_cell_187.png',\n",
              " 'C119P80ThinF_IMG_20151002_124345_cell_81.png',\n",
              " 'C92P53ThinF_IMG_20150821_150457_cell_134.png',\n",
              " 'C94P55ThinF_IMG_20150821_170249_cell_130.png',\n",
              " 'C69P30N_ThinF_IMG_20150819_135705_cell_27.png',\n",
              " 'C161P122ThinF_IMG_20151116_101059_cell_104.png',\n",
              " 'C126P87ThinF_IMG_20151004_105844_cell_17.png',\n",
              " 'C212ThinF_IMG_20151106_105941_cell_247.png',\n",
              " 'C227ThinF_IMG_20151112_135422_cell_54.png',\n",
              " 'C153P114ThinF_IMG_20151115_135746_cell_62.png',\n",
              " 'C99P60ThinF_IMG_20150918_141520_cell_42.png',\n",
              " 'C146P107ThinF_IMG_20151018_135846_cell_176.png',\n",
              " 'C174P135NThinF_IMG_20151127_135640_cell_22.png',\n",
              " 'C135P96ThinF_IMG_20151005_123857_cell_12.png',\n",
              " 'C85P46ThinF_IMG_20150820_105154_cell_187.png',\n",
              " 'C159P120ThinF_IMG_20151115_190002_cell_77.png',\n",
              " 'C202ThinF_IMG_20151015_152333_cell_224.png',\n",
              " 'C204ThinF_IMG_20151029_110834_cell_200.png',\n",
              " 'C120P81ThinF_IMG_20151002_130918_cell_92.png',\n",
              " 'C98P59ThinF_IMG_20150917_153801_cell_58.png',\n",
              " 'C137P98ThinF_IMG_20151005_164119_cell_57.png',\n",
              " 'C76P37ThinF_IMG_20150815_172808_cell_172.png',\n",
              " 'C126P87ThinF_IMG_20151004_105342_cell_16.png',\n",
              " 'C93P54ThinF_IMG_20150821_163452_cell_163.png',\n",
              " 'C57P18thinF_IMG_20150729_110457_cell_54.png',\n",
              " 'C149P110ThinF_IMG_20151115_114555_cell_31.png',\n",
              " 'C102P63ThinF_IMG_20150918_162300_cell_89.png',\n",
              " 'C130P91ThinF_IMG_20151004_142109_cell_25.png',\n",
              " 'C72P33_ThinF_IMG_20150815_104923_cell_199.png',\n",
              " 'C125P86ThinF_IMG_20151004_102619_cell_77.png',\n",
              " 'C143P104ThinF_IMG_20151005_225528_cell_99.png',\n",
              " 'C73P34_ThinF_IMG_20150815_111422_cell_163.png',\n",
              " 'C80P41ThinF_IMG_20150817_111246_cell_27.png',\n",
              " 'C69P30N_ThinF_IMG_20150819_140652_cell_17.png',\n",
              " 'C179P140ThinF_IMG_20151127_153521_cell_155.png',\n",
              " 'C126P87ThinF_IMG_20151004_105844_cell_73.png',\n",
              " 'C106P67ThinF_IMG_20150924_103636_cell_99.png',\n",
              " 'C210ThinF_IMG_20151029_162605_cell_10.png',\n",
              " 'C102P63ThinF_IMG_20150918_162300_cell_12.png',\n",
              " 'C234ThinF_IMG_20151112_163036_cell_166.png',\n",
              " 'C13NThinF_IMG_20150614_131417_cell_110.png',\n",
              " 'C169P130ThinF_IMG_20151118_172913_cell_7.png',\n",
              " 'C87P48ThinF_IMG_20150820_132642_cell_85.png',\n",
              " 'C181P142ThinF_IMG_20151127_155722_cell_5.png',\n",
              " 'C38P3thinF_original_IMG_20150621_112227_cell_173.png',\n",
              " 'C153P114ThinF_IMG_20151115_135832_cell_193.png',\n",
              " 'C241NThinF_IMG_20151207_124240_cell_125.png',\n",
              " 'C181P142ThinF_IMG_20151127_160650_cell_143.png',\n",
              " 'C38P3thinF_original_IMG_20150621_112116_cell_67.png',\n",
              " 'C144P105ThinF_IMG_20151015_163432_cell_238.png',\n",
              " ...]"
            ]
          },
          "metadata": {
            "tags": []
          },
          "execution_count": 97
        }
      ]
    },
    {
      "cell_type": "code",
      "metadata": {
        "id": "8NBLnfHfHPEe",
        "colab_type": "code",
        "colab": {}
      },
      "source": [
        "uninfected_cell=train_path+'uninfected/'+'C214ThinF_IMG_20151106_114526_cell_49.png'"
      ],
      "execution_count": 0,
      "outputs": []
    },
    {
      "cell_type": "code",
      "metadata": {
        "id": "qg6wY9AAIGrh",
        "colab_type": "code",
        "outputId": "7895820a-797d-4dd6-d754-a40c50bac423",
        "colab": {
          "base_uri": "https://localhost:8080/",
          "height": 286
        }
      },
      "source": [
        "plt.imshow(imread(uninfected_cell))"
      ],
      "execution_count": 0,
      "outputs": [
        {
          "output_type": "execute_result",
          "data": {
            "text/plain": [
              "<matplotlib.image.AxesImage at 0x7f0cce4ab710>"
            ]
          },
          "metadata": {
            "tags": []
          },
          "execution_count": 99
        },
        {
          "output_type": "display_data",
          "data": {
            "image/png": "[encoded data removed]",
            "text/plain": [
              "<Figure size 432x288 with 1 Axes>"
            ]
          },
          "metadata": {
            "tags": [],
            "needs_background": "light"
          }
        }
      ]
    },
    {
      "cell_type": "code",
      "metadata": {
        "id": "Eyey_SdLIQZx",
        "colab_type": "code",
        "outputId": "aa7b9e5d-7ecb-450d-a322-096cf0d9ff8d",
        "colab": {
          "base_uri": "https://localhost:8080/",
          "height": 34
        }
      },
      "source": [
        "pwd"
      ],
      "execution_count": 0,
      "outputs": [
        {
          "output_type": "execute_result",
          "data": {
            "text/plain": [
              "'/content'"
            ]
          },
          "metadata": {
            "tags": []
          },
          "execution_count": 100
        }
      ]
    },
    {
      "cell_type": "code",
      "metadata": {
        "id": "p5oeoJIHIXBw",
        "colab_type": "code",
        "outputId": "042872a4-5346-4a62-bb2d-57f5bb3d1057",
        "colab": {
          "base_uri": "https://localhost:8080/",
          "height": 34
        }
      },
      "source": [
        "\n",
        "#number of pics in each category\n",
        "\n",
        "len(os.listdir(train_path+'parasitized'))\n"
      ],
      "execution_count": 0,
      "outputs": [
        {
          "output_type": "execute_result",
          "data": {
            "text/plain": [
              "12480"
            ]
          },
          "metadata": {
            "tags": []
          },
          "execution_count": 101
        }
      ]
    },
    {
      "cell_type": "code",
      "metadata": {
        "id": "7BQDTewnIegO",
        "colab_type": "code",
        "outputId": "8c777c2e-85a6-4c4b-9a70-fd2733d3b9d6",
        "colab": {
          "base_uri": "https://localhost:8080/",
          "height": 34
        }
      },
      "source": [
        "len(os.listdir(train_path+'uninfected'))"
      ],
      "execution_count": 0,
      "outputs": [
        {
          "output_type": "execute_result",
          "data": {
            "text/plain": [
              "12480"
            ]
          },
          "metadata": {
            "tags": []
          },
          "execution_count": 102
        }
      ]
    },
    {
      "cell_type": "code",
      "metadata": {
        "id": "_A2e1rHSIpMc",
        "colab_type": "code",
        "outputId": "7fa255f8-cd82-4021-d979-65a405c0840c",
        "colab": {
          "base_uri": "https://localhost:8080/",
          "height": 34
        }
      },
      "source": [
        "len(os.listdir(test_path+'parasitized'))"
      ],
      "execution_count": 0,
      "outputs": [
        {
          "output_type": "execute_result",
          "data": {
            "text/plain": [
              "1300"
            ]
          },
          "metadata": {
            "tags": []
          },
          "execution_count": 103
        }
      ]
    },
    {
      "cell_type": "code",
      "metadata": {
        "id": "-k13Vj-DItBW",
        "colab_type": "code",
        "outputId": "c51bf3cd-e243-4353-bf16-9d92cd83a5c9",
        "colab": {
          "base_uri": "https://localhost:8080/",
          "height": 34
        }
      },
      "source": [
        "len(os.listdir(test_path+'uninfected'))"
      ],
      "execution_count": 0,
      "outputs": [
        {
          "output_type": "execute_result",
          "data": {
            "text/plain": [
              "1300"
            ]
          },
          "metadata": {
            "tags": []
          },
          "execution_count": 104
        }
      ]
    },
    {
      "cell_type": "code",
      "metadata": {
        "id": "gYDvCshJIzQY",
        "colab_type": "code",
        "outputId": "d3309666-42dd-46f2-c392-c26384423fa8",
        "colab": {
          "base_uri": "https://localhost:8080/",
          "height": 458
        }
      },
      "source": [
        "#observing the size of each image in the data set\n",
        "\n",
        "dim1=[]\n",
        "dim2=[]\n",
        "\n",
        "for image_filename in os.listdir(test_path+'uninfected'):\n",
        "  img = imread(test_path+   'uninfected/'    + image_filename)\n",
        "  d1,d2,colors=img.shape\n",
        "  dim1.append(d1)\n",
        "  dim2.append(d2)\n",
        "\n",
        "sns.jointplot(dim1,dim2)\n",
        "\n"
      ],
      "execution_count": 0,
      "outputs": [
        {
          "output_type": "execute_result",
          "data": {
            "text/plain": [
              "<seaborn.axisgrid.JointGrid at 0x7f0cce45dfd0>"
            ]
          },
          "metadata": {
            "tags": []
          },
          "execution_count": 105
        },
        {
          "output_type": "display_data",
          "data": {
            "image/png": "[encoded data removed]",
            "text/plain": [
              "<Figure size 432x432 with 3 Axes>"
            ]
          },
          "metadata": {
            "tags": [],
            "needs_background": "light"
          }
        }
      ]
    },
    {
      "cell_type": "code",
      "metadata": {
        "id": "Sr3-fRKNx42S",
        "colab_type": "code",
        "colab": {}
      },
      "source": [
        "#image reshaping\n",
        "\n",
        "image_shape=(130,130,3)"
      ],
      "execution_count": 0,
      "outputs": []
    },
    {
      "cell_type": "code",
      "metadata": {
        "id": "WNyhGy47Jog-",
        "colab_type": "code",
        "colab": {}
      },
      "source": [
        " #mean dim chosen for training 130*130\n",
        " #training on different sizes not possible"
      ],
      "execution_count": 0,
      "outputs": []
    },
    {
      "cell_type": "code",
      "metadata": {
        "id": "FsWOjHFiKjJV",
        "colab_type": "code",
        "colab": {}
      },
      "source": [
        "#too big hence it will be fed in batches\n"
      ],
      "execution_count": 0,
      "outputs": []
    },
    {
      "cell_type": "code",
      "metadata": {
        "id": "m1cD3bO4LKM1",
        "colab_type": "code",
        "colab": {}
      },
      "source": [
        "from tensorflow.keras.preprocessing.image import ImageDataGenerator"
      ],
      "execution_count": 0,
      "outputs": []
    },
    {
      "cell_type": "code",
      "metadata": {
        "id": "vl9127utR4yh",
        "colab_type": "code",
        "outputId": "3de5b088-48b9-468d-948b-16dcd9693b2f",
        "colab": {
          "base_uri": "https://localhost:8080/",
          "height": 34
        }
      },
      "source": [
        "imread(uninfected_cell).max()"
      ],
      "execution_count": 0,
      "outputs": [
        {
          "output_type": "execute_result",
          "data": {
            "text/plain": [
              "0.7882353"
            ]
          },
          "metadata": {
            "tags": []
          },
          "execution_count": 110
        }
      ]
    },
    {
      "cell_type": "code",
      "metadata": {
        "id": "w5SAcb4wLZ9H",
        "colab_type": "code",
        "colab": {}
      },
      "source": [
        "image_gen = ImageDataGenerator( \n",
        "    rotation_range=20,#for random \n",
        "    #rotations in the data set higher values for circular images and lower value for images with distictive faces and features\n",
        "    width_shift_range=0.1,\n",
        "    height_shift_range=0.1,\n",
        "    # if the images were in the scale of 0-255 then \n",
        "    #rescale=1/255,\n",
        "    shear_range=0.1,\n",
        "    zoom_range=0.1,\n",
        "    horizontal_flip=True,\n",
        "    fill_mode='nearest',\n",
        ")"
      ],
      "execution_count": 0,
      "outputs": []
    },
    {
      "cell_type": "code",
      "metadata": {
        "id": "cISHRGvsLcHy",
        "colab_type": "code",
        "outputId": "4b5f5f6b-9b18-42cd-e2e9-0ec36c2b5ce4",
        "colab": {
          "base_uri": "https://localhost:8080/",
          "height": 286
        }
      },
      "source": [
        " para_cell=imread(para_cell\n",
        " plt.imshow(para_cell)"
      ],
      "execution_count": 0,
      "outputs": [
        {
          "output_type": "execute_result",
          "data": {
            "text/plain": [
              "<matplotlib.image.AxesImage at 0x7f0cce2704e0>"
            ]
          },
          "metadata": {
            "tags": []
          },
          "execution_count": 112
        },
        {
          "output_type": "display_data",
          "data": {
            "image/png": "[encoded data removed]",
            "text/plain": [
              "<Figure size 432x288 with 1 Axes>"
            ]
          },
          "metadata": {
            "tags": [],
            "needs_background": "light"
          }
        }
      ]
    },
    {
      "cell_type": "code",
      "metadata": {
        "id": "k19AusqyqlV8",
        "colab_type": "code",
        "outputId": "aeb43eca-6a99-41ea-a81d-6c491ded1f03",
        "colab": {
          "base_uri": "https://localhost:8080/",
          "height": 286
        }
      },
      "source": [
        "#this way the data set is agumented to improve the performance\n",
        "plt.imshow(image_gen.random_transform(para_cell))"
      ],
      "execution_count": 0,
      "outputs": [
        {
          "output_type": "execute_result",
          "data": {
            "text/plain": [
              "<matplotlib.image.AxesImage at 0x7f0ccc43ee10>"
            ]
          },
          "metadata": {
            "tags": []
          },
          "execution_count": 113
        },
        {
          "output_type": "display_data",
          "data": {
            "image/png": "[encoded data removed]",
            "text/plain": [
              "<Figure size 432x288 with 1 Axes>"
            ]
          },
          "metadata": {
            "tags": [],
            "needs_background": "light"
          }
        }
      ]
    },
    {
      "cell_type": "code",
      "metadata": {
        "id": "huM2F6MdqvKA",
        "colab_type": "code",
        "outputId": "206b63d9-dff6-44f8-84e6-2e4044c74189",
        "colab": {
          "base_uri": "https://localhost:8080/",
          "height": 50
        }
      },
      "source": [
        "image_gen.flow_from_directory(train_path)"
      ],
      "execution_count": 0,
      "outputs": [
        {
          "output_type": "stream",
          "text": [
            "Found 24958 images belonging to 2 classes.\n"
          ],
          "name": "stdout"
        },
        {
          "output_type": "execute_result",
          "data": {
            "text/plain": [
              "<keras_preprocessing.image.directory_iterator.DirectoryIterator at 0x7f0cce2a6ef0>"
            ]
          },
          "metadata": {
            "tags": []
          },
          "execution_count": 114
        }
      ]
    },
    {
      "cell_type": "code",
      "metadata": {
        "id": "j4x6oygwriq7",
        "colab_type": "code",
        "outputId": "254432e7-9ce4-44b0-f1a0-176653340499",
        "colab": {
          "base_uri": "https://localhost:8080/",
          "height": 50
        }
      },
      "source": [
        "image_gen.flow_from_directory(test_path)"
      ],
      "execution_count": 0,
      "outputs": [
        {
          "output_type": "stream",
          "text": [
            "Found 2600 images belonging to 2 classes.\n"
          ],
          "name": "stdout"
        },
        {
          "output_type": "execute_result",
          "data": {
            "text/plain": [
              "<keras_preprocessing.image.directory_iterator.DirectoryIterator at 0x7f0cce43fac8>"
            ]
          },
          "metadata": {
            "tags": []
          },
          "execution_count": 115
        }
      ]
    },
    {
      "cell_type": "code",
      "metadata": {
        "id": "h9TIMoNh6ZFj",
        "colab_type": "code",
        "colab": {}
      },
      "source": [
        "from tensorflow.keras.models import Sequential\n",
        "\n",
        "from tensorflow.keras.layers import Dense,Conv2D,MaxPool2D,Dropout,Flatten\n",
        "\n",
        "\n",
        "model=Sequential()\n",
        "#convolutional layer more added since more information is transfered\n",
        "\n",
        "# for number of convolution layers in the https://stats.stackexchange.com/questions/148139/rules-for-selecting-convolutional-neural-network-hyperparameters\n",
        "model.add(\n",
        "    Conv2D(\n",
        "        filters=32,\n",
        "        kernel_size=(2,2)\n",
        "        ,strides=(1,1),\n",
        "        input_shape=image_shape,\n",
        "        activation='relu',\n",
        "        ))\n",
        "\n",
        "\n",
        "#pooling layer\n",
        "#pool size is generaly half of kernel size\n",
        "model.add(MaxPool2D(\n",
        "    pool_size=(1,1)\n",
        "))\n",
        "\n",
        "\n",
        "\n",
        "model.add(\n",
        "    Conv2D(\n",
        "        filters=64,\n",
        "        kernel_size=(2,2)\n",
        "        ,strides=(1,1),\n",
        "        input_shape=(32,32,3),\n",
        "        activation='relu',\n",
        "        ))\n",
        "\n",
        "model.add(MaxPool2D(\n",
        "    pool_size=(2,2)\n",
        "))\n",
        "\n",
        "\n",
        "\n",
        "\n",
        "model.add(\n",
        "    Conv2D(\n",
        "        filters=86,\n",
        "        kernel_size=(2,2)\n",
        "        ,strides=(1,1),\n",
        "        input_shape=(32,32,3),\n",
        "        activation='relu',\n",
        "        ))\n",
        "\n",
        "model.add(MaxPool2D(\n",
        "    pool_size=(1,1)\n",
        "))\n",
        "\n",
        "\n",
        "\n",
        "\n",
        "\n",
        "\n",
        "\n",
        "\n",
        "#now flaten out layers and add a dense layer\n",
        "\n",
        "model.add(Flatten())\n",
        "#ONE DENSE LAYER IN THE SAME SCALE AS 32*32*3 more neurons added\n",
        "model.add(Dense(128,activation='relu'))\n",
        "model.add(Dropout(0.5))\n",
        "#final output layer\n",
        " # no of neurons = one per class for classification problem\n",
        " #softmax for multiclass problem\n",
        "model.add(Dense(1,activation='sigmoid'))\n",
        "\n",
        "model.compile(loss='binary_crossentropy',optimizer='adam',\n",
        "              metrics=['accuracy']\n",
        "              )\n"
      ],
      "execution_count": 0,
      "outputs": []
    },
    {
      "cell_type": "code",
      "metadata": {
        "id": "iFMcuzop7uEH",
        "colab_type": "code",
        "outputId": "142472f0-588d-4005-ca18-1e8ee15d1da0",
        "colab": {
          "base_uri": "https://localhost:8080/",
          "height": 487
        }
      },
      "source": [
        "model.summary()"
      ],
      "execution_count": 0,
      "outputs": [
        {
          "output_type": "stream",
          "text": [
            "Model: \"sequential_2\"\n",
            "_________________________________________________________________\n",
            "Layer (type)                 Output Shape              Param #   \n",
            "=================================================================\n",
            "conv2d_6 (Conv2D)            (None, 129, 129, 32)      416       \n",
            "_________________________________________________________________\n",
            "max_pooling2d_6 (MaxPooling2 (None, 129, 129, 32)      0         \n",
            "_________________________________________________________________\n",
            "conv2d_7 (Conv2D)            (None, 128, 128, 64)      8256      \n",
            "_________________________________________________________________\n",
            "max_pooling2d_7 (MaxPooling2 (None, 64, 64, 64)        0         \n",
            "_________________________________________________________________\n",
            "conv2d_8 (Conv2D)            (None, 63, 63, 86)        22102     \n",
            "_________________________________________________________________\n",
            "max_pooling2d_8 (MaxPooling2 (None, 63, 63, 86)        0         \n",
            "_________________________________________________________________\n",
            "flatten_2 (Flatten)          (None, 341334)            0         \n",
            "_________________________________________________________________\n",
            "dense_4 (Dense)              (None, 128)               43690880  \n",
            "_________________________________________________________________\n",
            "dropout_2 (Dropout)          (None, 128)               0         \n",
            "_________________________________________________________________\n",
            "dense_5 (Dense)              (None, 1)                 129       \n",
            "=================================================================\n",
            "Total params: 43,721,783\n",
            "Trainable params: 43,721,783\n",
            "Non-trainable params: 0\n",
            "_________________________________________________________________\n"
          ],
          "name": "stdout"
        }
      ]
    },
    {
      "cell_type": "code",
      "metadata": {
        "id": "jTPhX6d18vs5",
        "colab_type": "code",
        "colab": {}
      },
      "source": [
        ""
      ],
      "execution_count": 0,
      "outputs": []
    },
    {
      "cell_type": "code",
      "metadata": {
        "id": "-Vt8SqrE8y_E",
        "colab_type": "code",
        "outputId": "512285a8-86a6-40f7-e17d-f8c5a8517f99",
        "colab": {
          "base_uri": "https://localhost:8080/",
          "height": 50
        }
      },
      "source": [
        "batch_size=100\n",
        "\n",
        "train_image_gen= image_gen.flow_from_directory(\n",
        "                                               train_path,\n",
        "                                               target_size=(130,130),\n",
        "                                               color_mode='rgb',\n",
        "                                               batch_size=batch_size,\n",
        "                                               class_mode='binary')\n",
        "\n",
        "#test data must not be shuffled\n",
        "\n",
        "test_image_gen= image_gen.flow_from_directory(test_path,\n",
        "                                               target_size=(130,130),\n",
        "                                               color_mode='rgb',\n",
        "                                               batch_size=batch_size,\n",
        "                                              shuffle=False,\n",
        "                                              class_mode='binary'\n",
        "                                              )"
      ],
      "execution_count": 0,
      "outputs": [
        {
          "output_type": "stream",
          "text": [
            "Found 24958 images belonging to 2 classes.\n",
            "Found 2600 images belonging to 2 classes.\n"
          ],
          "name": "stdout"
        }
      ]
    },
    {
      "cell_type": "code",
      "metadata": {
        "id": "zjmfv6ys-D5Z",
        "colab_type": "code",
        "outputId": "7b1faa52-10ec-41fa-c16e-351b686b5700",
        "colab": {
          "base_uri": "https://localhost:8080/",
          "height": 34
        }
      },
      "source": [
        "# index names\n",
        "\n",
        "train_image_gen.class_indices"
      ],
      "execution_count": 0,
      "outputs": [
        {
          "output_type": "execute_result",
          "data": {
            "text/plain": [
              "{'parasitized': 0, 'uninfected': 1}"
            ]
          },
          "metadata": {
            "tags": []
          },
          "execution_count": 119
        }
      ]
    },
    {
      "cell_type": "code",
      "metadata": {
        "id": "nsKxm61Q7wM-",
        "colab_type": "code",
        "colab": {}
      },
      "source": [
        "from tensorflow.keras.callbacks import EarlyStopping\n",
        "early_stop = EarlyStopping(monitor='val_loss',patience=1)\n"
      ],
      "execution_count": 0,
      "outputs": []
    },
    {
      "cell_type": "code",
      "metadata": {
        "id": "3FK8M2hq78Pd",
        "colab_type": "code",
        "outputId": "5cf7132e-05c8-4df6-d48a-b619a5ee1814",
        "colab": {
          "base_uri": "https://localhost:8080/",
          "height": 138
        }
      },
      "source": [
        "results=model.fit_generator(\n",
        "  train_image_gen,\n",
        "  \n",
        "    epochs=20,\n",
        "    validation_data=test_image_gen,\n",
        "    callbacks=[early_stop],\n",
        "    )"
      ],
      "execution_count": 0,
      "outputs": [
        {
          "output_type": "stream",
          "text": [
            "Epoch 1/20\n",
            "250/250 [==============================] - 138s 552ms/step - loss: 26.4229 - accuracy: 0.7389 - val_loss: 0.3238 - val_accuracy: 0.9138\n",
            "Epoch 2/20\n",
            "250/250 [==============================] - 137s 547ms/step - loss: 0.3216 - accuracy: 0.9143 - val_loss: 0.2627 - val_accuracy: 0.9315\n",
            "Epoch 3/20\n",
            "250/250 [==============================] - 136s 546ms/step - loss: 0.2797 - accuracy: 0.9243 - val_loss: 0.2825 - val_accuracy: 0.9150\n"
          ],
          "name": "stdout"
        }
      ]
    },
    {
      "cell_type": "code",
      "metadata": {
        "id": "vZyStIMf8y9P",
        "colab_type": "code",
        "outputId": "2ad0121e-67f2-48d8-aa38-c632d384500f",
        "colab": {
          "base_uri": "https://localhost:8080/",
          "height": 530
        }
      },
      "source": [
        "metrics=pd.DataFrame(model.history.history)\n",
        "metrics[['loss','val_loss']].plot()\n",
        "\n",
        "metrics[['accuracy','val_accuracy']].plot()"
      ],
      "execution_count": 0,
      "outputs": [
        {
          "output_type": "execute_result",
          "data": {
            "text/plain": [
              "<matplotlib.axes._subplots.AxesSubplot at 0x7f0d75c8df60>"
            ]
          },
          "metadata": {
            "tags": []
          },
          "execution_count": 122
        },
        {
          "output_type": "display_data",
          "data": {
            "image/png": "[encoded data removed]",
            "text/plain": [
              "<Figure size 432x288 with 1 Axes>"
            ]
          },
          "metadata": {
            "tags": [],
            "needs_background": "light"
          }
        },
        {
          "output_type": "display_data",
          "data": {
            "image/png": "[encoded data removed]",
            "text/plain": [
              "<Figure size 432x288 with 1 Axes>"
            ]
          },
          "metadata": {
            "tags": [],
            "needs_background": "light"
          }
        }
      ]
    },
    {
      "cell_type": "code",
      "metadata": {
        "id": "w5Gr5VuY87XL",
        "colab_type": "code",
        "colab": {}
      },
      "source": [
        "pred = model.predict(test_image_gen)\n",
        "predictions=pred>0.5 #probability of more than 50 percent is taken as true\n"
      ],
      "execution_count": 0,
      "outputs": []
    },
    {
      "cell_type": "code",
      "metadata": {
        "id": "R1Dl81YI4beY",
        "colab_type": "code",
        "outputId": "4f184cdb-2427-4f50-e5d2-af0203265e7b",
        "colab": {
          "base_uri": "https://localhost:8080/",
          "height": 34
        }
      },
      "source": [
        "len(pred)"
      ],
      "execution_count": 0,
      "outputs": [
        {
          "output_type": "execute_result",
          "data": {
            "text/plain": [
              "2600"
            ]
          },
          "metadata": {
            "tags": []
          },
          "execution_count": 139
        }
      ]
    },
    {
      "cell_type": "code",
      "metadata": {
        "id": "tdXkPQtk4Ftu",
        "colab_type": "code",
        "outputId": "e07a3cd9-f9ad-470b-dc54-cce1605b0cb2",
        "colab": {
          "base_uri": "https://localhost:8080/",
          "height": 168
        }
      },
      "source": [
        "\n",
        "from sklearn.metrics import classification_report,confusion_matrix\n",
        "\n",
        "# predictions=model.predict_classes(x)\n",
        "# confusion_matrix(y_test,predictions)\n",
        "\n",
        "print(classification_report(test_image_gen.classes,predictions))"
      ],
      "execution_count": 0,
      "outputs": [
        {
          "output_type": "stream",
          "text": [
            "              precision    recall  f1-score   support\n",
            "\n",
            "           0       0.96      0.85      0.91      1300\n",
            "           1       0.87      0.97      0.92      1300\n",
            "\n",
            "    accuracy                           0.91      2600\n",
            "   macro avg       0.92      0.91      0.91      2600\n",
            "weighted avg       0.92      0.91      0.91      2600\n",
            "\n"
          ],
          "name": "stdout"
        }
      ]
    },
    {
      "cell_type": "code",
      "metadata": {
        "id": "8X0WNZhD9Skv",
        "colab_type": "code",
        "outputId": "7310f916-4bd4-4996-a027-927c9385d844",
        "colab": {
          "base_uri": "https://localhost:8080/",
          "height": 50
        }
      },
      "source": [
        "confusion_matrix(test_image_gen.classes,predictions)"
      ],
      "execution_count": 0,
      "outputs": [
        {
          "output_type": "execute_result",
          "data": {
            "text/plain": [
              "array([[1111,  189],\n",
              "       [  43, 1257]])"
            ]
          },
          "metadata": {
            "tags": []
          },
          "execution_count": 141
        }
      ]
    },
    {
      "cell_type": "code",
      "metadata": {
        "id": "58SRMVvF4uxX",
        "colab_type": "code",
        "colab": {}
      },
      "source": [
        "from tensorflow.keras.preprocessing import image\n",
        "\n",
        "my_image=image.load_img(uninfected_cell,target_size=(130,130))"
      ],
      "execution_count": 0,
      "outputs": []
    },
    {
      "cell_type": "code",
      "metadata": {
        "id": "WQ7TmDX1-XH1",
        "colab_type": "code",
        "colab": {}
      },
      "source": [
        "my_image_arr=image.img_to_array(my_image)"
      ],
      "execution_count": 0,
      "outputs": []
    },
    {
      "cell_type": "code",
      "metadata": {
        "id": "MjLyMT5h_W4h",
        "colab_type": "code",
        "outputId": "5eefc71e-4e7e-48c7-9ece-b5d604df2ca0",
        "colab": {
          "base_uri": "https://localhost:8080/",
          "height": 840
        }
      },
      "source": [
        "my_image_arr"
      ],
      "execution_count": 0,
      "outputs": [
        {
          "output_type": "execute_result",
          "data": {
            "text/plain": [
              "array([[[0., 0., 0.],\n",
              "        [0., 0., 0.],\n",
              "        [0., 0., 0.],\n",
              "        ...,\n",
              "        [0., 0., 0.],\n",
              "        [0., 0., 0.],\n",
              "        [0., 0., 0.]],\n",
              "\n",
              "       [[0., 0., 0.],\n",
              "        [0., 0., 0.],\n",
              "        [0., 0., 0.],\n",
              "        ...,\n",
              "        [0., 0., 0.],\n",
              "        [0., 0., 0.],\n",
              "        [0., 0., 0.]],\n",
              "\n",
              "       [[0., 0., 0.],\n",
              "        [0., 0., 0.],\n",
              "        [0., 0., 0.],\n",
              "        ...,\n",
              "        [0., 0., 0.],\n",
              "        [0., 0., 0.],\n",
              "        [0., 0., 0.]],\n",
              "\n",
              "       ...,\n",
              "\n",
              "       [[0., 0., 0.],\n",
              "        [0., 0., 0.],\n",
              "        [0., 0., 0.],\n",
              "        ...,\n",
              "        [0., 0., 0.],\n",
              "        [0., 0., 0.],\n",
              "        [0., 0., 0.]],\n",
              "\n",
              "       [[0., 0., 0.],\n",
              "        [0., 0., 0.],\n",
              "        [0., 0., 0.],\n",
              "        ...,\n",
              "        [0., 0., 0.],\n",
              "        [0., 0., 0.],\n",
              "        [0., 0., 0.]],\n",
              "\n",
              "       [[0., 0., 0.],\n",
              "        [0., 0., 0.],\n",
              "        [0., 0., 0.],\n",
              "        ...,\n",
              "        [0., 0., 0.],\n",
              "        [0., 0., 0.],\n",
              "        [0., 0., 0.]]], dtype=float32)"
            ]
          },
          "metadata": {
            "tags": []
          },
          "execution_count": 144
        }
      ]
    },
    {
      "cell_type": "code",
      "metadata": {
        "id": "ntS7zj9b_pyc",
        "colab_type": "code",
        "colab": {}
      },
      "source": [
        "my_image_arr=np.expand_dims(my_image_arr,axis=0) #reshaping the image to batch of one image \n",
        "#necessary to feed into the model"
      ],
      "execution_count": 0,
      "outputs": []
    },
    {
      "cell_type": "code",
      "metadata": {
        "id": "lJjx4SI3AQH2",
        "colab_type": "code",
        "outputId": "0fbb15fc-73dd-4716-fa09-02fba44c1784",
        "colab": {
          "base_uri": "https://localhost:8080/",
          "height": 34
        }
      },
      "source": [
        "model.predict(my_image_arr)"
      ],
      "execution_count": 0,
      "outputs": [
        {
          "output_type": "execute_result",
          "data": {
            "text/plain": [
              "array([[0.99514693]], dtype=float32)"
            ]
          },
          "metadata": {
            "tags": []
          },
          "execution_count": 147
        }
      ]
    },
    {
      "cell_type": "code",
      "metadata": {
        "id": "VJegE4rPAzc8",
        "colab_type": "code",
        "outputId": "0d30ab60-33b6-4d97-ccc7-4cb3ad3bca44",
        "colab": {
          "base_uri": "https://localhost:8080/",
          "height": 34
        }
      },
      "source": [
        "train_image_gen.class_indices"
      ],
      "execution_count": 0,
      "outputs": [
        {
          "output_type": "execute_result",
          "data": {
            "text/plain": [
              "{'parasitized': 0, 'uninfected': 1}"
            ]
          },
          "metadata": {
            "tags": []
          },
          "execution_count": 149
        }
      ]
    },
    {
      "cell_type": "code",
      "metadata": {
        "id": "1pPn423bBZCx",
        "colab_type": "code",
        "colab": {}
      },
      "source": [
        ""
      ],
      "execution_count": 0,
      "outputs": []
    }
  ]
}