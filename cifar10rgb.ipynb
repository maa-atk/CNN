{
  "nbformat": 4,
  "nbformat_minor": 0,
  "metadata": {
    "colab": {
      "name": "cifar10rgb.ipynb",
      "provenance": [],
      "collapsed_sections": [],
      "authorship_tag": "ABX9TyPWgg8Rb7LYTIdwGhVPp27i",
      "include_colab_link": true
    },
    "kernelspec": {
      "name": "python3",
      "display_name": "Python 3"
    }
  },
  "cells": [
    {
      "cell_type": "markdown",
      "metadata": {
        "id": "view-in-github",
        "colab_type": "text"
      },
      "source": [
        "<a href=\"https://colab.research.google.com/github/maa-atk/CNN/blob/master/cifar10rgb.ipynb\" target=\"_parent\"><img src=\"https://colab.research.google.com/assets/colab-badge.svg\" alt=\"Open In Colab\"/></a>"
      ]
    },
    {
      "cell_type": "code",
      "metadata": {
        "id": "56xtioqN3EpQ",
        "colab_type": "code",
        "colab": {}
      },
      "source": [
        " # Single layer output required then one hot encoding done \n",
        "import pandas as pd\n",
        "import numpy as np\n",
        "import matplotlib.pyplot as plt\n",
        "%matplotlib inline\n",
        "\n",
        "from tensorflow.keras.datasets import cifar10\n",
        "\n",
        "(x_train,y_train),(x_test,y_test)= cifar10.load_data()\n",
        "\n",
        "(x_train,y_train),(x_test,y_test)= cifar10.load_data()"
      ],
      "execution_count": 0,
      "outputs": []
    },
    {
      "cell_type": "code",
      "metadata": {
        "id": "KULTZdTZ5xEq",
        "colab_type": "code",
        "colab": {}
      },
      "source": [
        "#normalize values\n",
        "\n",
        "x_train=x_train/255\n",
        "x_test=x_test/255"
      ],
      "execution_count": 0,
      "outputs": []
    },
    {
      "cell_type": "code",
      "metadata": {
        "id": "xHU4SuDV6BTs",
        "colab_type": "code",
        "colab": {}
      },
      "source": [
        "#hot encoding\n",
        "from tensorflow.keras.utils import to_categorical \n",
        "y_cat_train=to_categorical(y_train,num_classes=10) \n",
        "y_cat_test=to_categorical(y_test,num_classes=10)\n",
        "\n"
      ],
      "execution_count": 0,
      "outputs": []
    },
    {
      "cell_type": "code",
      "metadata": {
        "id": "Eqbyw5gn6XZN",
        "colab_type": "code",
        "outputId": "90975d8d-c543-4a02-e3db-a1dbda782d05",
        "colab": {
          "base_uri": "https://localhost:8080/",
          "height": 35
        }
      },
      "source": [
        "y_test[0]"
      ],
      "execution_count": 0,
      "outputs": [
        {
          "output_type": "execute_result",
          "data": {
            "text/plain": [
              "array([3], dtype=uint8)"
            ]
          },
          "metadata": {
            "tags": []
          },
          "execution_count": 129
        }
      ]
    },
    {
      "cell_type": "code",
      "metadata": {
        "id": "65G2Yz3m62Cr",
        "colab_type": "code",
        "outputId": "dbcbfe06-80d0-47e4-a071-203ea9a63012",
        "colab": {
          "base_uri": "https://localhost:8080/",
          "height": 35
        }
      },
      "source": [
        "x_test.shape"
      ],
      "execution_count": 0,
      "outputs": [
        {
          "output_type": "execute_result",
          "data": {
            "text/plain": [
              "(10000, 32, 32, 3)"
            ]
          },
          "metadata": {
            "tags": []
          },
          "execution_count": 130
        }
      ]
    },
    {
      "cell_type": "code",
      "metadata": {
        "id": "h9TIMoNh6ZFj",
        "colab_type": "code",
        "colab": {}
      },
      "source": [
        "from tensorflow.keras.models import Sequential\n",
        "\n",
        "from tensorflow.keras.layers import Dense,Conv2D,MaxPool2D,Flatten\n",
        "\n",
        "\n",
        "model=Sequential()\n",
        "#convolutional layer more added since more information is transfered\n",
        "\n",
        "\n",
        "model.add(\n",
        "    Conv2D(\n",
        "        filters=32,\n",
        "        kernel_size=(4,4)\n",
        "        ,strides=(1,1),\n",
        "        input_shape=(32,32,3),\n",
        "        activation='relu',\n",
        "        ))\n",
        "\n",
        "\n",
        "#pooling layer\n",
        "#pool size is generaly half of kernel size\n",
        "model.add(MaxPool2D(\n",
        "    pool_size=(2,2)\n",
        "))\n",
        "\n",
        "model.add(\n",
        "    Conv2D(\n",
        "        filters=42,\n",
        "        kernel_size=(4,4)\n",
        "        ,strides=(1,1),\n",
        "        input_shape=(32,32,3),\n",
        "        activation='relu',\n",
        "        ))\n",
        "\n",
        "model.add(MaxPool2D(\n",
        "    pool_size=(2,2)\n",
        "))\n",
        "\n",
        "\n",
        "model.add(\n",
        "    Conv2D(\n",
        "        filters=52,\n",
        "        kernel_size=(4,4)\n",
        "        ,strides=(1,1),\n",
        "        input_shape=(32,32,3),\n",
        "        activation='relu',\n",
        "        ))\n",
        "#now flaten out layers and add a dense layer\n",
        "\n",
        "model.add(Flatten())\n",
        "#ONE DENSE LAYER IN THE SAME SCALE AS 32*32*3 more neurons added\n",
        "model.add(Dense(500,activation='relu'))\n",
        "\n",
        "#final output layer\n",
        " # no of neurons = one per class for classification problem\n",
        " #softmax for multiclass problem\n",
        "model.add(Dense(10,activation='softmax'))\n",
        "\n",
        "model.compile(loss='categorical_crossentropy',optimizer='adam',\n",
        "              metrics=['accuracy']\n",
        "              )\n"
      ],
      "execution_count": 0,
      "outputs": []
    },
    {
      "cell_type": "code",
      "metadata": {
        "id": "iFMcuzop7uEH",
        "colab_type": "code",
        "outputId": "4e71d8e9-9be4-4ee7-d4ca-a884b95ea57a",
        "colab": {
          "base_uri": "https://localhost:8080/",
          "height": 444
        }
      },
      "source": [
        "model.summary()"
      ],
      "execution_count": 0,
      "outputs": [
        {
          "output_type": "stream",
          "text": [
            "Model: \"sequential_14\"\n",
            "_________________________________________________________________\n",
            "Layer (type)                 Output Shape              Param #   \n",
            "=================================================================\n",
            "conv2d_40 (Conv2D)           (None, 29, 29, 32)        1568      \n",
            "_________________________________________________________________\n",
            "max_pooling2d_27 (MaxPooling (None, 14, 14, 32)        0         \n",
            "_________________________________________________________________\n",
            "conv2d_41 (Conv2D)           (None, 11, 11, 42)        21546     \n",
            "_________________________________________________________________\n",
            "max_pooling2d_28 (MaxPooling (None, 5, 5, 42)          0         \n",
            "_________________________________________________________________\n",
            "conv2d_42 (Conv2D)           (None, 2, 2, 52)          34996     \n",
            "_________________________________________________________________\n",
            "flatten_10 (Flatten)         (None, 208)               0         \n",
            "_________________________________________________________________\n",
            "dense_20 (Dense)             (None, 500)               104500    \n",
            "_________________________________________________________________\n",
            "dense_21 (Dense)             (None, 10)                5010      \n",
            "=================================================================\n",
            "Total params: 167,620\n",
            "Trainable params: 167,620\n",
            "Non-trainable params: 0\n",
            "_________________________________________________________________\n"
          ],
          "name": "stdout"
        }
      ]
    },
    {
      "cell_type": "code",
      "metadata": {
        "id": "nsKxm61Q7wM-",
        "colab_type": "code",
        "colab": {}
      },
      "source": [
        "from tensorflow.keras.callbacks import EarlyStopping\n",
        "early_stop = EarlyStopping(monitor='val_loss',patience=1)\n"
      ],
      "execution_count": 0,
      "outputs": []
    },
    {
      "cell_type": "code",
      "metadata": {
        "id": "3FK8M2hq78Pd",
        "colab_type": "code",
        "outputId": "96fa6795-7951-4f8a-9db3-91a90eb064de",
        "colab": {
          "base_uri": "https://localhost:8080/",
          "height": 339
        }
      },
      "source": [
        "model.fit(\n",
        "    x_train,\n",
        "    y_cat_train,\n",
        "    epochs=10,\n",
        "    validation_data=(x_test,y_cat_test),\n",
        "    callbacks=[early_stop]\n",
        "    )"
      ],
      "execution_count": 0,
      "outputs": [
        {
          "output_type": "stream",
          "text": [
            "Epoch 1/10\n",
            "1563/1563 [==============================] - 12s 8ms/step - loss: 1.5547 - accuracy: 0.4273 - val_loss: 1.2981 - val_accuracy: 0.5306\n",
            "Epoch 2/10\n",
            "1563/1563 [==============================] - 12s 8ms/step - loss: 1.2161 - accuracy: 0.5670 - val_loss: 1.1429 - val_accuracy: 0.5931\n",
            "Epoch 3/10\n",
            "1563/1563 [==============================] - 12s 8ms/step - loss: 1.0829 - accuracy: 0.6149 - val_loss: 1.0943 - val_accuracy: 0.6113\n",
            "Epoch 4/10\n",
            "1563/1563 [==============================] - 12s 8ms/step - loss: 0.9926 - accuracy: 0.6471 - val_loss: 1.0739 - val_accuracy: 0.6250\n",
            "Epoch 5/10\n",
            "1563/1563 [==============================] - 12s 8ms/step - loss: 0.9248 - accuracy: 0.6733 - val_loss: 1.0233 - val_accuracy: 0.6481\n",
            "Epoch 6/10\n",
            "1563/1563 [==============================] - 12s 8ms/step - loss: 0.8676 - accuracy: 0.6918 - val_loss: 0.9837 - val_accuracy: 0.6487\n",
            "Epoch 7/10\n",
            "1563/1563 [==============================] - 12s 8ms/step - loss: 0.8235 - accuracy: 0.7099 - val_loss: 0.9411 - val_accuracy: 0.6741\n",
            "Epoch 8/10\n",
            "1563/1563 [==============================] - 12s 8ms/step - loss: 0.7794 - accuracy: 0.7216 - val_loss: 0.9811 - val_accuracy: 0.6633\n"
          ],
          "name": "stdout"
        },
        {
          "output_type": "execute_result",
          "data": {
            "text/plain": [
              "<tensorflow.python.keras.callbacks.History at 0x7ffa37f31d30>"
            ]
          },
          "metadata": {
            "tags": []
          },
          "execution_count": 134
        }
      ]
    },
    {
      "cell_type": "code",
      "metadata": {
        "id": "vZyStIMf8y9P",
        "colab_type": "code",
        "outputId": "f79c950d-4308-4c89-a98b-9a64b98b8778",
        "colab": {
          "base_uri": "https://localhost:8080/",
          "height": 531
        }
      },
      "source": [
        "metrics=pd.DataFrame(model.history.history)\n",
        "metrics[['loss','val_loss']].plot()\n",
        "\n",
        "metrics[['accuracy','val_accuracy']].plot()"
      ],
      "execution_count": 0,
      "outputs": [
        {
          "output_type": "execute_result",
          "data": {
            "text/plain": [
              "<matplotlib.axes._subplots.AxesSubplot at 0x7ffa37dc0240>"
            ]
          },
          "metadata": {
            "tags": []
          },
          "execution_count": 135
        },
        {
          "output_type": "display_data",
          "data": {
            "image/png": "[encoded data removed]",
            "text/plain": [
              "<Figure size 432x288 with 1 Axes>"
            ]
          },
          "metadata": {
            "tags": [],
            "needs_background": "light"
          }
        },
        {
          "output_type": "display_data",
          "data": {
            "image/png": "[encoded data removed]",
            "text/plain": [
              "<Figure size 432x288 with 1 Axes>"
            ]
          },
          "metadata": {
            "tags": [],
            "needs_background": "light"
          }
        }
      ]
    },
    {
      "cell_type": "code",
      "metadata": {
        "id": "sINjZv3WCiSb",
        "colab_type": "code",
        "outputId": "c60c8990-d83c-4bda-b7eb-0a6992a1acdd",
        "colab": {
          "base_uri": "https://localhost:8080/",
          "height": 52
        }
      },
      "source": [
        "model.evaluate(x_test,y_cat_test) #last loop validation"
      ],
      "execution_count": 0,
      "outputs": [
        {
          "output_type": "stream",
          "text": [
            "313/313 [==============================] - 1s 4ms/step - loss: 0.9811 - accuracy: 0.6633\n"
          ],
          "name": "stdout"
        },
        {
          "output_type": "execute_result",
          "data": {
            "text/plain": [
              "[0.9811445474624634, 0.6632999777793884]"
            ]
          },
          "metadata": {
            "tags": []
          },
          "execution_count": 136
        }
      ]
    },
    {
      "cell_type": "code",
      "metadata": {
        "id": "w5Gr5VuY87XL",
        "colab_type": "code",
        "outputId": "c5a134c8-14d1-4327-fa0f-1eab358ae943",
        "colab": {
          "base_uri": "https://localhost:8080/",
          "height": 319
        }
      },
      "source": [
        "from sklearn.metrics import classification_report,confusion_matrix\n",
        "\n",
        "predictions=model.predict_classes(x_test)\n",
        "confusion_matrix(y_test,predictions)\n",
        "\n",
        "print(classification_report(y_test,predictions))"
      ],
      "execution_count": 0,
      "outputs": [
        {
          "output_type": "stream",
          "text": [
            "              precision    recall  f1-score   support\n",
            "\n",
            "           0       0.70      0.70      0.70      1000\n",
            "           1       0.74      0.87      0.80      1000\n",
            "           2       0.54      0.57      0.56      1000\n",
            "           3       0.43      0.51      0.47      1000\n",
            "           4       0.67      0.55      0.60      1000\n",
            "           5       0.48      0.66      0.55      1000\n",
            "           6       0.80      0.74      0.77      1000\n",
            "           7       0.79      0.68      0.73      1000\n",
            "           8       0.84      0.68      0.75      1000\n",
            "           9       0.85      0.68      0.76      1000\n",
            "\n",
            "    accuracy                           0.66     10000\n",
            "   macro avg       0.68      0.66      0.67     10000\n",
            "weighted avg       0.68      0.66      0.67     10000\n",
            "\n"
          ],
          "name": "stdout"
        }
      ]
    },
    {
      "cell_type": "code",
      "metadata": {
        "id": "8X0WNZhD9Skv",
        "colab_type": "code",
        "outputId": "4d970add-3a41-4042-f4fe-b043738ff471",
        "colab": {
          "base_uri": "https://localhost:8080/",
          "height": 195
        }
      },
      "source": [
        "confusion_matrix(y_test,predictions)"
      ],
      "execution_count": 0,
      "outputs": [
        {
          "output_type": "execute_result",
          "data": {
            "text/plain": [
              "array([[697,  46,  94,  43,  18,  13,   9,   5,  46,  29],\n",
              "       [ 20, 871,   7,  15,   5,  16,   9,   3,  15,  39],\n",
              "       [ 59,   9, 575,  89,  60, 123,  39,  30,   8,   8],\n",
              "       [ 10,  12,  83, 507,  40, 267,  42,  19,  10,  10],\n",
              "       [ 21,   4, 116, 112, 551,  81,  48,  53,  12,   2],\n",
              "       [  9,   9,  51, 171,  35, 659,  19,  41,   3,   3],\n",
              "       [  4,  10,  70,  82,  30,  57, 736,   6,   5,   0],\n",
              "       [ 15,   4,  29,  70,  77, 120,   2, 675,   1,   7],\n",
              "       [125,  74,  22,  44,   7,  19,   3,   5, 681,  20],\n",
              "       [ 29, 138,  22,  40,   3,  22,  13,  21,  31, 681]])"
            ]
          },
          "metadata": {
            "tags": []
          },
          "execution_count": 138
        }
      ]
    },
    {
      "cell_type": "code",
      "metadata": {
        "id": "nedeBcfg-YmO",
        "colab_type": "code",
        "outputId": "c2d72d5d-ecca-4d55-d138-c0d5d4b350d8",
        "colab": {
          "base_uri": "https://localhost:8080/",
          "height": 448
        }
      },
      "source": [
        "plt.figure(figsize=(10,6))\n",
        "import seaborn as sns\n",
        "sns.heatmap(confusion_matrix(y_test,predictions))"
      ],
      "execution_count": 0,
      "outputs": [
        {
          "output_type": "stream",
          "text": [
            "/usr/local/lib/python3.6/dist-packages/statsmodels/tools/_testing.py:19: FutureWarning: pandas.util.testing is deprecated. Use the functions in the public API at pandas.testing instead.\n",
            "  import pandas.util.testing as tm\n"
          ],
          "name": "stderr"
        },
        {
          "output_type": "execute_result",
          "data": {
            "text/plain": [
              "<matplotlib.axes._subplots.AxesSubplot at 0x7ffa2a253a20>"
            ]
          },
          "metadata": {
            "tags": []
          },
          "execution_count": 139
        },
        {
          "output_type": "display_data",
          "data": {
            "image/png": "[encoded data removed]",
            "text/plain": [
              "<Figure size 720x432 with 2 Axes>"
            ]
          },
          "metadata": {
            "tags": [],
            "needs_background": "light"
          }
        }
      ]
    },
    {
      "cell_type": "code",
      "metadata": {
        "id": "onLXerRK-9s_",
        "colab_type": "code",
        "outputId": "962d00b5-1169-494b-b079-dab349d379e9",
        "colab": {
          "base_uri": "https://localhost:8080/",
          "height": 284
        }
      },
      "source": [
        "my_number=x_test[0]\n",
        "plt.imshow(my_number)\n"
      ],
      "execution_count": 0,
      "outputs": [
        {
          "output_type": "execute_result",
          "data": {
            "text/plain": [
              "<matplotlib.image.AxesImage at 0x7ffa277ac828>"
            ]
          },
          "metadata": {
            "tags": []
          },
          "execution_count": 140
        },
        {
          "output_type": "display_data",
          "data": {
            "image/png": "[encoded data removed]",
            "text/plain": [
              "<Figure size 432x288 with 1 Axes>"
            ]
          },
          "metadata": {
            "tags": [],
            "needs_background": "light"
          }
        }
      ]
    },
    {
      "cell_type": "code",
      "metadata": {
        "id": "oKI2MtFQE6Gj",
        "colab_type": "code",
        "outputId": "e296115f-3e29-46bc-88ab-075e0316e158",
        "colab": {
          "base_uri": "https://localhost:8080/",
          "height": 35
        }
      },
      "source": [
        "model.predict_classes(my_number.reshape(1,32,32,3))"
      ],
      "execution_count": 0,
      "outputs": [
        {
          "output_type": "execute_result",
          "data": {
            "text/plain": [
              "array([3])"
            ]
          },
          "metadata": {
            "tags": []
          },
          "execution_count": 142
        }
      ]
    },
    {
      "cell_type": "code",
      "metadata": {
        "id": "EX7mOnURE8kJ",
        "colab_type": "code",
        "colab": {}
      },
      "source": [
        ""
      ],
      "execution_count": 0,
      "outputs": []
    }
  ]
}